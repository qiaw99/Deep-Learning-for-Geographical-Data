{
 "cells": [
  {
   "cell_type": "markdown",
   "metadata": {},
   "source": [
    "\n",
    "# Tutorial 17 - LSTM with Keras and TensorFlow"
   ]
  },
  {
   "cell_type": "markdown",
   "metadata": {},
   "source": [
    "## Setup GPU & TensorFlow"
   ]
  },
  {
   "cell_type": "code",
   "execution_count": null,
   "metadata": {},
   "outputs": [],
   "source": [
    "# Choose to the GPU number you want to use,\n",
    "# otherwise you will get a Python error\n",
    "# e.g. USE_GPU = 4\n",
    "USE_GPU = X # YOUR_CHOICE"
   ]
  },
  {
   "cell_type": "code",
   "execution_count": null,
   "metadata": {},
   "outputs": [],
   "source": [
    "# Import TensorFlow \n",
    "import tensorflow as tf\n",
    "\n",
    "# Print the installed TensorFlow version\n",
    "print(f'TensorFlow version: {tf.__version__}\\n')\n",
    "\n",
    "# Get all GPU devices on this server\n",
    "gpu_devices = tf.config.list_physical_devices('GPU')\n",
    "\n",
    "# Print the name and the type of all GPU devices\n",
    "print('Available GPU Devices:')\n",
    "for gpu in gpu_devices:\n",
    "    print(' ', gpu.name, gpu.device_type)\n",
    "    \n",
    "# Set only the GPU specified as USE_GPU to be visible\n",
    "tf.config.set_visible_devices(gpu_devices[USE_GPU], 'GPU')\n",
    "\n",
    "# Get all visible GPU  devices on this server\n",
    "visible_devices = tf.config.get_visible_devices('GPU')\n",
    "\n",
    "# Print the name and the type of all visible GPU devices\n",
    "print('\\nVisible GPU Devices:')\n",
    "for gpu in visible_devices:\n",
    "    print(' ', gpu.name, gpu.device_type)\n",
    "    \n",
    "# Set the visible device(s) to not allocate all available memory at once,\n",
    "# but rather let the memory grow whenever needed\n",
    "for gpu in visible_devices:\n",
    "    tf.config.experimental.set_memory_growth(gpu, True)"
   ]
  },
  {
   "cell_type": "markdown",
   "metadata": {},
   "source": [
    "## LSTM with Keras and TensorFlow\n",
    "\n",
    "So far, the neural networks that we have examined have always had _forward connections_, meaning that each hidden layer always connects to the next hidden layer, and the final hidden layer always connects to the output layer. This manner to connect layers is the reason that these networks are called “feedforward”. \n",
    "\n",
    "### LEARNING OBJECTIVES\n",
    "\n",
    "* understand the anatomy of LSTM networks\n",
    "* learn the available recurrent layer types in TensorFlow\n",
    "* learn how to use recurrent layers sequence prediction\n",
    "\n",
    "__Recurrent neural networks__ are more flexible, as backward connections are also allowed. A recurrent connection links a neuron in a layer to either a previous layer or the neuron itself.  Most recurrent neural network architectures maintain state in the recurrent connections.  Feedforward neural networks don’t maintain any state.  A recurrent neural network’s state acts as a sort of short-term memory for the neural network.  Consequently, a recurrent neural network will not always produce the same output for a given input.\n",
    "\n",
    "Recurrent neural networks do not force the connections to flow only from one layer to the next, from input layer to output layer.\n",
    "\n",
    "A recurrent connection occurs when a connection is formed between a neuron and one of the following other types of neurons:\n",
    "\n",
    "* The neuron itself\n",
    "* A neuron on the same level\n",
    "* A neuron on a previous level\n",
    "\n",
    "Recurrent connections can never target the input neurons or the bias neurons.  \n",
    "The processing of recurrent connections can be challenging. Because the recurrent links create endless loops, the neural network must have some way to know when to stop.  A neural network that entered an endless loop would not be useful.  To prevent endless loops, we can calculate the recurrent connections with the following three approaches:\n",
    "\n",
    "* Context neurons\n",
    "* Calculating output over a fixed number of iterations\n",
    "* Calculating output until neuron output stabilizes\n",
    "\n",
    "The __context neuron__ is a special neuron type that remembers its input and provides that input as its output the next time that we calculate the network.  For example, if we gave a context neuron 0.5 as input, it would output 0.  Context neurons always output 0 on their first call.  However, if we gave the context neuron a 0.6 as input, the output would be 0.5.  We never weight the input connections to a context neuron, but we can weight the output from a context neuron just like any other connection in a network.  \n",
    "\n",
    "Context neurons allow us to calculate a neural network in a single feedforward pass.  Context neurons usually occur in layers.  A layer of context neurons will always have the same number of context neurons as neurons in its source layer, as demonstrated by Figure 1.CTX.\n",
    " \n",
    " <img src= \"images/CTX_context layers_2.png\" />\n",
    "    \n",
    "    \n",
    "\n",
    "**Figure 1.CTX: Context Layers**\n",
    "\n",
    "\n",
    "As you can see from the above layer, two hidden neurons that are labeled hidden 1 and hidden 2 directly connect to the two context neurons.  The dashed lines on these connections indicate that these are not weighted connections. These weightless connections are never dense.  If these connections were dense, hidden 1 would be connected to both hidden 1 and hidden 2.  However, the direct connection simply joins each hidden neuron to its corresponding context neuron.  The two context neurons form dense, weighted connections to the two hidden neurons.  Finally, the two hidden neurons also form dense connections to the neurons in the next layer.  The two context neurons would form two connections to a single neuron in the next layer, four connections to two neurons, six connections to three neurons, and so on.\n",
    "\n",
    "You can combine context neurons with the input, hidden, and output layers of a neural network in many different ways. "
   ]
  },
  {
   "cell_type": "markdown",
   "metadata": {},
   "source": [
    "### Understanding LSTM\n",
    "\n",
    "Long Short Term Neural Network (LSTM) are a type of recurrent unit that is often used with deep neural networks.[[Cite:hochreiter1997long]](http://citeseerx.ist.psu.edu/viewdoc/download?doi=10.1.1.676.4320)  For TensorFlow, LSTM can be thought of as a layer type that can be combined with other layer types, such as dense.  LSTM makes use two activation function types internally.  \n",
    "\n",
    "The first type of activation function is the sigmoid.  This activation function type is used form gates inside of the unit.  The sigmoid  function is given by the following equation:\n",
    "\n",
    "$ \\mbox{S}(t) = \\frac{1}{1 + e^{-t}} $\n",
    "\n",
    "The second type of transfer function is the hyperbolic tangent (tanh) function.  This function is used to scale the output of the LSTM, similarly to how other activation functions have been used in this course.  \n",
    "\n",
    "Both of these two functions compress their output to a specific range.  For the sigmoid function, this range is 0 to 1.  For the hyperbolic tangent function, this range is -1 to 1."
   ]
  },
  {
   "cell_type": "markdown",
   "metadata": {},
   "source": [
    "\n",
    "__LSTM maintains an internal state and produces an output.__\n",
    "\n",
    "The following diagram shows an LSTM unit over three time slices: the current time slice (t), as well as the previous (t-1) and next (t+1) slice, as demonstrated by Figure 2.LSTM.\n",
    "\n",
    "**Figure 2.LSTM: LSTM Layers**\n",
    "\n",
    "<img src =\"images/LSTM Layers.png\"  style=\"width:400px;height:300px\" >\n",
    "\n",
    "The values $\\hat{y}$ are the output from the unit, the values ($x$) are the input to the unit and the values $c$ are the context values.  Both the output and context values are always fed to the next time slice.  The context values allow the network to maintain state between calls.  Figure 10.ILSTM shows the internals of a LSTM layer.\n",
    "\n",
    "**Figure 3.ILSTM: Inside a LSTM Layer**\n",
    "\n",
    "<img src =\"images/Inside_LSTM_Layer.png\"  style=\"width:800px;height:600px\">\n",
    "\n",
    "LSTM is made up of three gates:\n",
    "\n",
    "* Forget Gate ($f_t$) - Controls if/when the context is forgotten. (MC)\n",
    "* Input Gate ($i_t$) - Controls if/when a value should be remembered by the context. (M+/MS)\n",
    "* Output Gate ($o_t$) - Controls if/when the remembered value is allowed to pass from the unit. (RM)\n",
    "Mathematically, the above diagram can be thought of as the following:\n",
    "**These are vector values.**\n",
    "First, calculate the forget gate value.  This gate determines if the short term memory is forgotten.  The value $b$ is a bias, just like the bias neurons we saw before.  Except LSTM has a bias for every gate: $b_t$, $b_i$, and $b_o$.\n",
    "\n",
    "$ f_t = S(W_f \\cdot [\\hat{y}_{t-1}, x_t] + b_f) $\n",
    "\n",
    "$ i_t = S(W_i \\cdot [\\hat{y}_{t-1},x_t] + b_i) $\n",
    "\n",
    "$ \\tilde{C}_t = \\tanh(W_C \\cdot [\\hat{y}_{t-1},x_t]+b_C) $\n",
    "\n",
    "$ C_t = f_t \\cdot C_{t-1}+i_t \\cdot \\tilde{C}_t $\n",
    "\n",
    "$ o_t = S(W_o \\cdot [\\hat{y}_{t-1},x_t] + b_o ) $\n",
    "\n",
    "$ \\hat{y}_t = o_t \\cdot \\tanh(C_t) $\n"
   ]
  },
  {
   "cell_type": "markdown",
   "metadata": {},
   "source": [
    "### Recurrent layers available in TensorFlow \n",
    "\n",
    "Built-in RNN layers: a simple example\n",
    "There are three built-in RNN layers in Keras:\n",
    "\n",
    "[keras.layers.SimpleRNN](https://www.tensorflow.org/api_docs/python/tf/keras/layers/SimpleRNN), a fully-connected RNN where the output from previous timestep is to be fed to next timestep.\n",
    "\n",
    "[keras.layers.GRU](https://www.tensorflow.org/api_docs/python/tf/keras/layers/GRU), first proposed in Cho et al., 2014.\n",
    "\n",
    "[keras.layers.LSTM](https://www.tensorflow.org/api_docs/python/tf/keras/layers/LSTM), first proposed in Hochreiter & Schmidhuber, 1997.\n",
    "\n",
    "\n",
    "#### Stateful vs. Stateless LSTM\n",
    "\n",
    "\n",
    "1. **Stateless**: LSTM updates parameters on **batch 1** and then initiates cell states (meaning - memory, usually with zeros) for **batch 2** \n",
    "2. **Stateful**: it uses batch 1 last output cell sates as initial states for batch 2.\n",
    "\n",
    "#### When to use which?\n",
    "----------------\n",
    "\n",
    "- When  sequences in batches are related to each other (e.g. prices of one commodity), we should better use **stateful** mode\n",
    "- Else, when one sequence represents a complete sentence, we  should go with **stateless** mode"
   ]
  },
  {
   "cell_type": "markdown",
   "metadata": {},
   "source": [
    "### Simple LSTM Example in TensorFlow\n",
    "\n",
    "The following code creates the LSTM network.  This is an example of RNN classification.  The following code trains on a data set (x) with a max sequence size of 6 (columns) and 6 training elements (rows)"
   ]
  },
  {
   "cell_type": "code",
   "execution_count": null,
   "metadata": {},
   "outputs": [],
   "source": [
    "from tensorflow.keras.preprocessing import sequence\n",
    "from tensorflow.keras.models import Sequential\n",
    "from tensorflow.keras.layers import Dense, Embedding\n",
    "from tensorflow.keras.layers import LSTM\n",
    "import numpy as np"
   ]
  },
  {
   "cell_type": "code",
   "execution_count": null,
   "metadata": {},
   "outputs": [],
   "source": [
    "max_features = 4 # 0,1,2,3 (total of 4)\n",
    "x = [\n",
    "    [[0],[1],[1],[0],[0],[0]],\n",
    "    [[0],[0],[0],[2],[2],[0]],\n",
    "    [[0],[0],[0],[0],[3],[3]],\n",
    "    [[0],[2],[2],[0],[0],[0]],\n",
    "    [[0],[0],[3],[3],[0],[0]],\n",
    "    [[0],[0],[0],[0],[1],[1]]\n",
    "]\n",
    "x = np.array(x,dtype=np.float32)\n",
    "\n",
    "\n",
    "print (f\"Input size is: {x.shape[0]} example sequences and  {x.shape[1]} sequence length\")\n",
    "y = np.array([1,2,3,2,3,1],dtype=np.int32)\n",
    "\n",
    "# Convert y2 to dummy variables\n",
    "y2 = np.zeros((y.shape[0], max_features),dtype=np.float32)\n",
    "y2[np.arange(y.shape[0]), y] = 1.0\n",
    "print('One-hot encoded representation for the outputs:', y2)"
   ]
  },
  {
   "cell_type": "code",
   "execution_count": null,
   "metadata": {},
   "outputs": [],
   "source": [
    "print('Build model...')\n",
    "model = Sequential()\n",
    "model.add(LSTM(units =128, dropout=0.2, recurrent_dropout=0.2,stateful=False,name ='first_lstm', input_shape=(None,1)))  # inputs: A 3D tensor with shape [batch, timesteps, feature].\n",
    "model.add(Dense(4, activation='sigmoid'))\n",
    "model.summary()"
   ]
  },
  {
   "cell_type": "code",
   "execution_count": null,
   "metadata": {},
   "outputs": [],
   "source": [
    "# try using different optimizers and different optimizer configs\n",
    "model.compile(loss='binary_crossentropy',\n",
    "              optimizer='adam',\n",
    "              metrics=['accuracy'])\n",
    "\n",
    "print('Train...')\n",
    "model.fit(x,y2,epochs=20)\n",
    "pred = model.predict(x)\n",
    "predict_classes = np.argmax(pred,axis=1)\n",
    "print(\"Predicted classes: {}\",predict_classes)\n",
    "print(\"Expected classes: {}\",predict_classes)"
   ]
  },
  {
   "cell_type": "code",
   "execution_count": null,
   "metadata": {},
   "outputs": [],
   "source": [
    "first_layer = model.get_layer('first_lstm' )\n",
    "first_layer.states"
   ]
  },
  {
   "cell_type": "code",
   "execution_count": null,
   "metadata": {},
   "outputs": [],
   "source": [
    "def runit(model, inp):\n",
    "    inp = np.array(inp,dtype=np.float32)\n",
    "    pred = model.predict(inp)\n",
    "    return np.argmax(pred[0])\n",
    "\n",
    "print( runit( model, [[[0],[0],[0],[0],[0],[1]]] ))\n"
   ]
  },
  {
   "cell_type": "markdown",
   "metadata": {},
   "source": [
    "How to cumpute the number of parameters for a LSTM layer?\n",
    "--------------------------------\n",
    "\n",
    "1. To decide how to handle the memory each LSTM Cell has <bold>3 Gates</bold>: \n",
    "    - input (what to let in), \n",
    "    - forget (what to forget) and \n",
    "    - output (what to write to the output)\n",
    "2. LSTM **Cell State** is its **memory**\n",
    "3. LSTM Hidden State is equivalent to the Cell output:\n",
    "    - lstm_hidden_state_size (number of neurons = memory cells) = lstm_outputs_size\n",
    "4. Parameters:\n",
    "    - weights for the inputs (lstm_inputs_size)\n",
    "    - weights for the outputs (lstm_outputs_size)\n",
    "    - bias variable\n",
    "5.  Result from previous point - for all 3 Gates and for Cell State ( = 4)  \n",
    "   \n",
    "    \\begin{equation}\n",
    "          \\textbf{PARAMETERS} = \\textbf4 \\times \\textbf{ LSTM outputs size} \\times (\\textbf{weights LSTM inputs size} + \\textbf{weights LSTM outputs size} + 1 \\textbf{ bias variable})\n",
    "    \\end{equation}"
   ]
  },
  {
   "cell_type": "markdown",
   "metadata": {},
   "source": [
    "## Further reading on LSTM/recurrent neural networks.\n",
    "\n",
    "* [Understanding LSTM Networks](http://colah.github.io/posts/2015-08-Understanding-LSTMs/)\n"
   ]
  },
  {
   "cell_type": "code",
   "execution_count": null,
   "metadata": {},
   "outputs": [],
   "source": []
  }
 ],
 "metadata": {
  "anaconda-cloud": {},
  "kernelspec": {
   "display_name": "Python 3",
   "language": "python",
   "name": "python3"
  },
  "language_info": {
   "codemirror_mode": {
    "name": "ipython",
    "version": 3
   },
   "file_extension": ".py",
   "mimetype": "text/x-python",
   "name": "python",
   "nbconvert_exporter": "python",
   "pygments_lexer": "ipython3",
   "version": "3.7.8"
  }
 },
 "nbformat": 4,
 "nbformat_minor": 4
}