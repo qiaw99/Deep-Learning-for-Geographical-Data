{
 "cells": [
  {
   "cell_type": "markdown",
   "metadata": {},
   "source": [
    "# Exercise 09 - Semantic segmentation for rasterized LiDAR data"
   ]
  },
  {
   "cell_type": "markdown",
   "metadata": {},
   "source": [
    "## Setup DevCube GPU"
   ]
  },
  {
   "cell_type": "markdown",
   "metadata": {},
   "source": [
    "Before you can start, you have to find a GPU on the system that is not heavily used by other users. Otherwise you cannot initialize your neural network.\n",
    "\n",
    "\n",
    "**Hint:** the command is **nvidia-smi**, just in case it is displayed above in two lines because of a line break.\n",
    "\n",
    "As a result you get a summary of the GPUs available in the system, their current memory usage (in MiB for megabytes), and their current utilization (in %). There should be six or eight GPUs listed and these are numbered 0 to n-1 (n being the number of GPUs). The GPU numbers (ids) are quite at the beginning of each GPU section and their numbers increase from top to bottom by 1.\n",
    "\n",
    "Find a GPU where the memory usage is low. For this purpose look at the memory usage, which looks something like '365MiB / 16125MiB'. The first value is the already used up memory and the second value is the total memory of the GPU. Look for a GPU where there is a large difference between the first and the second value.\n",
    "\n",
    "**Remember the GPU id and write it in the next line instead of the character X.**"
   ]
  },
  {
   "cell_type": "code",
   "execution_count": 1,
   "metadata": {},
   "outputs": [],
   "source": [
    "# Choose to the GPU number you want to use,\n",
    "# otherwise you will get a Python error\n",
    "# e.g. USE_GPU = 4\n",
    "USE_GPU = 4 # YOUR_CHOICE"
   ]
  },
  {
   "cell_type": "markdown",
   "metadata": {},
   "source": [
    "### Choose one GPU\n",
    "\n",
    "**The following code is very important and must always be executed before using TensorFlow in the exercises, so that only one GPU is used and that it is set in a way that not all its memory is used at once. Otherwise, the other students will not be able to work with this GPU.**\n",
    "\n",
    "The following program code imports the TensorFlow library for Deep Learning and outputs the version of the library.\n",
    "\n",
    "Then, TensorFlow is configured to only see the one GPU whose number you wrote in the above cell (USE_GPU = X) instead of the X.\n",
    "\n",
    "Finally, the GPU is set so that it does not immediately reserve all memory, but only uses more memory when needed. \n",
    "\n",
    "(The comments within the code cell explains a bit of what is happening if you are interested to better understand it. See also the documentation of TensorFlow for an explanation of the used methods.)"
   ]
  },
  {
   "cell_type": "code",
   "execution_count": 2,
   "metadata": {},
   "outputs": [
    {
     "name": "stdout",
     "output_type": "stream",
     "text": [
      "TensorFlow version: 2.3.0\n",
      "\n",
      "Available GPU Devices:\n",
      "  /physical_device:GPU:0 GPU\n",
      "  /physical_device:GPU:1 GPU\n",
      "  /physical_device:GPU:2 GPU\n",
      "  /physical_device:GPU:3 GPU\n",
      "  /physical_device:GPU:4 GPU\n",
      "  /physical_device:GPU:5 GPU\n",
      "  /physical_device:GPU:6 GPU\n",
      "  /physical_device:GPU:7 GPU\n",
      "\n",
      "Visible GPU Devices:\n",
      "  /physical_device:GPU:4 GPU\n"
     ]
    }
   ],
   "source": [
    "# Import TensorFlow \n",
    "import tensorflow as tf\n",
    "\n",
    "# Print the installed TensorFlow version\n",
    "print(f'TensorFlow version: {tf.__version__}\\n')\n",
    "\n",
    "# Get all GPU devices on this server\n",
    "gpu_devices = tf.config.list_physical_devices('GPU')\n",
    "\n",
    "# Print the name and the type of all GPU devices\n",
    "print('Available GPU Devices:')\n",
    "for gpu in gpu_devices:\n",
    "    print(' ', gpu.name, gpu.device_type)\n",
    "    \n",
    "# Set only the GPU specified as USE_GPU to be visible\n",
    "tf.config.set_visible_devices(gpu_devices[USE_GPU], 'GPU')\n",
    "\n",
    "# Get all visible GPU  devices on this server\n",
    "visible_devices = tf.config.get_visible_devices('GPU')\n",
    "\n",
    "# Print the name and the type of all visible GPU devices\n",
    "print('\\nVisible GPU Devices:')\n",
    "for gpu in visible_devices:\n",
    "    print(' ', gpu.name, gpu.device_type)\n",
    "    \n",
    "# Set the visible device(s) to not allocate all available memory at once,\n",
    "# but rather let the memory grow whenever needed\n",
    "for gpu in visible_devices:\n",
    "    tf.config.experimental.set_memory_growth(gpu, True)"
   ]
  },
  {
   "cell_type": "code",
   "execution_count": 4,
   "metadata": {},
   "outputs": [],
   "source": [
    "%matplotlib inline\n",
    "\n",
    "import matplotlib.pyplot as plt\n",
    "import os\n",
    "import numpy as np\n",
    "import seaborn as sns\n",
    "import generator_segmentation_5cl"
   ]
  },
  {
   "cell_type": "markdown",
   "metadata": {},
   "source": [
    "## Semantic segmentation for rasterized LiDAR data\n",
    "\n",
    "Roof segmentation is an important processing stage in the 3D building reconstruction pipeline, e.g. from aerial 3D point clouds.\n",
    "\n",
    "In this exercise you will learn how to build a Fully Convolutional Neural Network for semantic image segmentation.\n",
    "\n",
    "### LEARNING OBJECTIVES\n",
    "\n",
    "*  understand the particulatities of the semantic segmentation task (input, output dimensions, cost function)\n",
    "* learn to build a convolutional encoder-architecture using various techniques for down-sampling and up-sampling\n",
    "* undestand the metrics for semantic segmentation\n",
    "\n",
    "You will train the model on a custom dataset preparde at our chair. It is a small subset from the dataset RoofNet3D. In order to be processable with 2D Convolutional architectures, the LIDAR point clouds representing a single roof type in the data, have been projected onto the horizontal plane. The resulting 2D images (height maps or rasters) have values that indicate the height of the interpolated z- values of the point falling in the respective cell. \n",
    "\n",
    "In the data, the classes are not equally represented, the Pyramid, Saddleback and Two-sided hip roof types, earch roof including 4, 4 and 2 roof segments respectively and the background as segmentation classes."
   ]
  },
  {
   "cell_type": "markdown",
   "metadata": {},
   "source": [
    "### Metrics for semnatic segmentation\n",
    "The Intersection over Union (IoU) metric, also referred to as the Jaccard index, is a method to quantify the percent overlap between the target mask and our prediction output.  The IoU metric measures the number of pixels common between the target and prediction masks divided by the total number of pixels present across both masks.\n",
    "\n",
    "<img src ='images/IOU.png'  width = \"450\" height = \"120\">\n",
    "\n",
    "\n",
    "The function below generates the IOU of the prediction and ground truth masks. "
   ]
  },
  {
   "cell_type": "code",
   "execution_count": 5,
   "metadata": {},
   "outputs": [],
   "source": [
    "def compute_IOU(y_true, y_pred, nr_classes):\n",
    "    \"\"\"\n",
    "      Computes IOU \n",
    "\n",
    "  Args:\n",
    "    y_true (tensor) - ground truth label map\n",
    "    y_pred (tensor) - predicted label ma\n",
    "    \"\"\"\n",
    "    class_wise_iou = []\n",
    "    smoothening_factor = 0.00001\n",
    "\n",
    "\n",
    "    for i in range(nr_classes):\n",
    "        intersection = np.sum((y_pred == i) * (y_true == i))\n",
    "        y_true_area = np.sum((y_true == i))\n",
    "        y_pred_area = np.sum((y_pred == i))\n",
    "        combined_area = y_true_area + y_pred_area\n",
    "    \n",
    "        iou = (intersection + smoothening_factor) / (combined_area - intersection + smoothening_factor)\n",
    "        class_wise_iou.append(iou)\n",
    "\n",
    "\n",
    "    return class_wise_iou"
   ]
  },
  {
   "cell_type": "markdown",
   "metadata": {},
   "source": [
    "The images contain the height maps while the\n",
    "annotations contain the pixel-wise label maps. Each label map has the shape (height, width , 1) with each point in this space denoting the corresponding pixel's class. Classes are in the range\n",
    "[0, 5]\n",
    "(i.e. 5 classes) and the pixel labels correspond to these classes:"
   ]
  },
  {
   "cell_type": "markdown",
   "metadata": {},
   "source": [
    "### Load and explore the Dataset"
   ]
  },
  {
   "cell_type": "markdown",
   "metadata": {},
   "source": [
    "Because the data has ben used to generate datasets for solving also classification tasks, the images are stored in directories according to the roof type, however this does not have an effect over your solution.\n",
    "\n",
    "The dataset is already split in training, validation and testing. \n",
    "\n",
    "For loading the data you will use the custom generator function prvided in the file `generator_segmentation_5cl.py`. "
   ]
  },
  {
   "cell_type": "markdown",
   "metadata": {},
   "source": [
    "* The height and width of the input images and label maps (64p x 64p )\n",
    "* The input images - height maps - have one channel.\n",
    "* The label maps/segmentations masks have 5 channels a pixel having the value o in all the channels excepting in the channel corresponding to its class has the value one (one hot encoded labels)."
   ]
  },
  {
   "cell_type": "code",
   "execution_count": 6,
   "metadata": {},
   "outputs": [],
   "source": [
    "class_names = ['background', 'segm_1','segm_2', 'segm_3', 'segm_4']"
   ]
  },
  {
   "cell_type": "code",
   "execution_count": 7,
   "metadata": {},
   "outputs": [],
   "source": [
    "from pathlib import Path\n",
    "ROOT = str(Path.home()) + r'/coursematerial/GIS/lidar_dataset_segmentation'\n",
    "\n",
    "data_gen_training = generator_segmentation_5cl.training_gen(dir=ROOT)"
   ]
  },
  {
   "cell_type": "code",
   "execution_count": 8,
   "metadata": {},
   "outputs": [
    {
     "name": "stdout",
     "output_type": "stream",
     "text": [
      "training\n"
     ]
    }
   ],
   "source": [
    "img_list, gt_segmentation_mask_list = next(data_gen_training)"
   ]
  },
  {
   "cell_type": "code",
   "execution_count": 9,
   "metadata": {},
   "outputs": [
    {
     "name": "stdout",
     "output_type": "stream",
     "text": [
      "---- INPUT DIMENSIONS----\n",
      "The batch size is: 32\n",
      "The input image's height is: 64 pixel\n",
      "The input image's width is: 64 pixel\n",
      "An input image has 1 channels\n",
      " \n",
      "---- OUTPUT (SEGMENTATION MASK) DIMENSIONS----\n",
      "The height of the segmentation mask is: 64 pixel\n",
      "The width of the segmentation mask is: 64 pixel\n",
      "A segmentation mask has 5 channels\n",
      " \n"
     ]
    },
    {
     "data": {
      "image/png": "[encoded data removed]",
      "text/plain": [
       "<Figure size 1152x504 with 6 Axes>"
      ]
     },
     "metadata": {
      "needs_background": "light"
     },
     "output_type": "display_data"
    }
   ],
   "source": [
    "BATCH_SIZE = generator_segmentation_5cl.BATCH_SIZE\n",
    "indx = np.random.randint(BATCH_SIZE)\n",
    "raster_img= img_list[indx,:]\n",
    "gt_segm_mask = gt_segmentation_mask_list[indx,:]\n",
    "\n",
    "print('---- INPUT DIMENSIONS----') \n",
    "print(f\"The batch size is: {BATCH_SIZE}\")\n",
    "print(f\"The input image's height is: {raster_img.shape[0]} pixel\")\n",
    "print(f\"The input image's width is: {raster_img.shape[1]} pixel\" )\n",
    "print(f'An input image has {raster_img.shape[-1]} channels')\n",
    "print(' ')\n",
    "print('---- OUTPUT (SEGMENTATION MASK) DIMENSIONS----') \n",
    "print(f\"The height of the segmentation mask is: {gt_segm_mask.shape[0]} pixel\")\n",
    "print(f\"The width of the segmentation mask is: {gt_segm_mask.shape[1]} pixel\")\n",
    "print(f'A segmentation mask has {gt_segm_mask.shape[-1]} channels')\n",
    "print(' ')\n",
    "fig_titles = ['input image'] + class_names\n",
    "fig, axs = plt.subplots(1,6)\n",
    "fig.set_figheight(7)\n",
    "fig.set_figwidth(16)\n",
    "axs[0].imshow(np.squeeze(raster_img) )\n",
    "\n",
    "axs[0].set_title(fig_titles[0])\n",
    "axs[0].axis('off')\n",
    "for i in range(len(fig_titles)-1):\n",
    "    axs[i+1].imshow(np.squeeze(gt_segm_mask[:,:,i]))\n",
    "    axs[i+1].set_title(fig_titles[i+1])\n",
    "    axs[i+1].axis('off')\n"
   ]
  },
  {
   "cell_type": "markdown",
   "metadata": {},
   "source": [
    "## Building the model using the Functional API\n",
    "\n",
    "In this exercise you will build a basic convolutional encoder - encoder decoder architecture.\n",
    "\n",
    "The _decoder part_ resembles a typical classification architecture, where stacked Conv2D layers and downsampling operations (e.g. 2D pooling or Conv 2D with stride larger than 1) are used to extract hierarchical feature representations. \n",
    "However, since the goal of the **semantic segmentation task** is to predict **a category for each input pixel**, the output has _H x W x Nr_of_classes_ shape (as in contrast to the classification where the output dimenssion is the number of classes).\n",
    "In order to gradually recover the spatial dimenssions (reduced due to pooling operations/ strides > 1) we build the _decoder part_.\n",
    "To increase the spatial dimensions of a feature map  a we can use upsampling operations such as:\n",
    "* [2D upsampling layer](https://www.tensorflow.org/versions/r2.2/api_docs/python/tf/keras/layers/Conv2DTranspose) \n",
    "or\n",
    "* [strided transposed convolution](https://www.tensorflow.org/versions/r2.2/api_docs/python/tf/keras/layers/Conv2DTranspose). For the difference please between these operations please see the lecture notes.\n"
   ]
  },
  {
   "cell_type": "markdown",
   "metadata": {},
   "source": [
    "Below you can see the encoder-decoder architecture to be implemented:\n",
    "\n",
    "<img src ='images/encoder-decoder_architecture.png'  width = \"750\" height = \"220\">"
   ]
  },
  {
   "cell_type": "code",
   "execution_count": 10,
   "metadata": {},
   "outputs": [],
   "source": [
    "INPUT_DIM = (generator_segmentation_5cl.IMAGE_HEIGHT,generator_segmentation_5cl.IMAGE_WIDTH,1)\n",
    "OUTPUT_DIM = (generator_segmentation_5cl.IMAGE_HEIGHT,generator_segmentation_5cl.IMAGE_WIDTH,generator_segmentation_5cl.NUM_CLASSES)"
   ]
  },
  {
   "cell_type": "markdown",
   "metadata": {},
   "source": [
    "### Implementation details:\n",
    "\n",
    "1) firstly use the [INPUT](https://www.tensorflow.org/versions/r2.2/api_docs/python/tf/keras/Input) class to instantiate the input tensor of `shape = INPUT_DIM`\n",
    "\n",
    "2) use a  [Conv2D](https://www.tensorflow.org/versions/r2.2/api_docs/python/tf/keras/layers/Conv2D) layer with 16 filters, kernel_size =3, and padding is 'same' that is applied to the inputs ; assign the layer/function to a variable $x$\n",
    "- apply BatchNorm to the previous output\n",
    "- apply [ELU](https://www.tensorflow.org/versions/r2.2/api_docs/python/tf/keras/layers/ELU) layer to the previous output\n",
    "- apply [MaxPool2D](https://www.tensorflow.org/versions/r2.2/api_docs/python/tf/keras/layers/MaxPool2D) with pool_size = (2,2) to the previous output\n",
    "\n",
    "\n",
    "3) use a Conv2D layer with 32 filters, kernel_size =3, and padding is 'same' (that is applied to the previous output) ; assign the layer/function to a variable  x \n",
    "- apply BatchNorm to the previous output\n",
    "- apply ELU layer to the previous output\n",
    "- apply MaxPool2D with pool_size = (2,2) to the previous output\n",
    "\n",
    "4) use a Conv2D layer with 64 filters, kernel_size =3, and padding is 'same' (that is applied to the previous output) ; assign the layer/function to a variable  x \n",
    "- apply BatchNorm to the previous output\n",
    "- apply ELU layer to the previous output\n",
    "\n",
    "\n",
    "5) use a [Conv2DTranspose](https://www.tensorflow.org/versions/r2.2/api_docs/python/tf/keras/layers/Conv2DTranspose) layer with 32 filters, kernel_size =3, strides =(2,2) and padding is 'same' (that is applied to the previous output) ; assign the layer/function to a variable x\n",
    "\n",
    "- apply BatchNorm to the previous output\n",
    "- apply ELU layer to the previous output\n",
    "\n",
    "6) use a Conv2D layer with 32 filters, kernel_size =3, and padding is 'same' (that is applied to the previous output) ; assign the layer/function to a variable x\n",
    "\n",
    "- apply BatchNorm to the previous output\n",
    "- apply ELU layer to the previous output\n",
    "\n",
    "7) use a [Conv2DTranspose](https://www.tensorflow.org/versions/r2.2/api_docs/python/tf/keras/layers/Conv2DTranspose) layer with 16 filters, kernel_size =3, strides =(2,2) and padding is 'same' (that is applied to the previous output) ; assign the layer/function to a variable x\n",
    "\n",
    "- apply BatchNorm to the previous output\n",
    "- apply ELU layer to the previous output\n",
    "\n",
    "8) use a Conv2D layer with 16 filters, kernel_size =3, and padding is 'same' (that is applied to the previous output) ; assign the layer/function to a variable x\n",
    "\n",
    "- apply BatchNorm to the previous output\n",
    "- apply ELU layer to the previous output\n",
    "\n",
    "9) use a Conv2D layer  layer with 5 filters (= the number of segmentation classes) , kernel_size =1, strides =(1,1) and padding is 'same' (that is applied to the previous output), activation = 'softmax' ; assign the layer/function to a variable `output`."
   ]
  },
  {
   "cell_type": "code",
   "execution_count": 12,
   "metadata": {},
   "outputs": [],
   "source": [
    "import tensorflow as tf"
   ]
  },
  {
   "cell_type": "code",
   "execution_count": 13,
   "metadata": {},
   "outputs": [],
   "source": [
    "from tensorflow.keras import models\n",
    "from tensorflow.keras.layers import Input, Conv2D, Conv2DTranspose,UpSampling2D, ELU, BatchNormalization, Dropout, concatenate, MaxPool2D"
   ]
  },
  {
   "cell_type": "code",
   "execution_count": 14,
   "metadata": {},
   "outputs": [],
   "source": [
    "import generator_segmentation_5cl\n",
    "bactch_size = generator_segmentation_5cl.BATCH_SIZE"
   ]
  },
  {
   "cell_type": "code",
   "execution_count": 15,
   "metadata": {},
   "outputs": [],
   "source": [
    "NUM_CLASSES = generator_segmentation_5cl.NUM_CLASSES"
   ]
  },
  {
   "cell_type": "code",
   "execution_count": 16,
   "metadata": {},
   "outputs": [
    {
     "name": "stdout",
     "output_type": "stream",
     "text": [
      "Model: \"functional_1\"\n",
      "_________________________________________________________________\n",
      "Layer (type)                 Output Shape              Param #   \n",
      "=================================================================\n",
      "input_1 (InputLayer)         [(None, 64, 64, 1)]       0         \n",
      "_________________________________________________________________\n",
      "conv2d (Conv2D)              (None, 64, 64, 16)        160       \n",
      "_________________________________________________________________\n",
      "batch_normalization (BatchNo (None, 64, 64, 16)        64        \n",
      "_________________________________________________________________\n",
      "elu (ELU)                    (None, 64, 64, 16)        0         \n",
      "_________________________________________________________________\n",
      "max_pooling2d (MaxPooling2D) (None, 32, 32, 16)        0         \n",
      "_________________________________________________________________\n",
      "conv2d_1 (Conv2D)            (None, 32, 32, 32)        4640      \n",
      "_________________________________________________________________\n",
      "batch_normalization_1 (Batch (None, 32, 32, 32)        128       \n",
      "_________________________________________________________________\n",
      "elu_1 (ELU)                  (None, 32, 32, 32)        0         \n",
      "_________________________________________________________________\n",
      "max_pooling2d_1 (MaxPooling2 (None, 16, 16, 32)        0         \n",
      "_________________________________________________________________\n",
      "conv2d_2 (Conv2D)            (None, 16, 16, 64)        18496     \n",
      "_________________________________________________________________\n",
      "batch_normalization_2 (Batch (None, 16, 16, 64)        256       \n",
      "_________________________________________________________________\n",
      "elu_2 (ELU)                  (None, 16, 16, 64)        0         \n",
      "_________________________________________________________________\n",
      "conv2d_transpose (Conv2DTran (None, 32, 32, 32)        18464     \n",
      "_________________________________________________________________\n",
      "batch_normalization_3 (Batch (None, 32, 32, 32)        128       \n",
      "_________________________________________________________________\n",
      "elu_3 (ELU)                  (None, 32, 32, 32)        0         \n",
      "_________________________________________________________________\n",
      "conv2d_3 (Conv2D)            (None, 32, 32, 32)        9248      \n",
      "_________________________________________________________________\n",
      "batch_normalization_4 (Batch (None, 32, 32, 32)        128       \n",
      "_________________________________________________________________\n",
      "elu_4 (ELU)                  (None, 32, 32, 32)        0         \n",
      "_________________________________________________________________\n",
      "conv2d_transpose_1 (Conv2DTr (None, 64, 64, 16)        4624      \n",
      "_________________________________________________________________\n",
      "batch_normalization_5 (Batch (None, 64, 64, 16)        64        \n",
      "_________________________________________________________________\n",
      "elu_5 (ELU)                  (None, 64, 64, 16)        0         \n",
      "_________________________________________________________________\n",
      "conv2d_4 (Conv2D)            (None, 64, 64, 16)        2320      \n",
      "_________________________________________________________________\n",
      "batch_normalization_6 (Batch (None, 64, 64, 16)        64        \n",
      "_________________________________________________________________\n",
      "elu_6 (ELU)                  (None, 64, 64, 16)        0         \n",
      "_________________________________________________________________\n",
      "conv2d_5 (Conv2D)            (None, 64, 64, 5)         85        \n",
      "=================================================================\n",
      "Total params: 58,869\n",
      "Trainable params: 58,453\n",
      "Non-trainable params: 416\n",
      "_________________________________________________________________\n",
      "None\n"
     ]
    }
   ],
   "source": [
    "inputs = Input(shape = INPUT_DIM)\n",
    "x = Conv2D(16, (3, 3), strides=(1, 1), padding='same')(inputs)\n",
    "x = BatchNormalization()(x)\n",
    "x = ELU()(x)\n",
    "\n",
    "x = MaxPool2D(pool_size=(2, 2))(x)\n",
    "\n",
    "x = Conv2D(32, (3,3), strides=(1,1), padding=\"same\")(x)\n",
    "x = BatchNormalization()(x)\n",
    "x = ELU()(x)\n",
    "\n",
    "x = MaxPool2D(pool_size=(2, 2))(x)\n",
    "\n",
    "x = Conv2D(64, (3,3), strides=(1,1), padding=\"same\")(x)\n",
    "x = BatchNormalization()(x)\n",
    "x = ELU()(x)\n",
    "\n",
    "x = Conv2DTranspose(32, (3,3), strides=(2,2), padding=\"same\")(x)\n",
    "x = BatchNormalization()(x)\n",
    "x = ELU()(x)\n",
    "x = Conv2D(32, (3,3), strides=(1,1), padding=\"same\")(x)\n",
    "x = BatchNormalization()(x)\n",
    "x = ELU()(x)\n",
    "x = Conv2DTranspose(16, (3,3), strides=(2,2), padding=\"same\")(x)\n",
    "x = BatchNormalization()(x)\n",
    "x = ELU()(x)\n",
    "x = Conv2D(16, (3,3), strides=(1,1), padding=\"same\")(x)\n",
    "x = BatchNormalization()(x)\n",
    "x = ELU()(x)\n",
    "outputs = Conv2D(NUM_CLASSES, (1, 1), strides=(1, 1), padding='same', activation = 'softmax')(x)\n",
    "\n",
    "\n",
    "model = models.Model(inputs,outputs)\n",
    "print(model.summary())"
   ]
  },
  {
   "cell_type": "code",
   "execution_count": 17,
   "metadata": {},
   "outputs": [],
   "source": [
    "from tensorflow.keras import optimizers\n",
    "lr = 0.01\n",
    "optimizer = optimizers.Adam()"
   ]
  },
  {
   "cell_type": "markdown",
   "metadata": {},
   "source": [
    "#### Compile the model\n",
    "\n",
    "- use as loss function categorical crossentropy\n",
    "- Adam optimizer\n",
    "- accuracy as metrics."
   ]
  },
  {
   "cell_type": "code",
   "execution_count": 18,
   "metadata": {},
   "outputs": [],
   "source": [
    "model.compile(optimizer=optimizer, \n",
    "              loss=tf.keras.losses.CategoricalCrossentropy(), \n",
    "              metrics=['accuracy'])"
   ]
  },
  {
   "cell_type": "code",
   "execution_count": 19,
   "metadata": {},
   "outputs": [],
   "source": [
    "from tensorflow.keras.callbacks import ReduceLROnPlateau, EarlyStopping\n",
    "\n",
    "reduce_lr = ReduceLROnPlateau(monitor= 'val_loss', factor = 0.1, verbose= 1, min_delta= 0.00001)\n",
    "early_stop = EarlyStopping(monitor='val_loss',\n",
    "                           min_delta=0,\n",
    "                           patience=5,\n",
    "                           verbose=2,\n",
    "                           mode='auto',\n",
    "                           baseline=None)"
   ]
  },
  {
   "cell_type": "markdown",
   "metadata": {},
   "source": [
    "### Train the model \n",
    "* on the data batches by calling the custom generator fuction\n",
    "* pass in the callbacks list the callbacks to reduce learning rate and early stopping given above\n"
   ]
  },
  {
   "cell_type": "code",
   "execution_count": 20,
   "metadata": {},
   "outputs": [],
   "source": [
    "data_gen_training = generator_segmentation_5cl.training_gen(dir=ROOT)\n",
    "data_gen_valid = generator_segmentation_5cl.validation_data_gen(dir=ROOT)\n",
    "data_gen_test = generator_segmentation_5cl.testing_gen_data_gen(dir=ROOT)"
   ]
  },
  {
   "cell_type": "code",
   "execution_count": 23,
   "metadata": {},
   "outputs": [],
   "source": [
    "total_num_samples = 3000\n",
    "epochs = 5\n",
    "steps_per_epoch = int(total_num_samples/BATCH_SIZE)"
   ]
  },
  {
   "cell_type": "code",
   "execution_count": 24,
   "metadata": {},
   "outputs": [
    {
     "name": "stdout",
     "output_type": "stream",
     "text": [
      "Epoch 1/5\n",
      "93/93 [==============================] - 4s 44ms/step - loss: 0.1834 - accuracy: 0.9406 - val_loss: 0.2194 - val_accuracy: 0.9182\n",
      "Epoch 2/5\n",
      "93/93 [==============================] - 4s 40ms/step - loss: 0.1739 - accuracy: 0.9429 - val_loss: 0.2079 - val_accuracy: 0.9397\n",
      "Epoch 3/5\n",
      "93/93 [==============================] - 3s 29ms/step - loss: 0.1779 - accuracy: 0.9400 - val_loss: 0.2906 - val_accuracy: 0.8929\n",
      "Epoch 4/5\n",
      "93/93 [==============================] - 3s 28ms/step - loss: 0.1701 - accuracy: 0.9429 - val_loss: 0.1881 - val_accuracy: 0.9391\n",
      "Epoch 5/5\n",
      "93/93 [==============================] - 3s 29ms/step - loss: 0.1677 - accuracy: 0.9435 - val_loss: 0.3177 - val_accuracy: 0.8739\n"
     ]
    }
   ],
   "source": [
    "history = model.fit(data_gen_training, batch_size=bactch_size, epochs=epochs,\n",
    "     validation_data=data_gen_valid, steps_per_epoch = steps_per_epoch, validation_steps = 1)\n"
   ]
  },
  {
   "cell_type": "code",
   "execution_count": 25,
   "metadata": {},
   "outputs": [],
   "source": [
    "if not os.path.exists(os.path.join('.', 'FIGURES')):\n",
    "    os.mkdir(os.path.join('.','FIGURES'))"
   ]
  },
  {
   "cell_type": "code",
   "execution_count": 26,
   "metadata": {},
   "outputs": [],
   "source": [
    "def plot_graphs(history, string):\n",
    "    plt.plot(history.history[string])\n",
    "    plt.plot(history.history['val_'+string])\n",
    "    plt.xlabel(\"Epochs\")\n",
    "    plt.ylabel(string)\n",
    "    plt.legend([string, 'val_'+string])\n",
    "\n",
    "    plt.legend(['train', 'validation'], loc='best', prop={'size': 10})\n",
    "\n",
    "    plt.savefig(os.path.join('.', \"FIGURES/{}.png\".format(string)))\n",
    "    plt.show()"
   ]
  },
  {
   "cell_type": "code",
   "execution_count": 27,
   "metadata": {},
   "outputs": [
    {
     "data": {
      "image/png": "[encoded data removed]",
      "text/plain": [
       "<Figure size 432x288 with 1 Axes>"
      ]
     },
     "metadata": {
      "needs_background": "light"
     },
     "output_type": "display_data"
    },
    {
     "data": {
      "image/png": "[encoded data removed]",
      "text/plain": [
       "<Figure size 432x288 with 1 Axes>"
      ]
     },
     "metadata": {
      "needs_background": "light"
     },
     "output_type": "display_data"
    }
   ],
   "source": [
    "plot_graphs(history, 'loss')\n",
    "plot_graphs(history, 'accuracy')"
   ]
  },
  {
   "cell_type": "code",
   "execution_count": 28,
   "metadata": {},
   "outputs": [
    {
     "name": "stdout",
     "output_type": "stream",
     "text": [
      "testing\n"
     ]
    }
   ],
   "source": [
    "img_list, output_list_gt = next(data_gen_test)\n",
    "# gt_mask_list = output_list_gt[0]\n",
    "pred_masks_list = model.predict(img_list)"
   ]
  },
  {
   "cell_type": "code",
   "execution_count": 29,
   "metadata": {},
   "outputs": [],
   "source": [
    "# Get the maximum value in all channels\n",
    "# Argmax axis= -1 because we have 5channels\n",
    "# Argmax returns indices representing the location of the max\n",
    "idx = pred_masks_list.argmax(axis=-1)\n",
    "#Create an identical arrays to the previous dims to use for indexing\n",
    "m,n,l = pred_masks_list.shape[:3]\n",
    "I,J,L = np.ogrid[:m,:n,:l]\n",
    "max_values = pred_masks_list[I,J,L,idx]\n",
    "pred_masks_list = np.zeros(pred_masks_list.shape)\n",
    "pred_masks_list[I,J,L,idx] = 1"
   ]
  },
  {
   "cell_type": "code",
   "execution_count": 30,
   "metadata": {},
   "outputs": [],
   "source": [
    "indx = np.random.randint(BATCH_SIZE)\n",
    "raster_img= img_list[indx,:]\n",
    "gt_segm_mask = output_list_gt[indx,:]\n",
    "pred_segm_mask = pred_masks_list[indx,:]"
   ]
  },
  {
   "cell_type": "code",
   "execution_count": 31,
   "metadata": {},
   "outputs": [
    {
     "data": {
      "text/plain": [
       "[0.9071966381210549, 0.6779420707353817, 1.0]"
      ]
     },
     "execution_count": 31,
     "metadata": {},
     "output_type": "execute_result"
    }
   ],
   "source": [
    "compute_IOU(gt_segm_mask, pred_segm_mask, 3)"
   ]
  },
  {
   "cell_type": "code",
   "execution_count": 32,
   "metadata": {},
   "outputs": [
    {
     "data": {
      "image/png": "[encoded data removed]",
      "text/plain": [
       "<Figure size 1152x504 with 10 Axes>"
      ]
     },
     "metadata": {
      "needs_background": "light"
     },
     "output_type": "display_data"
    }
   ],
   "source": [
    "plt.close('all')\n",
    "fig, axs = plt.subplots(2,5)\n",
    "fig.set_figheight(7)\n",
    "fig.set_figwidth(16)\n",
    "# axs[0].imshow(np.squeeze(raster_img) )\n",
    "\n",
    "# axs[0].set_title(fig_titles[0])\n",
    "# axs[0].axis('off')\n",
    "for i in range(len(fig_titles)-1):\n",
    "    axs[0,i].imshow(np.squeeze(gt_segm_mask[:,:,i]))\n",
    "    axs[0,i].set_title(fig_titles[i+1])\n",
    "#     axs[0,i].axis('off')\n",
    "    axs[0,0].set_ylabel('Ground truth masks')\n",
    "    axs[1,i].imshow(np.squeeze(pred_segm_mask[:,:,i]))\n",
    "    axs[1,0].set_ylabel('Predicticted segm. masks')\n",
    "#     axs[1,i].axis('off')"
   ]
  },
  {
   "cell_type": "markdown",
   "metadata": {},
   "source": [
    "#### Conclusions\n",
    "\n",
    "When solving for the task of semantic segmentation, we predict the probability for each pixel belonging to a pre-defined set of classes\n",
    "A typical Fully convolutional architecture includes:\n",
    "-  an encoder part (down-sampling) - for extracting hierarchical feature representation (the spatial extent of the features maps is reduced)\n",
    "- an decoder part (up-sampling) - for recovering the original size of the image\n",
    "\n",
    "\n",
    "### Improving the baseline\n",
    "\n",
    "You can use the very simple U-net type baseline by adding various features:\n",
    "\n",
    "- experiment with strided convolutions (strides >2) instead max pool operations\n",
    "- experiment with Upsampling 2D instead transpose convolutions\n",
    "- increasing the capacity of the mode\n",
    "- adding skip connections between layers of same size of the encoder and decoder respectivelly\n",
    "- using a weighted cost function (the background pixels dominate, so the accuracy saturates in the very early stage of training)\n"
   ]
  },
  {
   "cell_type": "markdown",
   "metadata": {},
   "source": [
    "### References and further readings :\n",
    "Valentina Schmidt and Martin Kada (2019). Towards a Deep Learning Framework for 3D Building Reconstruction, 2nd International Workshop Point Cloud Processing, Stuttgart.\n",
    "\n",
    "Andreas Wichmann, Amgad Agoub, Valentina Schmidt, Martin Kada (2019). RoofN3D: A Database for 3D Building Reconstruction with Deep Learning, Photogrammetric Engineering and Remote Sensing Journal\n",
    "\n",
    "Olaf Ronneberger, Philipp Fischer, Thomas Brox. U-Net: Convolutional Networks for Biomedical Image Segmentation. Medical Image Computing and Computer-Assisted Intervention (MICCAI), Springer, LNCS, Vol.9351: 234--241, 2015, available at arXiv:1505.04597 [cs.CV]   \n"
   ]
  }
 ],
 "metadata": {
  "kernelspec": {
   "display_name": "Python 3",
   "language": "python",
   "name": "python3"
  },
  "language_info": {
   "codemirror_mode": {
    "name": "ipython",
    "version": 3
   },
   "file_extension": ".py",
   "mimetype": "text/x-python",
   "name": "python",
   "nbconvert_exporter": "python",
   "pygments_lexer": "ipython3",
   "version": "3.7.8"
  }
 },
 "nbformat": 4,
 "nbformat_minor": 4
}
