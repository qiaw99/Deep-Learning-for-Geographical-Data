{
 "cells": [
  {
   "cell_type": "markdown",
   "metadata": {},
   "source": [
    "# Exercise 04.1 - Neural Networks for Regression"
   ]
  },
  {
   "cell_type": "markdown",
   "metadata": {},
   "source": [
    "Before you can start, you have to find a GPU on the system that is not heavily used by other users. Otherwise you cannot initialize your neural network.\n",
    "\n",
    "\n",
    "**Hint:** the command is **nvidia-smi**, just in case it is displayed above in two lines because of a line break.\n",
    "\n",
    "As a result you get a summary of the GPUs available in the system, their current memory usage (in MiB for megabytes), and their current utilization (in %). There should be six or eight GPUs listed and these are numbered 0 to n-1 (n being the number of GPUs). The GPU numbers (ids) are quite at the beginning of each GPU section and their numbers increase from top to bottom by 1.\n",
    "\n",
    "Find a GPU where the memory usage is low. For this purpose look at the memory usage, which looks something like '365MiB / 16125MiB'. The first value is the already used up memory and the second value is the total memory of the GPU. Look for a GPU where there is a large difference between the first and the second value.\n",
    "\n",
    "**Remember the GPU id and write it in the next line instead of the character X.**"
   ]
  },
  {
   "cell_type": "code",
   "execution_count": 4,
   "metadata": {},
   "outputs": [],
   "source": [
    "# Change X to the GPU number you want to use,\n",
    "# otherwise you will get a Python error\n",
    "# e.g. USE_GPU = 4\n",
    "USE_GPU = 0 # YOUR CHOICE"
   ]
  },
  {
   "cell_type": "code",
   "execution_count": 2,
   "metadata": {},
   "outputs": [
    {
     "name": "stderr",
     "output_type": "stream",
     "text": [
      "'nvidia-smi' 不是内部或外部命令，也不是可运行的程序\n",
      "或批处理文件。\n"
     ]
    }
   ],
   "source": [
    "!nvidia-smi"
   ]
  },
  {
   "cell_type": "markdown",
   "metadata": {},
   "source": [
    "### Choose one GPU\n",
    "\n",
    "**The following code is very important and must always be executed before using TensorFlow in the exercises, so that only one GPU is used and that it is set in a way that not all its memory is used at once. Otherwise, the other students will not be able to work with this GPU.**\n",
    "\n",
    "The following program code imports the TensorFlow library for Deep Learning and outputs the version of the library.\n",
    "\n",
    "Then, TensorFlow is configured to only see the one GPU whose number you wrote in the above cell (USE_GPU = X) instead of the X.\n",
    "\n",
    "Finally, the GPU is set so that it does not immediately reserve all memory, but only uses more memory when needed. \n",
    "\n",
    "(The comments within the code cell explains a bit of what is happening if you are interested to better understand it. See also the documentation of TensorFlow for an explanation of the used methods.)"
   ]
  },
  {
   "cell_type": "code",
   "execution_count": 6,
   "metadata": {},
   "outputs": [
    {
     "name": "stdout",
     "output_type": "stream",
     "text": [
      "TensorFlow version: 2.4.0\n",
      "\n",
      "Available GPU Devices:\n",
      "\n",
      "Visible GPU Devices:\n"
     ]
    }
   ],
   "source": [
    "# Import TensorFlow \n",
    "import tensorflow as tf\n",
    "\n",
    "# Print the installed TensorFlow version\n",
    "print(f'TensorFlow version: {tf.__version__}\\n')\n",
    "\n",
    "# Get all GPU devices on this server\n",
    "gpu_devices = tf.config.list_physical_devices('GPU')\n",
    "\n",
    "# Print the name and the type of all GPU devices\n",
    "print('Available GPU Devices:')\n",
    "for gpu in gpu_devices:\n",
    "    print(' ', gpu.name, gpu.device_type)\n",
    "    \n",
    "# Set only the GPU specified as USE_GPU to be visible\n",
    "#tf.config.set_visible_devices(gpu_devices[USE_GPU], 'GPU')\n",
    "\n",
    "# Get all visible GPU  devices on this server\n",
    "visible_devices = tf.config.get_visible_devices('GPU')\n",
    "\n",
    "# Print the name and the type of all visible GPU devices\n",
    "print('\\nVisible GPU Devices:')\n",
    "for gpu in visible_devices:\n",
    "    print(' ', gpu.name, gpu.device_type)\n",
    "    \n",
    "# Set the visible device(s) to not allocate all available memory at once,\n",
    "# but rather let the memory grow whenever needed\n",
    "for gpu in visible_devices:\n",
    "    tf.config.experimental.set_memory_growth(gpu, True)"
   ]
  },
  {
   "cell_type": "markdown",
   "metadata": {},
   "source": [
    "## Part II - Regression with Keras\n",
    "\n",
    "The main task perform is to build a model of housing prices in California using the California census data.\n",
    "Our model should learn from this data and be able to predict the median housing price in any district, given all the other attributes.\n",
    "\n",
    "* This task a typical **supervised learning task** since we are given **labeled training examples** (each instance comes with the expected\n",
    "output, i.e., the district’s median housing price).\n",
    "* The task  also a typical **regression task**, since we are asked to predict a **continuous real value**.\n",
    "* More specifically, this is a **multiple regression problem** since the system will use **multiple features** to make a prediction (it\n",
    "will use the district’s population, the median income, etc.).\n",
    "* It is also a **univariate regression** problem since we are only trying to **predict a single value** for each district.\n",
    "\n",
    "## Learning Objectives\n",
    "\n",
    "* learn how to configure a neural network architecture to solve a regression task, and in particular:\n",
    "* learn to define the output layer for regression task\n",
    "* learn to define activation function for regression;\n",
    "* understand the cost functions and metrics for regression\n",
    "+ understand and practice weights and biases initialization in keras\n",
    "+ understand and practice with Batch Normalization Layers\n",
    "+ learn how to take advantage of the logs dictionary in Keras\n",
    "+ learn to define our own callbacks and check the progress of a model.\n",
    "+ understand and practice EarlyStoping "
   ]
  },
  {
   "cell_type": "markdown",
   "metadata": {},
   "source": [
    "### Weight and bias initialisers \n",
    "\n"
   ]
  },
  {
   "attachments": {
    "c5c912e2-a80c-408e-b2af-4334756d857a.png": {
     "image/png": "[encoded data removed]"
    }
   },
   "cell_type": "markdown",
   "metadata": {},
   "source": [
    "#### Default weights and biases\n",
    "\n",
    "In the models we have worked with so far, we have not specified the initial values of the weights and biases in each layer of our neural networks.\n",
    "\n",
    "The default values of the weights and biases in TensorFlow depend on the type of layers we are using. \n",
    "\n",
    "For example, in a `Dense` layer, the biases are set to zero (`zeros`) by default, while the weights are set according to `glorot_uniform`, the Glorot uniform initialiser. \n",
    "\n",
    "The Glorot uniform initialiser draws the weights uniformly at random from the closed interval $[-c,c]$, where $$c = \\sqrt{\\frac{6}{n_{input}+n_{output}}}$$\n",
    "\n",
    "### Initialising your own weights and biases\n",
    "We often would like to initialise our own weights and biases, and TensorFlow makes this process quite straightforward.\n",
    "\n",
    "When we construct a model in TensorFlow, each layer has optional arguments `kernel_initialiser` and `bias_initialiser`, which are used to set the weights and biases respectively.\n",
    "\n",
    "If a layer has no weights or biases (e.g. it is a max pooling layer), then trying to set either `kernel_initialiser` or `bias_initialiser` will throw an error.\n",
    "\n",
    "The various initializations available in Keras can be found [here](https://www.tensorflow.org/api_docs/python/tf/keras/initializers).\n",
    "Below is an example with showing custom layer weights initialization:\n",
    "![image.png](attachment:c5c912e2-a80c-408e-b2af-4334756d857a.png)"
   ]
  },
  {
   "attachments": {
    "ac567587-f343-4006-95c9-f65166873a45.png": {
     "image/png": "[encoded data removed]"
    },
    "dc0da6fb-ff87-4258-a684-22cdd8390ee3.png": {
     "image/png": "[encoded data removed]"
    }
   },
   "cell_type": "markdown",
   "metadata": {},
   "source": [
    "### Batch normalisation layers\n",
    "\n",
    "We can implement batch normalisation into our model by adding it in the same way as any other layer.\n",
    "\n",
    "Recall that there are some parameters and hyperparameters associated with batch normalisation.\n",
    "\n",
    "* The hyperparameter **momentum** is the weighting given to the previous running mean when re-computing it with an extra minibatch. By **default**, it is set to 0.99.\n",
    "\n",
    "* The hyperparameter **$\\epsilon$** is used for numeric stability when performing the normalisation over the minibatch. By **default** it is set to 0.001.\n",
    "\n",
    "* The parameters **$\\beta$** and **$\\gamma$** are used to implement an affine transformation after normalisation. By **default**, $\\beta$ is an all-zeros vector, and $\\gamma$ is an all-ones vector.\n",
    "\n",
    "#### Customising parameters\n",
    "These can all be changed (along with various other properties) by adding optional arguments to `tf.keras.layers.BatchNormalization()`.\n",
    "\n",
    "We can also specify the axis for batch normalisation. By default, it is set as -1.\n",
    "\n",
    "Below you can see two examples. </br>\n",
    "![image.png](attachment:ac567587-f343-4006-95c9-f65166873a45.png)\n",
    "\n",
    "![image.png](attachment:dc0da6fb-ff87-4258-a684-22cdd8390ee3.png)"
   ]
  },
  {
   "cell_type": "markdown",
   "metadata": {},
   "source": [
    "## Using callbacks to act on a model during training"
   ]
  },
  {
   "cell_type": "markdown",
   "metadata": {},
   "source": [
    "When training a model we cannot predict from a-priori  *how many epochs*  will be needed to get to an *optimal\n",
    "validation loss*. </br>\n",
    "One empirical method is to train a model for a fixed number of epochs, in general large enough that it would start overfitting, and using this first run to figure out the proper number of epochs to train for, then finally launch a new training run from scratch\n",
    "using this optimal number. </br>\n",
    "\n",
    "A much better way to handle this would be stop training when we measure that the validation loss has stopped improving. This can be achieved using a tf.Keras `callback` object. </br>\n",
    "\n",
    "**A callback** is an object (a class instance implementing specific methods) that is passed to the `model` in the call to `fit` and that is called by the model at various points during training. It has access to all the data available about the state of the model and its performance, and it is capable to take action, for instance interrupting training, saving a model, loading a different weight set, or otherwise altering the state of the model.  </br>\n",
    "\n",
    "**Callbacks can be used for:**\n",
    "* Model checkpointing: saving the current weights of the model at different points during training.\n",
    "* Early stopping: interrupting training when the validation loss has stopped improving (and of course, saving the best model obtained during training).\n",
    "* Dynamically adjusting the value of certain parameters during training, such as the learning rate of the optimizer.\n",
    "* Logging the training and validation metrics during training, or visualizing the representations learned by the model as they get updated. \n",
    "\n",
    "* And more…\n",
    "There are a number of built-in callbacks found in the `tf.keras.callbacks` [module](https://www.tensorflow.org/api_docs/python/tf/keras/callbacks)"
   ]
  },
  {
   "cell_type": "markdown",
   "metadata": {},
   "source": [
    "### Early Stopping Callback\n",
    "Early Stopping Callback can be used to interrupt the training process once a target metric being monitored has stopped improving for  a fixed number of epochs. For example, in the cell bellow, the validation _loss is monitored. Once the difference between two successive values is less than a specified value (min_delta) for  a number of epochs (patience), the training is stopped."
   ]
  },
  {
   "cell_type": "code",
   "execution_count": 25,
   "metadata": {},
   "outputs": [],
   "source": [
    "# This callback will monitor the validation loss\n",
    "# will interrupt training when the diff between succesive val of valid loss is under the threshold\n",
    "\n",
    "callbacks_list = [\n",
    "    tf.keras.callbacks.EarlyStopping(monitor= 'val_loss', min_delta = .0001, patience = 8)\n",
    "]\n",
    " # now you can use the list (here contaioning only One callback object, but you can define more than one) and pass  it to the argument callbacks in the fit method"
   ]
  },
  {
   "cell_type": "markdown",
   "metadata": {},
   "source": [
    "#### Dataset\n",
    "In this tutorial we will use the `California Housing Prices dataset` introduced in teh first notebook of the tutorial.\n",
    "\n",
    "\n",
    "The dataset comes in tabular form, comprizing more than 20600 records with 8 columns that represent attributes (features) such as the population, median income, median housing price, and so on for each *block group* in California. Block groups are the smallest geographical unit for which the US Census Bureau publishes sample data (a block group typically has a population of 600 to 3,000 people). Here they will be called “districts”  for the sake of brevity.\n",
    "for short.\n",
    "[ California Housing dataset¶](https://scikit-learn.org/stable/datasets/index.html)\n",
    "\n",
    "\n",
    "- MedInc median income in block\n",
    "\n",
    "+ HouseAge median house age in block\n",
    "\n",
    "+ AveRooms average number of rooms\n",
    "\n",
    "+ AveBedrms average number of bedrooms\n",
    "\n",
    "+ Population block population\n",
    "\n",
    "+ AveOccup average house occupancy\n",
    "\n",
    "+ Latitude house block latitude\n",
    "\n",
    "+ Longitude house block longitude\n",
    "\n",
    "This dataset was obtained from the StatLib repository. http://lib.stat.cmu.edu/datasets/\n",
    "\n",
    "The target variable is the median house value for California districts.\n",
    "\n",
    "It can be downloaded/loaded using the sklearn.datasets.fetch_california_housing function."
   ]
  },
  {
   "cell_type": "code",
   "execution_count": 7,
   "metadata": {},
   "outputs": [],
   "source": [
    "import sys\n",
    "import sklearn\n",
    "import pandas as pd\n",
    "import numpy as np\n",
    "import os\n",
    "%matplotlib inline\n",
    "import matplotlib as mpl\n",
    "import matplotlib.pyplot as plt\n",
    "mpl.rc('axes', labelsize=14)\n",
    "mpl.rc('xtick', labelsize=12)\n",
    "mpl.rc('ytick', labelsize=12)"
   ]
  },
  {
   "cell_type": "code",
   "execution_count": 8,
   "metadata": {},
   "outputs": [],
   "source": [
    " if not os.path.exists('./datasets'): # creating a path for dataset if not existing\n",
    "    os.mkdir('./datasets')"
   ]
  },
  {
   "cell_type": "markdown",
   "metadata": {},
   "source": [
    "We start loading the dataset using the built-in [datasets module from sklearn](https://scikit-learn.org/stable/datasets/index.html) using the `fetch_california_housing` function."
   ]
  },
  {
   "cell_type": "code",
   "execution_count": 9,
   "metadata": {},
   "outputs": [],
   "source": [
    "from sklearn.datasets import fetch_california_housing"
   ]
  },
  {
   "cell_type": "code",
   "execution_count": 10,
   "metadata": {},
   "outputs": [],
   "source": [
    "X_full, y_full = fetch_california_housing(data_home = r'./datasets', return_X_y=True) "
   ]
  },
  {
   "cell_type": "code",
   "execution_count": 11,
   "metadata": {},
   "outputs": [
    {
     "name": "stdout",
     "output_type": "stream",
     "text": [
      "<class 'numpy.ndarray'>\n",
      "(20640, 8)\n",
      "<class 'numpy.ndarray'>\n",
      "(20640,)\n"
     ]
    }
   ],
   "source": [
    "# the dataset is loaded in two numpy arrays for data and target; Let us check this::\n",
    "print(type(X_full))\n",
    "print(X_full.shape)\n",
    "print(type(y_full))\n",
    "print(y_full.shape)"
   ]
  },
  {
   "cell_type": "markdown",
   "metadata": {},
   "source": [
    "### Create a Validation and Tests Set\n",
    "\n",
    "Evaluating a model always boils down to splitting your available data into three sets:\n",
    "training, validation, and test set. You train on the training data, and evaluate your model on the validation data. Once your model is ready for prime time, you test it one final time\n",
    "on the test data The reason is that developing a model always involves tuning its configuration, e.g. picking the number of layers or the size of the layers (what is called the\n",
    "\"hyperparameters\" of the model, to distinguish them from the \"parameters\", which are the network’s weights). You will do this tuning by using as feedback signal the\n",
    "performance of the model on the validation data, so in essence this tuning is a form of learning: a search for a good configuration in some parameter space. As a result, tuning\n",
    "the configuration of the model based on its performance on the validation set can quickly result in overfitting to the validation set, even though your model is never being directly\n",
    "trained on it.\n",
    "Central to this phenomenon is the notion of \"information leak\". Every time you are tuning a hyperparameter of your model based on the model’s performance on the\n",
    "validation set, some information about the validation data is leaking into your model. If you only do this once, for one parameter, then very few bits of information would be\n",
    "leaking and your validation set would remain a reliable way to evaluate your model. But if you repeat this many times, running one experiment, evaluating on the validation set,\n",
    "modifying your model as a result, then you are leaking an increasingly significant amount of information about the validation set into your model.\n",
    "At the end of the day, you end up with a model that performs artificially well on the\n",
    "validation data, because it is what you optimized it for. Splitting your data into a training, validation, and test sets may seem straightforward,\n",
    "but there are a few advanced ways to do it which can come in handy when very few data is available. </br>\n",
    "\n",
    "Scikit-Learn provides a several functions to split datasets into multiple subsets in various ways. The simplest function is [train_test_split](https://scikit-learn.org/stable/modules/generated/sklearn.model_selection.train_test_split.html?highlight=train%20test%20split#sklearn.model_selection.train_test_split). </br>\n",
    "It has a key -value argument `random_state parameter` that allows you to set the random generator seed (which allows us to reproduce the results)."
   ]
  },
  {
   "cell_type": "code",
   "execution_count": 12,
   "metadata": {},
   "outputs": [
    {
     "name": "stdout",
     "output_type": "stream",
     "text": [
      "The test dataset comprises 4128 examples.\n"
     ]
    }
   ],
   "source": [
    "from sklearn.model_selection import train_test_split\n",
    "\n",
    "X_train_full, X_test, y_train_full, y_test = train_test_split(X_full, y_full, test_size=0.2, random_state=42)\n",
    "print(f'The test dataset comprises {X_test.shape[0]} examples.')"
   ]
  },
  {
   "cell_type": "markdown",
   "metadata": {},
   "source": [
    "Furthermore, we split the trainig dataset in training and validation sets; As usual, we will use the validation set to follow the progress of the training on examples not seen during the training which will help us to tune the training hyperparameters."
   ]
  },
  {
   "cell_type": "code",
   "execution_count": 13,
   "metadata": {},
   "outputs": [
    {
     "name": "stdout",
     "output_type": "stream",
     "text": [
      "The training set comprises 14860 examples.\n",
      "The validation set comprises 1652 examples.\n"
     ]
    }
   ],
   "source": [
    "X_train, X_valid, y_train, y_valid  = train_test_split(X_train_full, y_train_full, test_size=0.1, random_state=42)\n",
    "print(f'The training set comprises {X_train.shape[0]} examples.')\n",
    "print(f'The validation set comprises {X_valid.shape[0]} examples.')"
   ]
  },
  {
   "cell_type": "markdown",
   "metadata": {},
   "source": [
    "## Feature Scaling"
   ]
  },
  {
   "cell_type": "markdown",
   "metadata": {},
   "source": [
    "One of the most important transformations you need to apply to your data is feature scaling. With few exceptions, Machine Learning algorithms don’t perform well when the input numerical attributes have very different scales. This is the case for the housing data: the average number of rooms ranges from about 0.84 to 141, while the median incomes only range from 0 to 15. Note that *scaling the target values is generally not required.*\n",
    "There are two common ways to get all attributes to have the same scale: `min-max scaling` and `standardization`.  </br>\n",
    "+ Normalization is a rescaling of the data from the original range so that all values are within the new range of 0 and 1.\n",
    "+ Standardization requires that you know or are able to accurately estimate the mean and standard deviation of observable values. You may be able to estimate these values from your training data, not the entire dataset.\n",
    "Subtracting the mean from the data is called centering, whereas dividing by the standard deviation is called scaling. As such, the method is sometime called “center scaling“.\n",
    "Unlike min-max scaling, standardization does not bound values to a specific range, which may be a problem for some algorithms (e.g., neural networks often expect an input value ranging from 0 to 1). However, standardization is much less affected by outliers.\n",
    "\n",
    " In order to standardise our data we will use the [built-in functionality of sklearn](\n",
    "https://scikit-learn.org/stable/modules/generated/sklearn.preprocessing.StandardScaler.html)"
   ]
  },
  {
   "cell_type": "markdown",
   "metadata": {},
   "source": [
    "\n",
    "### Important Observation\n",
    "\n",
    "As with all the transformations, it is important to **fit the scalers to the training data only!!!**, not to the full dataset (including the test set).\n",
    "Only then can you use them to transform the training set and the test set (and new data)."
   ]
  },
  {
   "cell_type": "code",
   "execution_count": 14,
   "metadata": {},
   "outputs": [],
   "source": [
    "from sklearn.preprocessing import StandardScaler # importing StandardScaler class"
   ]
  },
  {
   "cell_type": "code",
   "execution_count": 15,
   "metadata": {},
   "outputs": [],
   "source": [
    "std_scaler = StandardScaler() # creating a new StandardScaler instance"
   ]
  },
  {
   "cell_type": "code",
   "execution_count": 16,
   "metadata": {},
   "outputs": [],
   "source": [
    "X_train_scaled = std_scaler.fit_transform(X_train)  # fitting and transforming the data\n",
    "X_valid_scaled = std_scaler.transform(X_valid)\n",
    "X_test_scaled = std_scaler.transform(X_test)"
   ]
  },
  {
   "cell_type": "code",
   "execution_count": 17,
   "metadata": {},
   "outputs": [
    {
     "name": "stdout",
     "output_type": "stream",
     "text": [
      "train means:  [ 3.87371384e+00  2.85697174e+01  5.43057079e+00  1.09678339e+00\n",
      "  1.42999408e+03  3.11775611e+00  3.56406198e+01 -1.19578168e+02]\n"
     ]
    }
   ],
   "source": [
    "print(f'train means:  {std_scaler.mean_}')   # accesing the mean attribute"
   ]
  },
  {
   "cell_type": "code",
   "execution_count": 18,
   "metadata": {},
   "outputs": [
    {
     "name": "stdout",
     "output_type": "stream",
     "text": [
      "train standard deviations:  [3.59053637e+00 1.58438545e+02 5.68032226e+00 1.86297516e-01\n",
      " 1.29547148e+06 1.48880883e+02 4.55117472e+00 4.00645847e+00]\n"
     ]
    }
   ],
   "source": [
    "print(f'train standard deviations:  {std_scaler.var_}') "
   ]
  },
  {
   "cell_type": "code",
   "execution_count": 19,
   "metadata": {},
   "outputs": [
    {
     "name": "stdout",
     "output_type": "stream",
     "text": [
      "applied scaling values (mean/std):  [1.89487107e+00 1.25872374e+01 2.38334267e+00 4.31621960e-01\n",
      " 1.13818781e+03 1.22016754e+01 2.13334824e+00 2.00161397e+00]\n"
     ]
    }
   ],
   "source": [
    "print(f'applied scaling values (mean/std):  {std_scaler.scale_}') "
   ]
  },
  {
   "cell_type": "markdown",
   "metadata": {},
   "source": [
    "### ANN model for Regression\n",
    "    \n",
    "Building, training, evaluating and using a regression MLP using the Sequential API to make predictions is quite similar to what we did for classification. </br>\n",
    "In contrast to the classification task, where the output is a set of probabilities corresponding to each categories of a pre-defined set, the output of regression is a continuous, real number. Consequently,\n",
    "\n",
    "+ **the output layer has a single neuron** (since we only want to predict a single value) and uses no activation function\n",
    "\n",
    "\n",
    "\n",
    "Because the dataset is quite noisy and of reduced size, we will just use a single hidden layer with fewer neurons than before, to avoid overfitting:"
   ]
  },
  {
   "cell_type": "code",
   "execution_count": 20,
   "metadata": {},
   "outputs": [],
   "source": [
    "\n",
    "from tensorflow.keras import Sequential\n",
    "from tensorflow.keras.layers import Dense, ReLU"
   ]
  },
  {
   "cell_type": "code",
   "execution_count": 21,
   "metadata": {},
   "outputs": [],
   "source": [
    "input_shape = X_train_scaled.shape[1:]"
   ]
  },
  {
   "cell_type": "code",
   "execution_count": 22,
   "metadata": {},
   "outputs": [],
   "source": [
    "model = Sequential([\n",
    "    Dense(32, activation=\"relu\", input_shape=input_shape),\n",
    "    Dense(1)\n",
    "])"
   ]
  },
  {
   "cell_type": "markdown",
   "metadata": {},
   "source": [
    "Another important difference is the used loss function to train the network (which are, in general, the same with the metrics. Because when computing the cost, we compare two real numbers, the typical [loss functions](https://www.tensorflow.org/api_docs/python/tf/keras/losses) for regression are: \n",
    " * mean of absolute error / MAE\n",
    " * the mean of squares of errors / MSE\n",
    " * [huber](https://en.wikipedia.org/wiki/Huber_loss), etc.\n",
    "\n"
   ]
  },
  {
   "cell_type": "code",
   "execution_count": 23,
   "metadata": {},
   "outputs": [],
   "source": [
    "model.compile(loss=\"mean_squared_error\", optimizer=tf.keras.optimizers.SGD(lr=1e-2))"
   ]
  },
  {
   "cell_type": "code",
   "execution_count": 26,
   "metadata": {},
   "outputs": [
    {
     "name": "stdout",
     "output_type": "stream",
     "text": [
      "Epoch 1/25\n",
      "465/465 [==============================] - 1s 846us/step - loss: 1.0482 - val_loss: 0.9251\n",
      "Epoch 2/25\n",
      "465/465 [==============================] - 0s 513us/step - loss: 0.5265 - val_loss: 0.5176\n",
      "Epoch 3/25\n",
      "465/465 [==============================] - 0s 529us/step - loss: 0.4609 - val_loss: 0.4832\n",
      "Epoch 4/25\n",
      "465/465 [==============================] - 0s 507us/step - loss: 0.4392 - val_loss: 0.4827\n",
      "Epoch 5/25\n",
      "465/465 [==============================] - 0s 500us/step - loss: 0.4180 - val_loss: 0.4583\n",
      "Epoch 6/25\n",
      "465/465 [==============================] - 0s 502us/step - loss: 0.4310 - val_loss: 0.4560\n",
      "Epoch 7/25\n",
      "465/465 [==============================] - 0s 500us/step - loss: 0.4114 - val_loss: 0.4502\n",
      "Epoch 8/25\n",
      "465/465 [==============================] - 0s 511us/step - loss: 0.4113 - val_loss: 0.4429\n",
      "Epoch 9/25\n",
      "465/465 [==============================] - 0s 502us/step - loss: 0.4084 - val_loss: 0.4437\n",
      "Epoch 10/25\n",
      "465/465 [==============================] - 0s 507us/step - loss: 0.3940 - val_loss: 0.4268\n",
      "Epoch 11/25\n",
      "465/465 [==============================] - 0s 496us/step - loss: 0.3842 - val_loss: 0.4304\n",
      "Epoch 12/25\n",
      "465/465 [==============================] - 0s 502us/step - loss: 0.3967 - val_loss: 0.4220\n",
      "Epoch 13/25\n",
      "465/465 [==============================] - 0s 494us/step - loss: 0.3929 - val_loss: 0.4186\n",
      "Epoch 14/25\n",
      "465/465 [==============================] - 0s 501us/step - loss: 0.3853 - val_loss: 0.4236\n",
      "Epoch 15/25\n",
      "465/465 [==============================] - 0s 500us/step - loss: 0.3798 - val_loss: 0.4191\n",
      "Epoch 16/25\n",
      "465/465 [==============================] - 0s 489us/step - loss: 0.3621 - val_loss: 0.4369\n",
      "Epoch 17/25\n",
      "465/465 [==============================] - 0s 496us/step - loss: 0.3735 - val_loss: 0.4092\n",
      "Epoch 18/25\n",
      "465/465 [==============================] - 0s 496us/step - loss: 0.3773 - val_loss: 0.4132\n",
      "Epoch 19/25\n",
      "465/465 [==============================] - 0s 500us/step - loss: 0.3791 - val_loss: 0.4089\n",
      "Epoch 20/25\n",
      "465/465 [==============================] - 0s 504us/step - loss: 0.3829 - val_loss: 0.4133\n",
      "Epoch 21/25\n",
      "465/465 [==============================] - 0s 502us/step - loss: 0.3731 - val_loss: 0.4146\n",
      "Epoch 22/25\n",
      "465/465 [==============================] - 0s 494us/step - loss: 0.3697 - val_loss: 0.4044\n",
      "Epoch 23/25\n",
      "465/465 [==============================] - 0s 502us/step - loss: 0.3724 - val_loss: 0.4075\n",
      "Epoch 24/25\n",
      "465/465 [==============================] - 0s 498us/step - loss: 0.3570 - val_loss: 0.3999\n",
      "Epoch 25/25\n",
      "465/465 [==============================] - 0s 513us/step - loss: 0.3636 - val_loss: 0.3994\n"
     ]
    }
   ],
   "source": [
    "history = model.fit(X_train_scaled, y_train, epochs=25,\n",
    "                    validation_data=(X_valid_scaled, y_valid),\n",
    "                     verbose =1, callbacks = callbacks_list)"
   ]
  },
  {
   "cell_type": "markdown",
   "metadata": {},
   "source": [
    "##### Unpacking the training history - the logs dictionary \n",
    "The call to `model.fit_generator()` returns a `History` object. This object has a member `history`, which is a dictionary containing the values of the loss and chosen metrics on the training and validation set during each training epoch:\n",
    "\n",
    "Since the 'history' attribute is a python dictionary, you can retrive the keys using the `.keys()` method.The `logs` dictionary\n",
    "\n",
    "The `logs` dictionary stores the loss value, along with all of the metrics we are using at the end of a batch or epoch."
   ]
  },
  {
   "cell_type": "code",
   "execution_count": 27,
   "metadata": {},
   "outputs": [],
   "source": [
    "def plot_loss(history):\n",
    "    loss = history.history['loss']\n",
    "    val_loss = history.history['val_loss']\n",
    "    plt.plot(loss, label='loss')\n",
    "    plt.plot(val_loss, label='val_loss')\n",
    "    plt.ylim([0.2, 1.6])\n",
    "    plt.xlabel('Epoch')\n",
    "    plt.ylabel('Loss ')\n",
    "    plt.legend()\n",
    "    plt.grid(True)\n",
    "    plt.show()"
   ]
  },
  {
   "cell_type": "code",
   "execution_count": 28,
   "metadata": {},
   "outputs": [
    {
     "data": {
      "image/png": "[encoded data removed]",
      "text/plain": [
       "<Figure size 432x288 with 1 Axes>"
      ]
     },
     "metadata": {
      "needs_background": "light"
     },
     "output_type": "display_data"
    }
   ],
   "source": [
    "plot_loss(history)"
   ]
  },
  {
   "cell_type": "code",
   "execution_count": 29,
   "metadata": {},
   "outputs": [
    {
     "name": "stdout",
     "output_type": "stream",
     "text": [
      "129/129 [==============================] - 0s 602us/step - loss: 26268.6934\n"
     ]
    }
   ],
   "source": [
    "mse_test = model.evaluate(X_test, y_test)\n",
    "X_new = X_test_scaled\n",
    "y_pred = model.predict(X_new)"
   ]
  },
  {
   "cell_type": "code",
   "execution_count": 30,
   "metadata": {},
   "outputs": [
    {
     "data": {
      "text/plain": [
       "array([[0.4698076],\n",
       "       [1.4430513],\n",
       "       [3.7227893],\n",
       "       ...,\n",
       "       [4.530476 ],\n",
       "       [0.7864435],\n",
       "       [1.6730946]], dtype=float32)"
      ]
     },
     "execution_count": 30,
     "metadata": {},
     "output_type": "execute_result"
    }
   ],
   "source": [
    "y_pred"
   ]
  },
  {
   "cell_type": "code",
   "execution_count": 31,
   "metadata": {},
   "outputs": [
    {
     "data": {
      "text/plain": [
       "array([0.477, 0.458])"
      ]
     },
     "execution_count": 31,
     "metadata": {},
     "output_type": "execute_result"
    }
   ],
   "source": [
    "y_test[:2]"
   ]
  },
  {
   "cell_type": "code",
   "execution_count": 32,
   "metadata": {},
   "outputs": [],
   "source": [
    "def plot_diff(y_true, y_pred, title = ''):\n",
    "    plt.scatter(y_true, y_pred)\n",
    "    plt.title(title)\n",
    "    plt.xlabel('True Values')\n",
    "    plt.ylabel('Predictions')\n",
    "    plt.axis = ('equal')\n",
    "    plt.axis = ('square')\n",
    "    plt.xlim(plt.xlim())\n",
    "    plt.ylim(plt.ylim())\n",
    "    plt.plot([-500, 500], [-500, 500])"
   ]
  },
  {
   "cell_type": "code",
   "execution_count": 33,
   "metadata": {},
   "outputs": [
    {
     "data": {
      "image/png": "[encoded data removed]",
      "text/plain": [
       "<Figure size 432x288 with 1 Axes>"
      ]
     },
     "metadata": {
      "needs_background": "light"
     },
     "output_type": "display_data"
    }
   ],
   "source": [
    "plot_diff(y_test, y_pred)"
   ]
  },
  {
   "cell_type": "markdown",
   "metadata": {},
   "source": [
    "### Task 1\n",
    "\n",
    "Define a callback that stops the training when the validation loss stops decreasing and store it in a variable called `callbacks_list`. </br>\n",
    "**Hints:**\n",
    "- Instantiate a `tf.keras.callbacks.EarlyStopping()` object and pass in appropriate values for the following arguments:\n",
    " + `monitor = `  - HINT:  In 'min' mode, training will stop when the quantity monitored has stopped decreasing; (see the link to Documentation)\n",
    " + `mode = ` \n",
    " + `patience = `\n",
    "\n",
    "</br>\n",
    "\n",
    "[Documentation](https://www.tensorflow.org/api_docs/python/tf/keras/callbacks/EarlyStopping)"
   ]
  },
  {
   "cell_type": "code",
   "execution_count": 35,
   "metadata": {},
   "outputs": [],
   "source": [
    "callbacks_list = [\n",
    "    # your code here\n",
    "    tf.keras.callbacks.EarlyStopping(monitor='val_loss', mode='auto', patience=8)\n",
    "]"
   ]
  },
  {
   "cell_type": "markdown",
   "metadata": {},
   "source": [
    "### TASK 2 - Build the neural network model"
   ]
  },
  {
   "cell_type": "markdown",
   "metadata": {},
   "source": [
    "You can now construct a model to fit to the data. Using the Sequential API, build your model according to the following specifications:\n",
    "\n",
    "* The model should use the `input_shape` in the function argument to set the input size in the first layer.\n",
    "* The first layer should be a `dense` layer:\n",
    "with 32 units.\n",
    "* [choose an initializer](https://www.tensorflow.org/api_docs/python/tf/keras/initializers) for the weights the first layer. \n",
    "* The biases of the first layer should be all initially equal to one.\n",
    "* Add a Batch Normalization layer (with default values for the arguments)\n",
    "* There should then be a further dense layer, each with 64 units.\n",
    "* Add a Batch Normalization layer (with default values for the arguments)\n",
    "* All of these Dense layers should use the ELU activation function.\n",
    "* The output Dense layer should 1 unit and NO activation function.\n",
    "\n",
    "In total, the network should have 5 layers."
   ]
  },
  {
   "cell_type": "code",
   "execution_count": 36,
   "metadata": {},
   "outputs": [],
   "source": [
    "from tensorflow.keras.models import Sequential\n",
    "from tensorflow.keras.layers import  Dense,  BatchNormalization"
   ]
  },
  {
   "cell_type": "code",
   "execution_count": 48,
   "metadata": {},
   "outputs": [],
   "source": [
    "input_shape = X_train_scaled.shape[1:]\n",
    "\n",
    "# instantiate a Sequential model object\n",
    "\n",
    "model = Sequential([\n",
    "    Dense(32, input_shape=input_shape, kernel_initializer='glorot_uniform',\n",
    "    bias_initializer='ones', activation='elu'),\n",
    "    BatchNormalization(),\n",
    "    Dense(64, activation='elu'),\n",
    "    BatchNormalization()\n",
    "])"
   ]
  },
  {
   "cell_type": "markdown",
   "metadata": {},
   "source": [
    "### TASK 3  - Compile your model"
   ]
  },
  {
   "cell_type": "markdown",
   "metadata": {},
   "source": [
    "You should now compile the model using the `compile` method. Remember that you need to specify an optimizer, a loss function  to judge the performance of your model."
   ]
  },
  {
   "cell_type": "code",
   "execution_count": 56,
   "metadata": {},
   "outputs": [],
   "source": [
    "model.compile(optimizer='adam', loss='mse', metrics=[\"mean_squared_error\", \"acc\"])"
   ]
  },
  {
   "cell_type": "markdown",
   "metadata": {},
   "source": [
    "### TASK 4 - Fit the model to the training data\n",
    "\n",
    "Now you should train the model on the Housing  dataset, using the model's `fit` method. \n",
    "* Run the training for a fixed number of epochs, given by the function's `epochs` argument.\n",
    "* Return the training history to be used for plotting the learning curves.\n",
    "* Set the batch size to 32.\n",
    "* pass in (X_valid, y_valid) as values for the `validation_data`argument\n",
    "* pass in the `callbacks_list` you have defined at task 1 to the `callbacks argument`"
   ]
  },
  {
   "cell_type": "code",
   "execution_count": 57,
   "metadata": {},
   "outputs": [
    {
     "name": "stdout",
     "output_type": "stream",
     "text": [
      "Epoch 1/5\n",
      "465/465 [==============================] - 1s 1ms/step - loss: 0.5341 - mean_squared_error: 0.5341 - acc: 2.7722e-04 - val_loss: 0.5000 - val_mean_squared_error: 0.5000 - val_acc: 0.0000e+00\n",
      "Epoch 2/5\n",
      "465/465 [==============================] - 0s 936us/step - loss: 0.4514 - mean_squared_error: 0.4514 - acc: 1.1568e-04 - val_loss: 0.4693 - val_mean_squared_error: 0.4693 - val_acc: 0.0000e+00\n",
      "Epoch 3/5\n",
      "465/465 [==============================] - 0s 927us/step - loss: 0.4400 - mean_squared_error: 0.4400 - acc: 6.0119e-05 - val_loss: 0.4745 - val_mean_squared_error: 0.4745 - val_acc: 0.0000e+00\n",
      "Epoch 4/5\n",
      "465/465 [==============================] - 0s 959us/step - loss: 0.4524 - mean_squared_error: 0.4524 - acc: 3.7361e-04 - val_loss: 0.4561 - val_mean_squared_error: 0.4561 - val_acc: 0.0000e+00\n",
      "Epoch 5/5\n",
      "465/465 [==============================] - 0s 951us/step - loss: 0.4370 - mean_squared_error: 0.4370 - acc: 2.5647e-04 - val_loss: 0.4628 - val_mean_squared_error: 0.4628 - val_acc: 0.0000e+00\n"
     ]
    }
   ],
   "source": [
    "history = model.fit(x=X_train_scaled, y=y_train, batch_size=32, epochs=15, validation_data=(X_valid_scaled, y_valid), callbacks=callbacks_list)"
   ]
  },
  {
   "cell_type": "code",
   "execution_count": 59,
   "metadata": {},
   "outputs": [
    {
     "data": {
      "image/png": "[encoded data removed]",
      "text/plain": [
       "<Figure size 432x288 with 1 Axes>"
      ]
     },
     "metadata": {
      "needs_background": "light"
     },
     "output_type": "display_data"
    }
   ],
   "source": [
    "# Finally, let's replot the accuracy and loss graphs for your new model.\n",
    "\n",
    "plt.plot(history.history['loss'])\n",
    "plt.plot(history.history['val_loss'])\n",
    "plt.title('Loss vs. epochs')\n",
    "plt.ylabel('Loss')\n",
    "plt.xlabel('Epoch')\n",
    "plt.legend(['Training', 'Validation'], loc='upper right')\n",
    "plt.show() "
   ]
  },
  {
   "cell_type": "markdown",
   "metadata": {},
   "source": [
    "## Further reading and resources \n",
    "* https://keras.io/layers/normalization/\n",
    "* https://www.tensorflow.org/versions/r2.0/api_docs/python/tf/keras/layers/BatchNormalization\n",
    "* https://www.tensorflow.org/guide/keras/custom_callback\n",
    "* https://www.tensorflow.org/api_docs/python/tf/keras/callbacks/Callback"
   ]
  },
  {
   "cell_type": "code",
   "execution_count": null,
   "metadata": {},
   "outputs": [],
   "source": [
    "## please, remember to stop the kernel before leaving the server! :)"
   ]
  }
 ],
 "metadata": {
  "kernelspec": {
   "display_name": "Python 3 (ipykernel)",
   "language": "python",
   "name": "python3"
  },
  "language_info": {
   "codemirror_mode": {
    "name": "ipython",
    "version": 3
   },
   "file_extension": ".py",
   "mimetype": "text/x-python",
   "name": "python",
   "nbconvert_exporter": "python",
   "pygments_lexer": "ipython3",
   "version": "3.8.3"
  }
 },
 "nbformat": 4,
 "nbformat_minor": 4
}
