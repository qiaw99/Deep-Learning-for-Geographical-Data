{
 "cells": [
  {
   "cell_type": "markdown",
   "metadata": {},
   "source": [
    "# Functions, Lambdas, and Map/Reduce\n",
    "\n",
    "Functions, **lambdas**, and **map/reduce** can allow you to process your data in advanced ways.  We will introduce these techniques here and expand on them in the next module, which will discuss Pandas.\n",
    "\n",
    "Function parameters can be named or unnamed in Python.  Default values can also be used.  Consider the following function."
   ]
  },
  {
   "cell_type": "code",
   "execution_count": 1,
   "metadata": {},
   "outputs": [
    {
     "name": "stdout",
     "output_type": "stream",
     "text": [
      "Hello John, this is Bob.\n",
      "Goodbye John, this is Bob.\n",
      "Goodbye John, this is Bob.\n"
     ]
    }
   ],
   "source": [
    "def say_hello(speaker, person_to_greet, greeting = \"Hello\"):\n",
    "    print(f'{greeting} {person_to_greet}, this is {speaker}.')\n",
    "    \n",
    "say_hello('Bob', \"John\")\n",
    "say_hello('Bob', \"John\", \"Goodbye\")\n",
    "say_hello(speaker='Bob', person_to_greet=\"John\", greeting = \"Goodbye\")"
   ]
  },
  {
   "cell_type": "markdown",
   "metadata": {},
   "source": [
    "A function is a way to capture code that is commonly executed.  Consider the following function that can be used to trim white space from a string capitalize the first letter."
   ]
  },
  {
   "cell_type": "code",
   "execution_count": 2,
   "metadata": {},
   "outputs": [],
   "source": [
    "def process_string(str):\n",
    "    t = str.strip()\n",
    "    return t[0].upper()+t[1:]"
   ]
  },
  {
   "cell_type": "markdown",
   "metadata": {},
   "source": [
    "This function can now be called quite easily."
   ]
  },
  {
   "cell_type": "code",
   "execution_count": 3,
   "metadata": {},
   "outputs": [
    {
     "name": "stdout",
     "output_type": "stream",
     "text": [
      "\"Hello\"\n"
     ]
    }
   ],
   "source": [
    "str = process_string(\"  hello  \")\n",
    "print(f'\"{str}\"')"
   ]
  },
  {
   "cell_type": "markdown",
   "metadata": {},
   "source": [
    "<h2 id=\"default\">Setting default argument values in your custom functions</h2>"
   ]
  },
  {
   "cell_type": "markdown",
   "metadata": {},
   "source": [
    "You can set a default value for arguments in your function. For example, in the <code>isGoodRating()</code> function, what if we wanted to create a threshold for what we consider to be a good rating? Perhaps by default, we should have a default rating of 4:"
   ]
  },
  {
   "cell_type": "code",
   "execution_count": 4,
   "metadata": {},
   "outputs": [],
   "source": [
    "# Example for setting param with default value\n",
    "\n",
    "def isGoodRating(rating=4): \n",
    "    if(rating < 7):\n",
    "        print(\"this album sucks it's rating is\",rating)\n",
    "        \n",
    "    else:\n",
    "        print(\"this album is good its rating is\",rating)"
   ]
  },
  {
   "cell_type": "code",
   "execution_count": 5,
   "metadata": {},
   "outputs": [
    {
     "name": "stdout",
     "output_type": "stream",
     "text": [
      "this album sucks it's rating is 4\n",
      "this album is good its rating is 10\n"
     ]
    }
   ],
   "source": [
    "# Test the value with default value and with input\n",
    "\n",
    "isGoodRating()\n",
    "isGoodRating(10)"
   ]
  },
  {
   "cell_type": "markdown",
   "metadata": {},
   "source": [
    "### Map\n"
   ]
  },
  {
   "cell_type": "markdown",
   "metadata": {},
   "source": [
    "Python's **map** is a very useful function that is provided in many different programming languages.  The **map** function takes a **list** and applies a function to each member of the **list** and returns a second **list** that is the same size as the first."
   ]
  },
  {
   "cell_type": "code",
   "execution_count": 6,
   "metadata": {},
   "outputs": [
    {
     "data": {
      "text/plain": [
       "['Apple', 'Pear', 'Orange', 'Pine apple']"
      ]
     },
     "execution_count": 6,
     "metadata": {},
     "output_type": "execute_result"
    }
   ],
   "source": [
    "l = ['   apple  ', 'pear ', 'orange', 'pine apple  ']\n",
    "list(map(process_string, l))"
   ]
  },
  {
   "cell_type": "markdown",
   "metadata": {},
   "source": [
    "The **map** function is very similar to the Python **comprehension** that we previously explored.  The following **comprehension** accomplishes the same task as the previous call to **map**."
   ]
  },
  {
   "cell_type": "code",
   "execution_count": 7,
   "metadata": {},
   "outputs": [
    {
     "name": "stdout",
     "output_type": "stream",
     "text": [
      "['Apple', 'Pear', 'Orange', 'Pine apple']\n"
     ]
    }
   ],
   "source": [
    "l = ['   apple  ', 'pear ', 'orange', 'pine apple  ']\n",
    "l2 = [process_string(x) for x in l]\n",
    "print(l2)"
   ]
  },
  {
   "cell_type": "markdown",
   "metadata": {},
   "source": [
    "The choice of using a **map** function or **comprehension** is up to the programmer.  I tend to prefer **map** since it is so common in other programming languages."
   ]
  },
  {
   "cell_type": "markdown",
   "metadata": {},
   "source": [
    "### Filter\n",
    "While a **map function** always creates a new **list** of the same size as the original, the **filter** function creates a potentially smaller **list**. "
   ]
  },
  {
   "cell_type": "code",
   "execution_count": 8,
   "metadata": {},
   "outputs": [
    {
     "name": "stdout",
     "output_type": "stream",
     "text": [
      "[10, 20]\n"
     ]
    }
   ],
   "source": [
    "def greater_than_five(x):\n",
    "    return x>5\n",
    "\n",
    "l = [ 1, 10, 20, 3, -2, 0]\n",
    "l2 = list(filter(greater_than_five, l))\n",
    "print(l2)"
   ]
  },
  {
   "cell_type": "markdown",
   "metadata": {},
   "source": [
    "### Lambda\n",
    "It might seem somewhat tedious to have to create an entire function just to check to see if a value is greater than 5.  A **lambda** saves you this effort.  A lambda is essentially an unnamed function."
   ]
  },
  {
   "cell_type": "code",
   "execution_count": 9,
   "metadata": {},
   "outputs": [
    {
     "name": "stdout",
     "output_type": "stream",
     "text": [
      "[10, 20]\n"
     ]
    }
   ],
   "source": [
    "l = [ 1, 10, 20, 3, -2, 0]\n",
    "l2 = list(filter(lambda x: x>5, l))\n",
    "print(l2)"
   ]
  },
  {
   "cell_type": "markdown",
   "metadata": {},
   "source": [
    "### Reduce\n",
    "\n",
    "Finally, we will make use of **reduce**.  Like **filter** and **map** the **reduce** function also works on a **list**.  However, the result of the **reduce** is a single value.  Consider if you wanted to sum the **values** of a **list**.  The sum is implemented by a **lambda**."
   ]
  },
  {
   "cell_type": "code",
   "execution_count": 10,
   "metadata": {},
   "outputs": [
    {
     "name": "stdout",
     "output_type": "stream",
     "text": [
      "32\n"
     ]
    }
   ],
   "source": [
    "from functools import reduce\n",
    "\n",
    "l = [ 1, 10, 20, 3, -2, 0]\n",
    "result = reduce(lambda x,y: x+y,l)\n",
    "print(result)"
   ]
  }
 ],
 "metadata": {
  "anaconda-cloud": {},
  "kernelspec": {
   "display_name": "Python 3",
   "language": "python",
   "name": "python3"
  },
  "language_info": {
   "codemirror_mode": {
    "name": "ipython",
    "version": 3
   },
   "file_extension": ".py",
   "mimetype": "text/x-python",
   "name": "python",
   "nbconvert_exporter": "python",
   "pygments_lexer": "ipython3",
   "version": "3.7.8"
  }
 },
 "nbformat": 4,
 "nbformat_minor": 4
}
