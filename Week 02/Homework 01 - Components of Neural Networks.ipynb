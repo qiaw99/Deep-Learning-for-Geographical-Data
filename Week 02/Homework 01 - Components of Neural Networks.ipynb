{
 "cells": [
  {
   "cell_type": "markdown",
   "metadata": {},
   "source": [
    "# Homework 01 - Components of Neural Networks\n",
    "\n",
    "The goals of the exercises in this notebook is to practice and check your understanding of numpy main features: vectorization, broadcasting. While the some tasks are formulated as building basic functionality for a neural network, you don't need any deep learning knowledge to solve them, but just to apply basic linear algebra operations on numpy arrays.\n",
    "\n",
    "## Learning objectives\n",
    "\n",
    "- apply basic linear algebra operations (vectorized) on numpy arrays\n",
    "- use numpy built in functionality for solving simple mathematical operations\n",
    "- use numpy functionality from random module to generate random arrays of a given shape\n",
    "\n"
   ]
  },
  {
   "cell_type": "code",
   "execution_count": 1,
   "metadata": {},
   "outputs": [],
   "source": [
    "import numpy as np"
   ]
  },
  {
   "cell_type": "markdown",
   "metadata": {},
   "source": [
    "#### Task 01: Articial Neuron with linear activation\n",
    "\n",
    "Your task is to write a function that implements an **artificial neuron**.\n",
    "\n",
    "\n",
    "A a neuron is the basic computational unit of an Artificial Neural network. Because neural networks are, fundamentally, very mathematical, you will use them to check your Numpy proficiency."
   ]
  },
  {
   "cell_type": "markdown",
   "metadata": {},
   "source": [
    "**Artificial Neural Networks** are modeled as collections of **neurons** (computational units) that are connected in an acyclic graph.  Furthermore, the neurons are grouped/organized into distinct,commonly stacked, **layers** of neurons. In other words, the outputs of the neurons in a layer can become inputs to the neurons in the sbsequent layer.  For regular neural networks, the most common layer type is the **fully-connected layer** in which neurons between two adjacent layers are fully pairwise connected, but neurons within a single layer share no connections. Below you can seen an example of Neural Network topology that uses a stack of two fully-connected layers:\n",
    "<center>\n",
    "<img src=\"./images/ann-dense.png\" style=\"zoom: 80%; background-color:#DCDCDC;\" /><br>\n",
    "<b>Figure 2:</b> Fully Connected Network architecture.\n",
    "</center>"
   ]
  },
  {
   "cell_type": "markdown",
   "metadata": {},
   "source": [
    "\n",
    "Each neuron in the computational graph performs a dot product with the input and its weights, adds the bias and applies the non-linearity (or activation function), e.g. the sigmoid $σ(x)=1/(1+e^{−x})$. You will study in-depth the details of different activation functions in the coming weeks.\n"
   ]
  },
  {
   "cell_type": "markdown",
   "metadata": {},
   "source": [
    "We review the simplest mathematical model for an artificial neuron here:\n",
    "<center>\n",
    "<img src=\"./images/artificial neuron_01.png\" style=\"zoom: 60%; background-color:#DCDCDC;\" /><br>\n",
    "<b>Figure 2:</b> Artificial neuron.\n",
    "</center>\n",
    "The output of the neural network,  $z_1$ , is dependent on the inputs  $x_1$  and  $x_n$. The influence of each of the inputs on the output is given by values called weights. There is one weight from each input to each output. \n",
    "We can represent our inputs and weights as matrices, as shown below:\n",
    "\n",
    "<center>\n",
    "<img src=\"./images/math_artif_neuron.png\" style=\"zoom: 80%; background-color:#DCDCDC;\" /><br>\n",
    "</center>\n",
    "\n",
    "The inputs are given by  $x$, and the outputs are given by  $z_1$. Here,  $w_{11}$  is the weight of the first input $x_{1}$ on the output $z$ (our only output in this case), and  $w_{n1}$  is the weight of the nth input $x_{n}$ on output $z$. In general,  $w_{ij}$  represents the weight of input  $i$  on output  $j$ .\n",
    "\n",
    "The output,  $z_1$ , is given by  $z_1=f(w_{11}*x_1+w_{21}*x_2+ ... + w_{n1}*x_n  +b)$ :\n",
    "\n"
   ]
  },
  {
   "cell_type": "markdown",
   "metadata": {},
   "source": [
    "Your function should take two arguments: `inputs` and `weights`, two NumPy arrays of shape (n,1) and should return a scalar (real number), the output of the neural network. \n",
    "*Hint*: you might want to ue the function `np.sum()`"
   ]
  },
  {
   "cell_type": "code",
   "execution_count": 2,
   "metadata": {},
   "outputs": [],
   "source": [
    "def linear_neuron(inputs, weights, bias):\n",
    "    \"\"\"\n",
    "     Takes an input vector and runs it through a linear neuron\n",
    "     with a given weight matrix and returns the output.\n",
    "\n",
    "     Arg:\n",
    "       inputs - n x 1 NumPy array\n",
    "       weights - n x 1 NumPy array\n",
    "       bias    - 1 x1 Numpy array\n",
    "     Returns (in this order):\n",
    "       out - return a scalar value representing a scalar neuron\n",
    "    \"\"\"\n",
    "    return weights.T @ inputs + bias"
   ]
  },
  {
   "cell_type": "code",
   "execution_count": 3,
   "metadata": {},
   "outputs": [],
   "source": [
    "# Define two vectors (lists): input my_x, weights my_w\n",
    "my_x = np.array([0, 1, 1])\n",
    "my_w = np.array([-10, 10, 5])"
   ]
  },
  {
   "cell_type": "code",
   "execution_count": 4,
   "metadata": {},
   "outputs": [],
   "source": [
    "# Define a scalar: bias b\n",
    "my_b = -5"
   ]
  },
  {
   "cell_type": "code",
   "execution_count": 5,
   "metadata": {},
   "outputs": [
    {
     "data": {
      "text/plain": [
       "10"
      ]
     },
     "execution_count": 5,
     "metadata": {},
     "output_type": "execute_result"
    }
   ],
   "source": [
    "# Test linear_neuron() function\n",
    "linear_neuron(my_x, my_w, my_b)"
   ]
  },
  {
   "cell_type": "markdown",
   "metadata": {},
   "source": [
    "#### Task 02 - Implement the sigmoid function\n",
    "The sigmoid non-linearity has the mathematical form  $σ(x)=1/(1+e^{−x})$ . It takes a real-valued number and “squashes” it into range between 0 and 1. In particular, large negative numbers become 0 and large positive numbers become 1. The sigmoid function has seen frequent use historically since it has a nice interpretation as the firing rate of a neuron.\n",
    "\n",
    "Your task is to implement the sigmoid function, which takes as input a real number and outputs a number between 0 and 1, by applaying the sigmoid function onto the input. *Hint:* you might want to use the function `np.exp()`."
   ]
  },
  {
   "cell_type": "code",
   "execution_count": 8,
   "metadata": {},
   "outputs": [],
   "source": [
    "# Logistic sigmoid\n",
    "def sigmoid(z):\n",
    "    \"\"\"\n",
    "    return the logistic sigmoid (use np.exp())\n",
    "    \"\"\"\n",
    "    return 1 / (1+np.exp(-z)) "
   ]
  },
  {
   "cell_type": "code",
   "execution_count": 9,
   "metadata": {},
   "outputs": [
    {
     "data": {
      "image/png": "[encoded data removed]",
      "text/plain": [
       "<Figure size 432x288 with 1 Axes>"
      ]
     },
     "metadata": {
      "needs_background": "light"
     },
     "output_type": "display_data"
    }
   ],
   "source": [
    "# check your solution\n",
    "\n",
    "import matplotlib.pyplot as plt \n",
    "\n",
    "z = np.linspace(-10, 10, 100) \n",
    "y = sigmoid(z)\n",
    "  \n",
    "plt.plot(z, y) \n",
    "plt.xlabel(\"z\") \n",
    "plt.ylabel(\"Sigmoid(Z)\") \n",
    "  \n",
    "plt.show() "
   ]
  },
  {
   "cell_type": "markdown",
   "metadata": {},
   "source": [
    "### Task 03 - Full neuron  function\n",
    "Combine the code written at tasks 1 and 2 in order to implement a neuron with sigmoid activation (you have to apply the sigmoid function to the linear neuron from the first task)."
   ]
  },
  {
   "cell_type": "code",
   "execution_count": 10,
   "metadata": {},
   "outputs": [],
   "source": [
    "\n",
    "# Full neuron function\n",
    "def neuron(x, weights, bias):\n",
    "    \"\"\"\n",
    "    Return a classical neuron output (reuse code above)\n",
    "    \"\"\"\n",
    "    return sigmoid(linear_neuron(x, weights, bias))"
   ]
  },
  {
   "cell_type": "markdown",
   "metadata": {},
   "source": [
    "### Task 04 - Create a random vector\n",
    "\n",
    "Write a function called randomization that takes as input a positive integer n, and returns A, a random n x 1 Numpy array.\n",
    "\n",
    "\n",
    "Hint: you might want to use the [Numpy function random](https://numpy.org/devdocs/reference/random/generated/numpy.random.random_sample.html#numpy.random.random_sample)"
   ]
  },
  {
   "cell_type": "code",
   "execution_count": 11,
   "metadata": {},
   "outputs": [],
   "source": [
    "def randomization(n):\n",
    "    \"\"\"\n",
    "    Arg:\n",
    "      n - an integer\n",
    "    Returns:\n",
    "      A - a randomly-generated nx1 Numpy array.\n",
    "    \"\"\"\n",
    "    #Your code here\n",
    "    return np.random.rand(n, 1)\n"
   ]
  },
  {
   "cell_type": "code",
   "execution_count": 12,
   "metadata": {},
   "outputs": [
    {
     "data": {
      "text/plain": [
       "array([[0.19669089],\n",
       "       [0.50168578],\n",
       "       [0.53710588]])"
      ]
     },
     "execution_count": 12,
     "metadata": {},
     "output_type": "execute_result"
    }
   ],
   "source": [
    "randomization(3)"
   ]
  },
  {
   "cell_type": "markdown",
   "metadata": {},
   "source": [
    "### Task 05 - Operations"
   ]
  },
  {
   "cell_type": "markdown",
   "metadata": {},
   "source": [
    "Write a function called operations that takes as input two positive integers h and w, makes two random matrices A and B, of size h x w, and returns A,B, and s, the sum of A and B.\n",
    "\n"
   ]
  },
  {
   "cell_type": "code",
   "execution_count": null,
   "metadata": {},
   "outputs": [],
   "source": [
    "def operations(h, w):\n",
    "    \"\"\"\n",
    "    takes as input two positive integers h and w, makes two random matrices A and B, of size h x w,\n",
    "    and returns A,B, and s, the sum of A and B.\n",
    "    Arg:\n",
    "      h, w -  integers\n",
    "    Returns:\n",
    "      A - a randomly-generated nx1 Numpy array.\n",
    "    \"\"\"\n",
    "    A = np.random.rand(h,w)\n",
    "    B = np.random.rand(h,w)\n",
    "    s = A + B\n",
    "    return A, B, s"
   ]
  },
  {
   "cell_type": "code",
   "execution_count": null,
   "metadata": {},
   "outputs": [],
   "source": []
  }
 ],
 "metadata": {
  "kernelspec": {
   "display_name": "Python 3",
   "language": "python",
   "name": "python3"
  },
  "language_info": {
   "codemirror_mode": {
    "name": "ipython",
    "version": 3
   },
   "file_extension": ".py",
   "mimetype": "text/x-python",
   "name": "python",
   "nbconvert_exporter": "python",
   "pygments_lexer": "ipython3",
   "version": "3.7.8"
  }
 },
 "nbformat": 4,
 "nbformat_minor": 4
}
