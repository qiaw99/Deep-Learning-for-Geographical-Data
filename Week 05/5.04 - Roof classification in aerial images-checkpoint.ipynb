{
 "cells": [
  {
   "cell_type": "markdown",
   "metadata": {},
   "source": [
    "# Exercise 05.4 - Image Classfication with a Fully Connected Neural Network"
   ]
  },
  {
   "cell_type": "markdown",
   "metadata": {},
   "source": [
    "## Setup DevCube GPU"
   ]
  },
  {
   "cell_type": "markdown",
   "metadata": {},
   "source": [
    "Before you can start, you have to find a GPU on the system that is not heavily used by other users. Otherwise you cannot initialize your neural network.\n",
    "\n",
    "\n",
    "**Hint:** the command is **nvidia-smi**, just in case it is displayed above in two lines because of a line break.\n",
    "\n",
    "As a result you get a summary of the GPUs available in the system, their current memory usage (in MiB for megabytes), and their current utilization (in %). There should be six or eight GPUs listed and these are numbered 0 to n-1 (n being the number of GPUs). The GPU numbers (ids) are quite at the beginning of each GPU section and their numbers increase from top to bottom by 1.\n",
    "\n",
    "Find a GPU where the memory usage is low. For this purpose look at the memory usage, which looks something like '365MiB / 16125MiB'. The first value is the already used up memory and the second value is the total memory of the GPU. Look for a GPU where there is a large difference between the first and the second value.\n",
    "\n",
    "**Remember the GPU id and write it in the next line instead of the character X.**"
   ]
  },
  {
   "cell_type": "code",
   "execution_count": 1,
   "metadata": {},
   "outputs": [],
   "source": [
    "# Change X to the GPU number you want to use,\n",
    "# otherwise you will get a Python error\n",
    "# e.g. USE_GPU = 4\n",
    "USE_GPU = 0 # YOUR CHOICE"
   ]
  },
  {
   "cell_type": "code",
   "execution_count": 2,
   "metadata": {},
   "outputs": [],
   "source": [
    "# !nvidia-smi"
   ]
  },
  {
   "cell_type": "markdown",
   "metadata": {},
   "source": [
    "### Choose one GPU\n",
    "\n",
    "**The following code is very important and must always be executed before using TensorFlow in the exercises, so that only one GPU is used and that it is set in a way that not all its memory is used at once. Otherwise, the other students will not be able to work with this GPU.**\n",
    "\n",
    "The following program code imports the TensorFlow library for Deep Learning and outputs the version of the library.\n",
    "\n",
    "Then, TensorFlow is configured to only see the one GPU whose number you wrote in the above cell (USE_GPU = X) instead of the X.\n",
    "\n",
    "Finally, the GPU is set so that it does not immediately reserve all memory, but only uses more memory when needed. \n",
    "\n",
    "(The comments within the code cell explains a bit of what is happening if you are interested to better understand it. See also the documentation of TensorFlow for an explanation of the used methods.)"
   ]
  },
  {
   "cell_type": "code",
   "execution_count": 3,
   "metadata": {},
   "outputs": [
    {
     "name": "stdout",
     "output_type": "stream",
     "text": [
      "TensorFlow version: 2.4.0\n",
      "\n",
      "Available GPU Devices:\n",
      "\n",
      "Visible GPU Devices:\n"
     ]
    }
   ],
   "source": [
    "# Import TensorFlow \n",
    "import tensorflow as tf\n",
    "\n",
    "# Print the installed TensorFlow version\n",
    "print(f'TensorFlow version: {tf.__version__}\\n')\n",
    "\n",
    "# Get all GPU devices on this server\n",
    "gpu_devices = tf.config.list_physical_devices('GPU')\n",
    "\n",
    "# Print the name and the type of all GPU devices\n",
    "print('Available GPU Devices:')\n",
    "for gpu in gpu_devices:\n",
    "    print(' ', gpu.name, gpu.device_type)\n",
    "    \n",
    "# Set only the GPU specified as USE_GPU to be visible\n",
    "# tf.config.set_visible_devices(gpu_devices[USE_GPU], 'GPU')\n",
    "\n",
    "# Get all visible GPU  devices on this server\n",
    "visible_devices = tf.config.get_visible_devices('GPU')\n",
    "\n",
    "# Print the name and the type of all visible GPU devices\n",
    "print('\\nVisible GPU Devices:')\n",
    "for gpu in visible_devices:\n",
    "    print(' ', gpu.name, gpu.device_type)\n",
    "    \n",
    "# Set the visible device(s) to not allocate all available memory at once,\n",
    "# but rather let the memory grow whenever needed\n",
    "for gpu in visible_devices:\n",
    "    tf.config.experimental.set_memory_growth(gpu, True)"
   ]
  },
  {
   "cell_type": "code",
   "execution_count": 4,
   "metadata": {},
   "outputs": [],
   "source": [
    "# please run this cell in order to have the plots displayed in the notebook\n",
    "%matplotlib inline"
   ]
  },
  {
   "cell_type": "code",
   "execution_count": 5,
   "metadata": {},
   "outputs": [],
   "source": [
    "import os\n",
    "from pathlib import Path\n",
    "import numpy as np\n",
    "import matplotlib.pyplot as plt\n",
    "import matplotlib.image as mpimg"
   ]
  },
  {
   "cell_type": "markdown",
   "metadata": {},
   "source": [
    "### Image classification with Fully Connected Neural Networks\n",
    "\n",
    "In this section perform roof classification in aerial images using Fully Connected Neural networks.\n",
    "Since the available dataset is of reduced size for the requirements on DL models, your model would benefit from applying the introduced regularization techniques in order to prevent your model from overfitting as much as possible. \n",
    "\n",
    "\n",
    "\n",
    "### Learning Objectives:\n",
    "+ Build independently (i.e. on your own) a Fully Connected Neural Network for classification of aerial images. All information should have been provided in the previous exercises or tutorials.\n",
    "\n",
    "\n",
    "By completing this assignment you will:\n",
    "- Understand that different regularization methods that could help your model.\n",
    "- Implement dropout and see it work on data.\n",
    "- Recognize that a model without regularization gives you a better accuracy on the training set but nor necessarily on the test set."
   ]
  },
  {
   "cell_type": "markdown",
   "metadata": {},
   "source": [
    "####  Dataset\n",
    "\n",
    "The Buildings dataset was generated at our chair for teaching purposes. It comprises a reduced number of aerial images, each featuring a building roof belonging to one of the three categories: flat roof, hip roof and other roof type. \n",
    "\n",
    "The dataset is stored in a shared folder that is linked in your home directory under 'coursematerial/GIS'. It is both available as a zip-file with the name 'dataset_img_building_roofs.zip' that you can download and use on your own computer or that you can copy into your home folder and experiment with it. And And also as an folder with the name 'dataset_img_building_roofs' that you can directly use in this notebook.\n",
    "\n",
    "Please observe the directory structure of the data. You will learn abut this data organization in this notebook. You will learn further details about the dataset while exploring the data.\n",
    "\n",
    "**Note that the following is not necessary and you can directly work with the data stored in the coursematerial folder. It is just in case you want to try it out in your own folder.**\n",
    "By running the following two cells you will unzip the data in your home folder. Please make sure that this notebook is saved in your home directory too. (Deleting a non-empty folder takes several steps in JupyterLab. If you want to remove this dataset folder or any non-empty folder in a more convenient way, then open a terminal, and use 'rm -r dataset_img_building_roofs' to recursively delete the folder with the name 'dataset_img_building_roofs' and all its content. But make sure you are in the correct folder to begin with. Changing folders can be done with the command 'cd foldername'.)"
   ]
  },
  {
   "cell_type": "code",
   "execution_count": 6,
   "metadata": {},
   "outputs": [],
   "source": [
    "# use this function to unzip the zipped dataset file\n",
    "\n",
    "from zipfile import ZipFile\n",
    "import sys\n",
    "\n",
    "def unzip(file_path, dest_path):\n",
    "    '''  unzips a zip compressed file\n",
    "    arg: file_path: the path to the zip file\n",
    "         dest_path: path to the destination directory\n",
    "    '''\n",
    "    with ZipFile(file_path, 'r') as zip_ref:\n",
    "        zip_ref.extractall(dest_path)"
   ]
  },
  {
   "cell_type": "code",
   "execution_count": 8,
   "metadata": {},
   "outputs": [
    {
     "ename": "FileNotFoundError",
     "evalue": "[Errno 2] No such file or directory: 'C:\\\\Users\\\\wjh/coursematerial/GIS/dataset_img_building_roofs.zip'",
     "output_type": "error",
     "traceback": [
      "\u001b[1;31m---------------------------------------------------------------------------\u001b[0m",
      "\u001b[1;31mFileNotFoundError\u001b[0m                         Traceback (most recent call last)",
      "\u001b[1;32m~\\AppData\\Local\\Temp/ipykernel_19828/392702930.py\u001b[0m in \u001b[0;36m<module>\u001b[1;34m\u001b[0m\n\u001b[0;32m      3\u001b[0m \u001b[1;33m\u001b[0m\u001b[0m\n\u001b[0;32m      4\u001b[0m \u001b[1;31m# uncomment to unzip into the current folder of the notebook\u001b[0m\u001b[1;33m\u001b[0m\u001b[1;33m\u001b[0m\u001b[1;33m\u001b[0m\u001b[0m\n\u001b[1;32m----> 5\u001b[1;33m \u001b[0munzip\u001b[0m\u001b[1;33m(\u001b[0m\u001b[0mdata_zip_dir\u001b[0m\u001b[1;33m,\u001b[0m \u001b[0mdata_dir\u001b[0m \u001b[1;33m)\u001b[0m\u001b[1;33m\u001b[0m\u001b[1;33m\u001b[0m\u001b[0m\n\u001b[0m",
      "\u001b[1;32m~\\AppData\\Local\\Temp/ipykernel_19828/3512245531.py\u001b[0m in \u001b[0;36munzip\u001b[1;34m(file_path, dest_path)\u001b[0m\n\u001b[0;32m      9\u001b[0m          \u001b[0mdest_path\u001b[0m\u001b[1;33m:\u001b[0m \u001b[0mpath\u001b[0m \u001b[0mto\u001b[0m \u001b[0mthe\u001b[0m \u001b[0mdestination\u001b[0m \u001b[0mdirectory\u001b[0m\u001b[1;33m\u001b[0m\u001b[1;33m\u001b[0m\u001b[0m\n\u001b[0;32m     10\u001b[0m     '''\n\u001b[1;32m---> 11\u001b[1;33m     \u001b[1;32mwith\u001b[0m \u001b[0mZipFile\u001b[0m\u001b[1;33m(\u001b[0m\u001b[0mfile_path\u001b[0m\u001b[1;33m,\u001b[0m \u001b[1;34m'r'\u001b[0m\u001b[1;33m)\u001b[0m \u001b[1;32mas\u001b[0m \u001b[0mzip_ref\u001b[0m\u001b[1;33m:\u001b[0m\u001b[1;33m\u001b[0m\u001b[1;33m\u001b[0m\u001b[0m\n\u001b[0m\u001b[0;32m     12\u001b[0m         \u001b[0mzip_ref\u001b[0m\u001b[1;33m.\u001b[0m\u001b[0mextractall\u001b[0m\u001b[1;33m(\u001b[0m\u001b[0mdest_path\u001b[0m\u001b[1;33m)\u001b[0m\u001b[1;33m\u001b[0m\u001b[1;33m\u001b[0m\u001b[0m\n",
      "\u001b[1;32mc:\\users\\wjh\\appdata\\local\\programs\\python\\python38\\lib\\zipfile.py\u001b[0m in \u001b[0;36m__init__\u001b[1;34m(self, file, mode, compression, allowZip64, compresslevel, strict_timestamps)\u001b[0m\n\u001b[0;32m   1248\u001b[0m             \u001b[1;32mwhile\u001b[0m \u001b[1;32mTrue\u001b[0m\u001b[1;33m:\u001b[0m\u001b[1;33m\u001b[0m\u001b[1;33m\u001b[0m\u001b[0m\n\u001b[0;32m   1249\u001b[0m                 \u001b[1;32mtry\u001b[0m\u001b[1;33m:\u001b[0m\u001b[1;33m\u001b[0m\u001b[1;33m\u001b[0m\u001b[0m\n\u001b[1;32m-> 1250\u001b[1;33m                     \u001b[0mself\u001b[0m\u001b[1;33m.\u001b[0m\u001b[0mfp\u001b[0m \u001b[1;33m=\u001b[0m \u001b[0mio\u001b[0m\u001b[1;33m.\u001b[0m\u001b[0mopen\u001b[0m\u001b[1;33m(\u001b[0m\u001b[0mfile\u001b[0m\u001b[1;33m,\u001b[0m \u001b[0mfilemode\u001b[0m\u001b[1;33m)\u001b[0m\u001b[1;33m\u001b[0m\u001b[1;33m\u001b[0m\u001b[0m\n\u001b[0m\u001b[0;32m   1251\u001b[0m                 \u001b[1;32mexcept\u001b[0m \u001b[0mOSError\u001b[0m\u001b[1;33m:\u001b[0m\u001b[1;33m\u001b[0m\u001b[1;33m\u001b[0m\u001b[0m\n\u001b[0;32m   1252\u001b[0m                     \u001b[1;32mif\u001b[0m \u001b[0mfilemode\u001b[0m \u001b[1;32min\u001b[0m \u001b[0mmodeDict\u001b[0m\u001b[1;33m:\u001b[0m\u001b[1;33m\u001b[0m\u001b[1;33m\u001b[0m\u001b[0m\n",
      "\u001b[1;31mFileNotFoundError\u001b[0m: [Errno 2] No such file or directory: 'C:\\\\Users\\\\wjh/coursematerial/GIS/dataset_img_building_roofs.zip'"
     ]
    }
   ],
   "source": [
    "data_zip_dir = str(Path.home()) + r'/coursematerial/GIS/' + r'dataset_img_building_roofs.zip'\n",
    "data_dir = './'\n",
    "\n",
    "# uncomment to unzip into the current folder of the notebook\n",
    "unzip(data_zip_dir, data_dir )"
   ]
  },
  {
   "cell_type": "markdown",
   "metadata": {},
   "source": [
    "## Data organization"
   ]
  },
  {
   "cell_type": "code",
   "execution_count": null,
   "metadata": {},
   "outputs": [],
   "source": [
    "data_dir = str(Path.home()) + r'/coursematerial/GIS/dataset_img_building_roofs/'\n",
    "\n",
    "train_dir = os.path.join(data_dir, 'train')\n",
    "validation_dir = os.path.join(data_dir, 'validation')\n",
    "test_dir = os.path.join(data_dir, 'test')"
   ]
  },
  {
   "cell_type": "code",
   "execution_count": null,
   "metadata": {},
   "outputs": [],
   "source": [
    "print('Number of training images belonging to flat_roof_class :', len(os.listdir(os.path.join(train_dir,'flat_roof'))))\n",
    "print('Number of training belonging to hip_roof_class:', len(os.listdir(os.path.join(train_dir,'hip_roof'))))\n",
    "print('Number of training images belonging to other_roof_types_class:', len(os.listdir(os.path.join(train_dir,'other_roof'))))"
   ]
  },
  {
   "cell_type": "code",
   "execution_count": null,
   "metadata": {},
   "outputs": [],
   "source": [
    "train_flat_dir = os.path.join(train_dir,'flat_roof')\n",
    "train_hip_dir = os.path.join(train_dir,'hip_roof')\n",
    "train_other_dir = os.path.join(train_dir,'other_roof')\n",
    "train_flat_names = os.listdir(train_flat_dir) \n",
    "print(train_flat_names[:3])\n",
    "train_hip_names = os.listdir(train_hip_dir)\n",
    "print(train_hip_names[:3])\n",
    "train_other_names = os.listdir(train_other_dir)\n",
    "print(train_other_names[:3])"
   ]
  },
  {
   "cell_type": "code",
   "execution_count": null,
   "metadata": {},
   "outputs": [],
   "source": [
    "os.listdir(validation_dir)"
   ]
  },
  {
   "cell_type": "code",
   "execution_count": null,
   "metadata": {},
   "outputs": [],
   "source": [
    "os.listdir(train_dir)"
   ]
  },
  {
   "cell_type": "code",
   "execution_count": null,
   "metadata": {},
   "outputs": [],
   "source": [
    "os.listdir(validation_dir)"
   ]
  },
  {
   "cell_type": "code",
   "execution_count": null,
   "metadata": {},
   "outputs": [],
   "source": [
    "\n",
    "# Parameters for our graph; we'll output images in a 3x4 configuration\n",
    "nrows = 3\n",
    "ncols = 4\n",
    "\n",
    "# Index for iterating over images\n",
    "pic_index = 0\n",
    "\n",
    "# Set up matplotlib fig, and size it to fit 4x4 pics\n",
    "fig = plt.gcf()\n",
    "fig.set_size_inches(ncols * 4, nrows * 4)\n",
    "\n",
    "pic_index += 4\n",
    "next_flat_pix = [os.path.join(train_flat_dir, fname) \n",
    "                for fname in train_flat_names[pic_index-4:pic_index]]\n",
    "next_hip_pix = [os.path.join(train_hip_dir, fname) \n",
    "                for fname in train_hip_names[pic_index-4:pic_index]]\n",
    "next_other_pix = [os.path.join(train_other_dir, fname) \n",
    "                for fname in train_other_names[pic_index-4:pic_index]]\n",
    "\n",
    "\n",
    "for i, img_path in enumerate(next_flat_pix+next_hip_pix+ next_other_pix):\n",
    "  # Set up subplot; subplot indices start at 1\n",
    "  sp = plt.subplot(nrows, ncols, i + 1)\n",
    "  sp.axis('Off') # Don't show axes (or gridlines)\n",
    "\n",
    "  img = mpimg.imread(img_path)\n",
    "  plt.imshow(img)\n",
    "\n",
    "plt.show()"
   ]
  },
  {
   "cell_type": "markdown",
   "metadata": {},
   "source": [
    "##### Data organization\n"
   ]
  },
  {
   "attachments": {
    "42c48eb8-3a0a-4777-aaa7-ec62bc44336b.png": {
     "image/png": "[encoded data removed]"
    }
   },
   "cell_type": "markdown",
   "metadata": {},
   "source": [
    "A prerequisite to use the build-in tensorflow data generator is to organize the data is a fix directory structure, as in the example below:\n",
    "\n",
    "![image.png](attachment:42c48eb8-3a0a-4777-aaa7-ec62bc44336b.png)\n",
    "\n",
    "\n",
    "The images in the training , validation and test set are stored according to the label. \n",
    "Given this directory structure, the image generator can create a feeder for those images and auto label them for us. \n",
    "So for example, if we point an image generator at the training directory, the labels will be `flat`, `hip` and `other` and all of the images in each directory \n",
    "will be loaded and labeled accordingly. \n",
    "NOTE, you should always point it at the directory that  contains sub-directories that contain your images!!"
   ]
  },
  {
   "cell_type": "markdown",
   "metadata": {},
   "source": [
    "## TASK 1: Setup Data Generators\n",
    "\n",
    "\n",
    "\n",
    "You'll have one generator for the _training images_, one for the _validation images_ and one for _test images_. Your generators will yield batches of images of size 64x64 and their categorical labels. One feature of the image generator is that we can point it at **a parent directory** (in our example called `train_dir`, `validation_dir` and `validation_dir`respectively) and then the **sub-directories** of that will automatically **generate labels** for you. \n",
    " Please notice, your images are already split (no need of split fraction) and stored in different directories. When using _flow_from_directory_method_ please point to the right directory\n"
   ]
  },
  {
   "cell_type": "code",
   "execution_count": null,
   "metadata": {},
   "outputs": [],
   "source": [
    "# setting some hyperparameters\n",
    "NR_OF_IMAGES = 294\n",
    "BATCH_SIZE = 32\n",
    "STEPS_PER_EPOCH = int(NR_OF_IMAGES/BATCH_SIZE)\n",
    "IMAGE_WIDTH = 64 # the size we choose for all images; the generator will reduce or expand the original dimenssions\n",
    "IMAGE_HEIGHT = 64"
   ]
  },
  {
   "cell_type": "code",
   "execution_count": null,
   "metadata": {},
   "outputs": [],
   "source": [
    "from tensorflow.keras.preprocessing.image import ImageDataGenerator"
   ]
  },
  {
   "cell_type": "markdown",
   "metadata": {},
   "source": [
    "Instantiate a _ImageDataGenerator_ object for your training images that:\n",
    "\n",
    " * scales the images\n",
    "\n",
    " * specify several transformations to be applied on the original images in order to augment the dataset\n",
    " \n",
    " \n",
    " Call _flow_from_directory_ on this object and save the function in a variable _train_generator_.\n",
    " * specify the target directory\n",
    " * pass in the size of the images \n",
    " * specify the batch size \n",
    " * specify the class_mode "
   ]
  },
  {
   "cell_type": "code",
   "execution_count": null,
   "metadata": {},
   "outputs": [],
   "source": [
    "# All images will be rescaled by 1./255\n",
    "\n",
    "train_datagen = # your code create an image generator instance\n",
    "\n",
    "print(\"\\nData generator for training data:\")\n",
    "train_generator = # your code here\n",
    "    \n",
    "    "
   ]
  },
  {
   "cell_type": "markdown",
   "metadata": {},
   "source": [
    "Instantiate a _ImageDataGenerator_ object for your validation images that:\n",
    "\n",
    " * scales the images </br>\n",
    " \n",
    "Call _flow_from_directory_ on this object and save the function in a variable _validation_generator_.\n",
    " * specify the target directory\n",
    " * pass in the size of the images \n",
    " * specify the batch size \n",
    " * specify the class_mode "
   ]
  },
  {
   "cell_type": "code",
   "execution_count": null,
   "metadata": {},
   "outputs": [],
   "source": [
    "        \n",
    "validation_datagen = # your code here\n",
    "print(\"\\nData generator for validation data:\")\n",
    "validation_generator = # your code here"
   ]
  },
  {
   "cell_type": "markdown",
   "metadata": {},
   "source": [
    "Instantiate a _ImageDataGenerator_ object for your test images that:\n",
    "\n",
    " * scales the images </br>\n",
    " \n",
    "Call _flow_from_directory_ on this object and save the function in a variable _test_generator_.\n",
    " * specify the target directory\n",
    " * pass in the size of the images \n",
    " * specify the batch size \n",
    " * specify the class_mode "
   ]
  },
  {
   "cell_type": "code",
   "execution_count": null,
   "metadata": {},
   "outputs": [],
   "source": [
    "test_datagen = # your code here\n",
    "print(\"\\nData generator for test data:\")\n",
    "test_generator = # your code here"
   ]
  },
  {
   "cell_type": "markdown",
   "metadata": {},
   "source": [
    "##  Task 2: Build the Fully Connected Neural Network Model"
   ]
  },
  {
   "cell_type": "markdown",
   "metadata": {},
   "source": [
    "##### Reducing overfitting of the model with weight decay, dropout and Early Stopping\n",
    "\n",
    "\n",
    "\n",
    "Using the Sequential API, build your model according the following specifications:\n",
    "* Use a `Flatten` layer to project the images on a one dimensional vector.\n",
    "* The model should use the `input_shape` in the function argument to set the input size in the first layer.\n",
    "* There should then be a further three dense layers, with 64, 128, 256 units respectively and `ReLU` activations.\n",
    "* The output Dense layer should have `Softmax` activation function. The number of unites should match the number of output classes.\n",
    "\n",
    "* Add weight decay (l2 kernel regularization with strength 0.01) in all Dense layers excepting the output layer\n",
    "* Add a dropout layer (dropout rate = 0.5)  after the 2nd and 3rd Dense layer.\n",
    "\n",
    "Additionally:\n",
    "\n",
    "Define a EarlyStopping callback object that:\n",
    "* monitors the validation loss\n",
    "* will stop when the monitored `val_loss` stops decreasing\n",
    "* the training will be stopped after 5 epochs without improvements\n",
    "* the model weights should be restored from the epoch with the best value of `val_loss` (set `restore_best_weights = `  True)\n",
    "\n",
    "Assign a list containing the defined object to a variable `my_callbacks`\n",
    "\n",
    "\n"
   ]
  },
  {
   "cell_type": "code",
   "execution_count": null,
   "metadata": {
    "slideshow": {
     "slide_type": "slide"
    }
   },
   "outputs": [],
   "source": [
    "# YOUR IMPORTS"
   ]
  },
  {
   "cell_type": "code",
   "execution_count": null,
   "metadata": {
    "slideshow": {
     "slide_type": "slide"
    }
   },
   "outputs": [],
   "source": [
    "input_shape=(64,64,3)\n",
    "\n",
    "# YOUR CODE FOR DEFINING THE MODEL"
   ]
  },
  {
   "cell_type": "code",
   "execution_count": null,
   "metadata": {
    "slideshow": {
     "slide_type": "-"
    }
   },
   "outputs": [],
   "source": [
    "model.summary()"
   ]
  },
  {
   "cell_type": "code",
   "execution_count": null,
   "metadata": {},
   "outputs": [],
   "source": [
    "from tensorflow.keras.callbacks import EarlyStopping\n",
    "my_callbacks = [\n",
    "    # YOUR CODE\n",
    "]"
   ]
  },
  {
   "cell_type": "markdown",
   "metadata": {},
   "source": [
    "## TASK 3: Compile the model"
   ]
  },
  {
   "cell_type": "markdown",
   "metadata": {},
   "source": [
    "You should now compile the model using the `compile` method. Remember that you need to specify an optimizer, a loss function and a metric to judge the performance of your model."
   ]
  },
  {
   "cell_type": "code",
   "execution_count": null,
   "metadata": {
    "slideshow": {
     "slide_type": "slide"
    }
   },
   "outputs": [],
   "source": [
    " # YOUR CODE"
   ]
  },
  {
   "cell_type": "markdown",
   "metadata": {},
   "source": [
    "## TASK 4: Fit the model to the training data\n",
    "\n",
    "Now you should train the model on the *Building Roofs dataset* by calling the  `fit()` method on the compiled model object.\n",
    "* Pass in the `train_generator`to the model's `fit` method.\n",
    "* Pass in `STEPS_PER_EPOCH` defined before to the `steps_per_epoch` argument.\n",
    "* Pass in the 'validation_generator' to the `validation_data` argument. \n",
    "* Run the training for a number of 32 epochs, passed in to the function's `epochs` argument.\n",
    "* Set the value of the `shuffle` argument to  `True`\n",
    "* Assign the output of the fit method to a variable 'history'  to be used for plotting the learning curves.\n",
    "\n",
    "For refreshing the possible arguments of the `fit()`method please read the [documentation](https://www.tensorflow.org/api_docs/python/tf/keras/Model#fit)"
   ]
  },
  {
   "cell_type": "code",
   "execution_count": null,
   "metadata": {},
   "outputs": [],
   "source": [
    "history = # YOUR CODE"
   ]
  },
  {
   "cell_type": "markdown",
   "metadata": {},
   "source": [
    "#### Plot the learning curves\n",
    "\n",
    "We will now plot two graphs:\n",
    "* Epoch vs accuracy\n",
    "* Epoch vs loss"
   ]
  },
  {
   "cell_type": "code",
   "execution_count": null,
   "metadata": {},
   "outputs": [],
   "source": [
    "# Run this cell to plot the epoch vs accuracy graph\n",
    "\n",
    "try:\n",
    "    plt.plot(history.history['accuracy'])\n",
    "    plt.plot(history.history['val_accuracy'])\n",
    "except KeyError:\n",
    "    plt.plot(history.history['acc'])\n",
    "    plt.plot(history.history['val_acc'])\n",
    "plt.title('Accuracy vs. epochs')\n",
    "plt.ylabel('Loss')\n",
    "plt.xlabel('Epoch')\n",
    "plt.legend(['Training', 'Validation'], loc='lower right')\n",
    "plt.show() "
   ]
  },
  {
   "cell_type": "code",
   "execution_count": null,
   "metadata": {},
   "outputs": [],
   "source": [
    "#Run this cell to plot the epoch vs loss graph\n",
    "plt.plot(history.history['loss'])\n",
    "plt.plot(history.history['val_loss'])\n",
    "plt.title('Loss vs. epochs')\n",
    "plt.ylabel('Loss')\n",
    "plt.xlabel('Epoch')\n",
    "plt.legend(['Training', 'Validation'], loc='upper right')\n",
    "plt.show() "
   ]
  },
  {
   "cell_type": "markdown",
   "metadata": {},
   "source": [
    "## Predict the class for a single image"
   ]
  },
  {
   "cell_type": "code",
   "execution_count": null,
   "metadata": {},
   "outputs": [],
   "source": [
    "from keras.preprocessing import image\n",
    "first_batch_of_test_set = test_generator[0]\n",
    "images, labels = first_batch_of_test_set\n",
    "img = images[0] #first_image_in_batch\n",
    "\n",
    "_ = plt.imshow(img)"
   ]
  },
  {
   "cell_type": "code",
   "execution_count": null,
   "metadata": {},
   "outputs": [],
   "source": [
    "img = np.expand_dims(img,axis=0)"
   ]
  },
  {
   "cell_type": "code",
   "execution_count": null,
   "metadata": {},
   "outputs": [],
   "source": [
    "# Make a prediction on one image\n",
    "classif_prob = model.predict(img)\n",
    "print(classif_prob)"
   ]
  },
  {
   "cell_type": "code",
   "execution_count": null,
   "metadata": {},
   "outputs": [],
   "source": [
    "# Get the indices of the element of the highest probability\n",
    "pred_classes_argmax = np.argmax(classif_prob,axis=-1)"
   ]
  },
  {
   "cell_type": "code",
   "execution_count": null,
   "metadata": {},
   "outputs": [],
   "source": [
    "# We have one image, get the index of the predicted class.\n",
    "predicted_cls = pred_classes_argmax[0]\n",
    "print(\"Predicted class:\", predicted_cls)"
   ]
  },
  {
   "cell_type": "code",
   "execution_count": null,
   "metadata": {},
   "outputs": [],
   "source": [
    "# Get the class label using the Keras data generator\n",
    "for index,cls in train_generator.class_indices.items():\n",
    "    if cls == predicted_cls:\n",
    "        class_label = index\n",
    "class_label\n",
    "print(class_label)"
   ]
  },
  {
   "cell_type": "code",
   "execution_count": null,
   "metadata": {},
   "outputs": [],
   "source": [
    "# Get example image. The first image of the predicted class folder\n",
    "example_img_path = os.listdir(os.path.join(train_dir,class_label))[0]\n",
    "example_img_path"
   ]
  },
  {
   "cell_type": "code",
   "execution_count": null,
   "metadata": {},
   "outputs": [],
   "source": [
    "# Get example image full path\n",
    "example_img_full_path = os.path.join(train_dir,class_label,example_img_path)\n",
    "example_img_full_path"
   ]
  },
  {
   "cell_type": "code",
   "execution_count": null,
   "metadata": {},
   "outputs": [],
   "source": [
    "# Show predicted class example\n",
    "img = image.load_img(example_img_full_path, target_size=(64, 64))\n",
    "_= plt.imshow(img)"
   ]
  },
  {
   "cell_type": "markdown",
   "metadata": {},
   "source": [
    "## A closer look at classification scores"
   ]
  },
  {
   "cell_type": "code",
   "execution_count": null,
   "metadata": {},
   "outputs": [],
   "source": [
    "classifications = model.predict(test_generator,2)\n",
    "\n",
    "print(classifications[0])"
   ]
  },
  {
   "cell_type": "code",
   "execution_count": null,
   "metadata": {},
   "outputs": [],
   "source": [
    "predicted_class = np.argmax(classifications[0])\n",
    "print('Predicted class:{}'.format(predicted_class))"
   ]
  },
  {
   "cell_type": "markdown",
   "metadata": {},
   "source": [
    "## Testing Accuracy"
   ]
  },
  {
   "cell_type": "code",
   "execution_count": null,
   "metadata": {},
   "outputs": [],
   "source": [
    "values = model.evaluate(test_generator, steps=len(test_generator))\n",
    "print(\"{}:{},{}:{}.\".format(model.metrics_names[0],values[0],model.metrics_names[1],values[1]))"
   ]
  },
  {
   "cell_type": "markdown",
   "metadata": {},
   "source": [
    "\n",
    "To recap: here the most common ways to prevent overfitting in neural networks:\n",
    "\n",
    "* Getting more training data.\n",
    "* Appling dataset augmentation\n",
    "* Reducing the capacity of the network.\n",
    "* Adding weight regularization.\n",
    "* Adding dropout."
   ]
  },
  {
   "cell_type": "code",
   "execution_count": null,
   "metadata": {},
   "outputs": [],
   "source": []
  }
 ],
 "metadata": {
  "kernelspec": {
   "display_name": "Python 3 (ipykernel)",
   "language": "python",
   "name": "python3"
  },
  "language_info": {
   "codemirror_mode": {
    "name": "ipython",
    "version": 3
   },
   "file_extension": ".py",
   "mimetype": "text/x-python",
   "name": "python",
   "nbconvert_exporter": "python",
   "pygments_lexer": "ipython3",
   "version": "3.8.3"
  }
 },
 "nbformat": 4,
 "nbformat_minor": 4
}
