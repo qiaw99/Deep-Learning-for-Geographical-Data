{
 "cells": [
  {
   "cell_type": "markdown",
   "metadata": {},
   "source": [
    "# Tutorial 05.2 - Dropout Regularization in Keras"
   ]
  },
  {
   "cell_type": "markdown",
   "metadata": {},
   "source": [
    "## Setup DevCube GPU"
   ]
  },
  {
   "cell_type": "markdown",
   "metadata": {},
   "source": [
    "Before you can start, you have to find a GPU on the system that is not heavily used by other users. Otherwise you cannot initialize your neural network.\n",
    "\n",
    "\n",
    "**Hint:** the command is **nvidia-smi**, just in case it is displayed above in two lines because of a line break.\n",
    "\n",
    "As a result you get a summary of the GPUs available in the system, their current memory usage (in MiB for megabytes), and their current utilization (in %). There should be six or eight GPUs listed and these are numbered 0 to n-1 (n being the number of GPUs). The GPU numbers (ids) are quite at the beginning of each GPU section and their numbers increase from top to bottom by 1.\n",
    "\n",
    "Find a GPU where the memory usage is low. For this purpose look at the memory usage, which looks something like '365MiB / 16125MiB'. The first value is the already used up memory and the second value is the total memory of the GPU. Look for a GPU where there is a large difference between the first and the second value.\n",
    "\n",
    "**Remember the GPU id and write it in the next line instead of the character X.**"
   ]
  },
  {
   "cell_type": "code",
   "execution_count": 1,
   "metadata": {},
   "outputs": [],
   "source": [
    "\n",
    "# Change X to the GPU number you want to use,\n",
    "# otherwise you will get a Python error\n",
    "# e.g. USE_GPU = 4\n",
    "USE_GPU = 4 # your choice"
   ]
  },
  {
   "cell_type": "code",
   "execution_count": null,
   "metadata": {},
   "outputs": [],
   "source": [
    "# !nvidia-smi"
   ]
  },
  {
   "cell_type": "markdown",
   "metadata": {},
   "source": [
    "### Choose one GPU\n",
    "\n",
    "**The following code is very important and must always be executed before using TensorFlow in the exercises, so that only one GPU is used and that it is set in a way that not all its memory is used at once. Otherwise, the other students will not be able to work with this GPU.**\n",
    "\n",
    "The following program code imports the TensorFlow library for Deep Learning and outputs the version of the library.\n",
    "\n",
    "Then, TensorFlow is configured to only see the one GPU whose number you wrote in the above cell (USE_GPU = X) instead of the X.\n",
    "\n",
    "Finally, the GPU is set so that it does not immediately reserve all memory, but only uses more memory when needed. \n",
    "\n",
    "(The comments within the code cell explains a bit of what is happening if you are interested to better understand it. See also the documentation of TensorFlow for an explanation of the used methods.)"
   ]
  },
  {
   "cell_type": "code",
   "execution_count": 2,
   "metadata": {},
   "outputs": [
    {
     "name": "stdout",
     "output_type": "stream",
     "text": [
      "TensorFlow version: 2.3.1\n",
      "\n",
      "Available GPU Devices:\n",
      "  /physical_device:GPU:0 GPU\n",
      "  /physical_device:GPU:1 GPU\n",
      "  /physical_device:GPU:2 GPU\n",
      "  /physical_device:GPU:3 GPU\n",
      "  /physical_device:GPU:4 GPU\n",
      "  /physical_device:GPU:5 GPU\n",
      "  /physical_device:GPU:6 GPU\n",
      "  /physical_device:GPU:7 GPU\n",
      "\n",
      "Visible GPU Devices:\n",
      "  /physical_device:GPU:4 GPU\n"
     ]
    }
   ],
   "source": [
    "# Import TensorFlow \n",
    "import tensorflow as tf\n",
    "\n",
    "# Print the installed TensorFlow version\n",
    "print(f'TensorFlow version: {tf.__version__}\\n')\n",
    "\n",
    "# Get all GPU devices on this server\n",
    "gpu_devices = tf.config.list_physical_devices('GPU')\n",
    "\n",
    "# Print the name and the type of all GPU devices\n",
    "print('Available GPU Devices:')\n",
    "for gpu in gpu_devices:\n",
    "    print(' ', gpu.name, gpu.device_type)\n",
    "    \n",
    "# Set only the GPU specified as USE_GPU to be visible\n",
    "tf.config.set_visible_devices(gpu_devices[USE_GPU], 'GPU')\n",
    "\n",
    "# Get all visible GPU  devices on this server\n",
    "visible_devices = tf.config.get_visible_devices('GPU')\n",
    "\n",
    "# Print the name and the type of all visible GPU devices\n",
    "print('\\nVisible GPU Devices:')\n",
    "for gpu in visible_devices:\n",
    "    print(' ', gpu.name, gpu.device_type)\n",
    "    \n",
    "# Set the visible device(s) to not allocate all available memory at once,\n",
    "# but rather let the memory grow whenever needed\n",
    "for gpu in visible_devices:\n",
    "    tf.config.experimental.set_memory_growth(gpu, True)"
   ]
  },
  {
   "cell_type": "code",
   "execution_count": 3,
   "metadata": {},
   "outputs": [],
   "source": [
    "# please run this cell in order to have the plots displayed in the notebook\n",
    "%matplotlib inline"
   ]
  },
  {
   "cell_type": "code",
   "execution_count": 4,
   "metadata": {},
   "outputs": [],
   "source": [
    "import os\n",
    "import numpy as np\n",
    "import matplotlib.pyplot as plt\n",
    "import matplotlib.image as mpimg"
   ]
  },
  {
   "attachments": {
    "c1305841-24b7-43b6-97f1-add5da8e5c10.png": {
     "image/png": "[encoded data removed]"
    }
   },
   "cell_type": "markdown",
   "metadata": {},
   "source": [
    "## Adding Dropout\n",
    "\n",
    "\n",
    "Dropout is one of the most effective and most commonly used regularization techniques for neural networks. Dropout, applied to a layer, consists of randomly \"dropping out\" (i.e. setting to zero) a number of output features of the layer during training.  The `dropout rate` is the fraction of the features that are being zeroed-out; it is usually set between 0.2 and 0.5. At test time, no units are dropped out, and instead the layer's output values are scaled down by a factor equal to the dropout rate, so as to balance for the fact that more units are active than at training time.\n",
    "\n",
    "![image.png](attachment:c1305841-24b7-43b6-97f1-add5da8e5c10.png)"
   ]
  },
  {
   "cell_type": "markdown",
   "metadata": {},
   "source": [
    "### Example or Dropout regularization on MNIST classification"
   ]
  },
  {
   "cell_type": "code",
   "execution_count": 5,
   "metadata": {},
   "outputs": [],
   "source": [
    "(train_images, train_labels), (test_images, test_labels) = tf.keras.datasets.mnist.load_data()"
   ]
  },
  {
   "cell_type": "code",
   "execution_count": 6,
   "metadata": {},
   "outputs": [],
   "source": [
    "# subsetting the dataset\n",
    "\n",
    "train_labels = train_labels[:5000]\n",
    "test_labels = test_labels[:1000]\n",
    "\n",
    "train_images = train_images[:5000]/ 255.0 #...and scaling the pixel values\n",
    "test_images = test_images[:1000]/ 255.0"
   ]
  },
  {
   "cell_type": "code",
   "execution_count": 7,
   "metadata": {},
   "outputs": [],
   "source": [
    "from tensorflow.keras.layers import Dense, Flatten, Dropout\n",
    "from tensorflow.keras import regularizers"
   ]
  },
  {
   "cell_type": "code",
   "execution_count": 8,
   "metadata": {},
   "outputs": [],
   "source": [
    "# Define a simple sequential model\n",
    "def create_model():\n",
    "    model = tf.keras.models.Sequential([\n",
    "        Flatten(input_shape=(28,28,1)),\n",
    "        Dense(256, activation='relu', kernel_regularizer=tf.keras.regularizers.L2(0.2),),\n",
    "        Dropout(.5),\n",
    "        Dense(10)\n",
    "       ])\n",
    "    return model"
   ]
  },
  {
   "cell_type": "code",
   "execution_count": 9,
   "metadata": {},
   "outputs": [
    {
     "name": "stdout",
     "output_type": "stream",
     "text": [
      "Model: \"sequential\"\n",
      "_________________________________________________________________\n",
      "Layer (type)                 Output Shape              Param #   \n",
      "=================================================================\n",
      "flatten (Flatten)            (None, 784)               0         \n",
      "_________________________________________________________________\n",
      "dense (Dense)                (None, 256)               200960    \n",
      "_________________________________________________________________\n",
      "dropout (Dropout)            (None, 256)               0         \n",
      "_________________________________________________________________\n",
      "dense_1 (Dense)              (None, 10)                2570      \n",
      "=================================================================\n",
      "Total params: 203,530\n",
      "Trainable params: 203,530\n",
      "Non-trainable params: 0\n",
      "_________________________________________________________________\n"
     ]
    }
   ],
   "source": [
    "# Create a basic model instance\n",
    "model = create_model()\n",
    "# Display the model's architecture\n",
    "model.summary()"
   ]
  },
  {
   "cell_type": "code",
   "execution_count": 10,
   "metadata": {},
   "outputs": [],
   "source": [
    "history = model.compile(optimizer='adam',\n",
    "                loss=tf.losses.SparseCategoricalCrossentropy(from_logits=True),\n",
    "                metrics=[tf.metrics.SparseCategoricalAccuracy()])\n"
   ]
  },
  {
   "cell_type": "code",
   "execution_count": 11,
   "metadata": {},
   "outputs": [
    {
     "name": "stdout",
     "output_type": "stream",
     "text": [
      "Epoch 1/32\n",
      "157/157 [==============================] - 0s 2ms/step - loss: 12.5150 - sparse_categorical_accuracy: 0.6810 - val_loss: 1.4196 - val_sparse_categorical_accuracy: 0.7560\n",
      "Epoch 2/32\n",
      "157/157 [==============================] - 0s 1ms/step - loss: 1.2961 - sparse_categorical_accuracy: 0.7894 - val_loss: 1.2872 - val_sparse_categorical_accuracy: 0.8160\n",
      "Epoch 3/32\n",
      "157/157 [==============================] - 0s 1ms/step - loss: 1.2076 - sparse_categorical_accuracy: 0.7986 - val_loss: 1.2452 - val_sparse_categorical_accuracy: 0.7760\n",
      "Epoch 4/32\n",
      "157/157 [==============================] - 0s 1ms/step - loss: 1.1802 - sparse_categorical_accuracy: 0.8020 - val_loss: 1.1260 - val_sparse_categorical_accuracy: 0.8340\n",
      "Epoch 5/32\n",
      "157/157 [==============================] - 0s 1ms/step - loss: 1.1524 - sparse_categorical_accuracy: 0.8060 - val_loss: 1.1745 - val_sparse_categorical_accuracy: 0.8260\n",
      "Epoch 6/32\n",
      "157/157 [==============================] - 0s 1ms/step - loss: 1.1338 - sparse_categorical_accuracy: 0.8054 - val_loss: 1.0944 - val_sparse_categorical_accuracy: 0.8100\n",
      "Epoch 7/32\n",
      "157/157 [==============================] - 0s 1ms/step - loss: 1.1014 - sparse_categorical_accuracy: 0.8082 - val_loss: 1.1088 - val_sparse_categorical_accuracy: 0.8250\n",
      "Epoch 8/32\n",
      "157/157 [==============================] - 0s 1ms/step - loss: 1.0948 - sparse_categorical_accuracy: 0.8132 - val_loss: 1.0738 - val_sparse_categorical_accuracy: 0.8160\n",
      "Epoch 9/32\n",
      "157/157 [==============================] - 0s 1ms/step - loss: 1.1145 - sparse_categorical_accuracy: 0.7978 - val_loss: 1.0305 - val_sparse_categorical_accuracy: 0.8170\n",
      "Epoch 10/32\n",
      "157/157 [==============================] - 0s 1ms/step - loss: 1.0857 - sparse_categorical_accuracy: 0.8042 - val_loss: 0.9909 - val_sparse_categorical_accuracy: 0.8410\n",
      "Epoch 11/32\n",
      "157/157 [==============================] - 0s 1ms/step - loss: 1.1032 - sparse_categorical_accuracy: 0.8060 - val_loss: 1.0507 - val_sparse_categorical_accuracy: 0.8180\n",
      "Epoch 12/32\n",
      "157/157 [==============================] - 0s 1ms/step - loss: 1.0570 - sparse_categorical_accuracy: 0.8130 - val_loss: 1.0153 - val_sparse_categorical_accuracy: 0.8320\n",
      "Epoch 13/32\n",
      "157/157 [==============================] - 0s 1ms/step - loss: 1.0712 - sparse_categorical_accuracy: 0.8184 - val_loss: 1.0153 - val_sparse_categorical_accuracy: 0.8310\n",
      "Epoch 14/32\n",
      "157/157 [==============================] - 0s 1ms/step - loss: 1.0690 - sparse_categorical_accuracy: 0.8112 - val_loss: 0.9787 - val_sparse_categorical_accuracy: 0.8530\n",
      "Epoch 15/32\n",
      "157/157 [==============================] - 0s 1ms/step - loss: 1.0475 - sparse_categorical_accuracy: 0.8172 - val_loss: 1.0306 - val_sparse_categorical_accuracy: 0.8370\n",
      "Epoch 16/32\n",
      "157/157 [==============================] - 0s 1ms/step - loss: 1.0476 - sparse_categorical_accuracy: 0.8124 - val_loss: 1.0158 - val_sparse_categorical_accuracy: 0.8450\n",
      "Epoch 17/32\n",
      "157/157 [==============================] - 0s 1ms/step - loss: 1.0269 - sparse_categorical_accuracy: 0.8216 - val_loss: 0.9733 - val_sparse_categorical_accuracy: 0.8420\n",
      "Epoch 18/32\n",
      "157/157 [==============================] - 0s 1ms/step - loss: 1.0693 - sparse_categorical_accuracy: 0.8086 - val_loss: 0.9908 - val_sparse_categorical_accuracy: 0.8580\n",
      "Epoch 19/32\n",
      "157/157 [==============================] - 0s 1ms/step - loss: 1.0339 - sparse_categorical_accuracy: 0.8258 - val_loss: 1.0595 - val_sparse_categorical_accuracy: 0.8080\n",
      "Epoch 20/32\n",
      "157/157 [==============================] - 0s 1ms/step - loss: 1.0379 - sparse_categorical_accuracy: 0.8182 - val_loss: 1.0719 - val_sparse_categorical_accuracy: 0.8050\n",
      "Epoch 21/32\n",
      "157/157 [==============================] - 0s 1ms/step - loss: 1.0298 - sparse_categorical_accuracy: 0.8268 - val_loss: 1.0879 - val_sparse_categorical_accuracy: 0.8110\n",
      "Epoch 22/32\n",
      "157/157 [==============================] - 0s 1ms/step - loss: 1.0286 - sparse_categorical_accuracy: 0.8270 - val_loss: 0.9789 - val_sparse_categorical_accuracy: 0.8310\n",
      "Epoch 23/32\n",
      "157/157 [==============================] - 0s 1ms/step - loss: 1.0273 - sparse_categorical_accuracy: 0.8136 - val_loss: 1.0079 - val_sparse_categorical_accuracy: 0.8450\n",
      "Epoch 24/32\n",
      "157/157 [==============================] - 0s 1ms/step - loss: 1.0204 - sparse_categorical_accuracy: 0.8240 - val_loss: 0.9819 - val_sparse_categorical_accuracy: 0.8320\n",
      "Epoch 25/32\n",
      "157/157 [==============================] - 0s 1ms/step - loss: 1.0078 - sparse_categorical_accuracy: 0.8278 - val_loss: 0.9546 - val_sparse_categorical_accuracy: 0.8390\n",
      "Epoch 26/32\n",
      "157/157 [==============================] - 0s 1ms/step - loss: 1.0441 - sparse_categorical_accuracy: 0.8236 - val_loss: 0.9187 - val_sparse_categorical_accuracy: 0.8570\n",
      "Epoch 27/32\n",
      "157/157 [==============================] - 0s 1ms/step - loss: 1.0085 - sparse_categorical_accuracy: 0.8236 - val_loss: 1.0129 - val_sparse_categorical_accuracy: 0.8150\n",
      "Epoch 28/32\n",
      "157/157 [==============================] - 0s 1ms/step - loss: 1.0377 - sparse_categorical_accuracy: 0.8242 - val_loss: 0.9846 - val_sparse_categorical_accuracy: 0.8290\n",
      "Epoch 29/32\n",
      "157/157 [==============================] - 0s 1ms/step - loss: 1.0221 - sparse_categorical_accuracy: 0.8200 - val_loss: 0.9656 - val_sparse_categorical_accuracy: 0.8380\n",
      "Epoch 30/32\n",
      "157/157 [==============================] - 0s 1ms/step - loss: 1.0089 - sparse_categorical_accuracy: 0.8188 - val_loss: 0.9836 - val_sparse_categorical_accuracy: 0.8310\n",
      "Epoch 31/32\n",
      "157/157 [==============================] - 0s 1ms/step - loss: 1.0290 - sparse_categorical_accuracy: 0.8200 - val_loss: 1.0211 - val_sparse_categorical_accuracy: 0.8410\n",
      "Epoch 32/32\n",
      "157/157 [==============================] - 0s 1ms/step - loss: 1.0033 - sparse_categorical_accuracy: 0.8246 - val_loss: 1.0006 - val_sparse_categorical_accuracy: 0.8160\n"
     ]
    },
    {
     "data": {
      "text/plain": [
       "<tensorflow.python.keras.callbacks.History at 0x7f79b6221090>"
      ]
     },
     "execution_count": 11,
     "metadata": {},
     "output_type": "execute_result"
    }
   ],
   "source": [
    "model.fit(train_images, train_labels, batch_size =32, epochs = 32, validation_data = (test_images, test_labels))"
   ]
  },
  {
   "cell_type": "code",
   "execution_count": null,
   "metadata": {},
   "outputs": [],
   "source": []
  },
  {
   "cell_type": "code",
   "execution_count": null,
   "metadata": {},
   "outputs": [],
   "source": []
  }
 ],
 "metadata": {
  "kernelspec": {
   "display_name": "Python 3 (ipykernel)",
   "language": "python",
   "name": "python3"
  },
  "language_info": {
   "codemirror_mode": {
    "name": "ipython",
    "version": 3
   },
   "file_extension": ".py",
   "mimetype": "text/x-python",
   "name": "python",
   "nbconvert_exporter": "python",
   "pygments_lexer": "ipython3",
   "version": "3.10.2"
  },
  "latex_envs": {
   "LaTeX_envs_menu_present": true,
   "autoclose": false,
   "autocomplete": true,
   "bibliofile": "biblio.bib",
   "cite_by": "apalike",
   "current_citInitial": 1,
   "eqLabelWithNumbers": true,
   "eqNumInitial": 1,
   "hotkeys": {
    "equation": "Ctrl-E",
    "itemize": "Ctrl-I"
   },
   "labels_anchors": false,
   "latex_user_defs": false,
   "report_style_numbering": false,
   "user_envs_cfg": false
  }
 },
 "nbformat": 4,
 "nbformat_minor": 4
}
