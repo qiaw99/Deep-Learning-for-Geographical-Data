{
 "cells": [
  {
   "cell_type": "markdown",
   "metadata": {
    "id": "hjAm4T0gKoQp"
   },
   "source": [
    "# Exercise 01 - Hello TensorFlow"
   ]
  },
  {
   "cell_type": "markdown",
   "metadata": {
    "id": "hjAm4T0gKoQp"
   },
   "source": [
    "## Learning objectives\n",
    "\n",
    "- Become familiar with JupyterLab and working with Jupyter notebooks\n",
    "- Learn how to select a free (not fully utilized) GPU in TensorFlow\n",
    "- Train your first neural network\n",
    "- Monitor the GPU usage within a terminal window\n",
    "- See how to free all resources\n",
    "\n",
    "This exercise is **not** intended to learn anything about neural networks or to understand all the details of the program code. It is more about getting to know the technical infrastructure of the course where multiple users work on a server at the same time. An important aspect is to learn how to release the computer resources at the end of use, as otherwise the resources remain occupied and cannot be used by other students."
   ]
  },
  {
   "cell_type": "markdown",
   "metadata": {
    "id": "0863r0BFKoQr"
   },
   "source": [
    "## Seting up a GPU\n",
    "\n",
    "GPUs are graphics processing units that contain special computing cores for Deep Learning tasks. Before you can start, you have to find a GPU on the system that is not heavily used by other users. Otherwise you cannot initialize your neural network.\n",
    "\n",
    "Open a new launcher by pressing the + symbol (located right under the Edit menu) and choose to start a new terminal session (the black symbol with $_). In this terminal window, type the command 'nvidia-smi' (without the single quotation mark) and press enter. \n",
    "\n",
    "**Hint:** the command is **nvidia-smi**, just in case it is displayed above in two lines because of a line break.\n",
    "\n",
    "As a result you get a summary of the GPUs available in the system, their current memory usage (in MiB for megabytes), and their current utilization (in %). There should be six or eight GPUs listed and these are numbered 0 to n-1 (n being the number of GPUs). The GPU numbers (ids) are quite at the beginning of each GPU section and their numbers increase from top to bottom by 1.\n",
    "\n",
    "Find a GPU where the memory usage is low. For this purpose look at the memory usage, which looks something like '365MiB / 16125MiB'. The first value is the already used up memory and the second value is the total memory of the GPU. Look for a GPU where there is a large difference between the first and the second value.\n",
    "\n",
    "**Remember the GPU id and write it in the next line instead of the character X.**"
   ]
  },
  {
   "cell_type": "code",
   "execution_count": 1,
   "metadata": {
    "id": "0863r0BFKoQr"
   },
   "outputs": [],
   "source": [
    "# Change X to the GPU number you want to use,\n",
    "# otherwise you will get a Python error\n",
    "# e.g. USE_GPU = 4\n",
    "USE_GPU = 7"
   ]
  },
  {
   "cell_type": "markdown",
   "metadata": {
    "id": "0863r0BFKoQr"
   },
   "source": [
    "Alternatively, you can use the terminal command in the Jupyter notebook by prefixing the command with an exclamation mark."
   ]
  },
  {
   "cell_type": "code",
   "execution_count": 2,
   "metadata": {
    "id": "0863r0BFKoQr"
   },
   "outputs": [
    {
     "name": "stdout",
     "output_type": "stream",
     "text": [
      "Sat Nov  6 12:19:44 2021       \n",
      "+-----------------------------------------------------------------------------+\n",
      "| NVIDIA-SMI 450.80.02    Driver Version: 450.80.02    CUDA Version: 11.0     |\n",
      "|-------------------------------+----------------------+----------------------+\n",
      "| GPU  Name        Persistence-M| Bus-Id        Disp.A | Volatile Uncorr. ECC |\n",
      "| Fan  Temp  Perf  Pwr:Usage/Cap|         Memory-Usage | GPU-Util  Compute M. |\n",
      "|                               |                      |               MIG M. |\n",
      "|===============================+======================+======================|\n",
      "|   0  Quadro RTX 5000     On   | 00000000:01:00.0 Off |                  Off |\n",
      "| 33%   30C    P8    17W / 230W |      1MiB / 16125MiB |      0%      Default |\n",
      "|                               |                      |                  N/A |\n",
      "+-------------------------------+----------------------+----------------------+\n",
      "|   1  Quadro RTX 5000     On   | 00000000:24:00.0 Off |                  Off |\n",
      "| 33%   28C    P8     7W / 230W |      1MiB / 16125MiB |      0%      Default |\n",
      "|                               |                      |                  N/A |\n",
      "+-------------------------------+----------------------+----------------------+\n",
      "|   2  Quadro RTX 5000     On   | 00000000:41:00.0 Off |                  Off |\n",
      "| 33%   28C    P8     7W / 230W |      1MiB / 16125MiB |      0%      Default |\n",
      "|                               |                      |                  N/A |\n",
      "+-------------------------------+----------------------+----------------------+\n",
      "|   3  Quadro RTX 5000     On   | 00000000:61:00.0 Off |                  Off |\n",
      "| 33%   25C    P8     8W / 230W |      1MiB / 16125MiB |      0%      Default |\n",
      "|                               |                      |                  N/A |\n",
      "+-------------------------------+----------------------+----------------------+\n",
      "|   4  Quadro RTX 5000     On   | 00000000:81:00.0 Off |                  Off |\n",
      "| 33%   25C    P8    10W / 230W |      1MiB / 16125MiB |      0%      Default |\n",
      "|                               |                      |                  N/A |\n",
      "+-------------------------------+----------------------+----------------------+\n",
      "|   5  Quadro RTX 5000     On   | 00000000:A1:00.0 Off |                  Off |\n",
      "| 33%   24C    P8    13W / 230W |      1MiB / 16125MiB |      0%      Default |\n",
      "|                               |                      |                  N/A |\n",
      "+-------------------------------+----------------------+----------------------+\n",
      "|   6  Quadro RTX 5000     On   | 00000000:C1:00.0 Off |                  Off |\n",
      "| 33%   25C    P8    10W / 230W |      1MiB / 16125MiB |      0%      Default |\n",
      "|                               |                      |                  N/A |\n",
      "+-------------------------------+----------------------+----------------------+\n",
      "|   7  Quadro RTX 5000     On   | 00000000:E1:00.0 Off |                  Off |\n",
      "| 33%   25C    P8     7W / 230W |      1MiB / 16125MiB |      0%      Default |\n",
      "|                               |                      |                  N/A |\n",
      "+-------------------------------+----------------------+----------------------+\n",
      "                                                                               \n",
      "+-----------------------------------------------------------------------------+\n",
      "| Processes:                                                                  |\n",
      "|  GPU   GI   CI        PID   Type   Process name                  GPU Memory |\n",
      "|        ID   ID                                                   Usage      |\n",
      "|=============================================================================|\n",
      "|  No running processes found                                                 |\n",
      "+-----------------------------------------------------------------------------+\n"
     ]
    }
   ],
   "source": [
    "!nvidia-smi"
   ]
  },
  {
   "cell_type": "markdown",
   "metadata": {
    "id": "0863r0BFKoQr"
   },
   "source": [
    "The advantage of using a terminal windows is that you can use it while the Jupyter notebook runs a cell. For example, the training of the neural network might take quite some time and while the cell (the training process) is not finished, you cannot execute another cell in the notebook. But you can switch to the terminal window and check the GPU at during training to can monitor your memory usage and utilization of the GPU you use."
   ]
  },
  {
   "cell_type": "markdown",
   "metadata": {
    "id": "0863r0BFKoQr"
   },
   "source": [
    "### Choose one GPU\n",
    "\n",
    "**The following code is very important and must always be executed before using TensorFlow in the exercises, so that only one GPU is used and that it is set in a way that not all its memory is used at once. Otherwise, the other students will not be able to work with this GPU.**\n",
    "\n",
    "The following program code imports the TensorFlow library for Deep Learning and outputs the version of the library.\n",
    "\n",
    "Then, TensorFlow is configured to only see the one GPU whose number you wrote in the above cell (USE_GPU = X) instead of the X.\n",
    "\n",
    "Finally, the GPU is set so that it does not immediately reserve all memory, but only uses more memory when needed. \n",
    "\n",
    "(The comments within the code cell explains a bit of what is happening if you are interested to better understand it. See also the documentation of TensorFlow for an explanation of the used methods.)"
   ]
  },
  {
   "cell_type": "code",
   "execution_count": 3,
   "metadata": {
    "id": "QwPuGPdYKoQs"
   },
   "outputs": [
    {
     "name": "stdout",
     "output_type": "stream",
     "text": [
      "TensorFlow version: 2.3.0\n",
      "\n",
      "Available GPU Devices:\n",
      "  /physical_device:GPU:0 GPU\n",
      "  /physical_device:GPU:1 GPU\n",
      "  /physical_device:GPU:2 GPU\n",
      "  /physical_device:GPU:3 GPU\n",
      "  /physical_device:GPU:4 GPU\n",
      "  /physical_device:GPU:5 GPU\n",
      "  /physical_device:GPU:6 GPU\n",
      "  /physical_device:GPU:7 GPU\n",
      "\n",
      "Visible GPU Devices:\n",
      "  /physical_device:GPU:7 GPU\n"
     ]
    }
   ],
   "source": [
    "# Import TensorFlow \n",
    "import tensorflow as tf\n",
    "\n",
    "# Print the installed TensorFlow version\n",
    "print(f'TensorFlow version: {tf.__version__}\\n')\n",
    "\n",
    "# Get all GPU devices on this server\n",
    "gpu_devices = tf.config.list_physical_devices('GPU')\n",
    "\n",
    "# Print the name and the type of all GPU devices\n",
    "print('Available GPU Devices:')\n",
    "for gpu in gpu_devices:\n",
    "    print(' ', gpu.name, gpu.device_type)\n",
    "    \n",
    "# Set only the GPU specified as USE_GPU to be visible\n",
    "tf.config.set_visible_devices(gpu_devices[USE_GPU], 'GPU')\n",
    "\n",
    "# Get all visible GPU  devices on this server\n",
    "visible_devices = tf.config.get_visible_devices('GPU')\n",
    "\n",
    "# Print the name and the type of all visible GPU devices\n",
    "print('\\nVisible GPU Devices:')\n",
    "for gpu in visible_devices:\n",
    "    print(' ', gpu.name, gpu.device_type)\n",
    "    \n",
    "# Set the visible device(s) to not allocate all available memory at once,\n",
    "# but rather let the memory grow whenever needed\n",
    "for gpu in visible_devices:\n",
    "    tf.config.experimental.set_memory_growth(gpu, True)"
   ]
  },
  {
   "cell_type": "markdown",
   "metadata": {
    "id": "3xaahw5pKoQz"
   },
   "source": [
    "You will not have any advantages if you have more GPUs visible. Your network will not train faster as it will just use the first GPU available. In contrast, if all students have all GPUs visible, then you will very likely share the same GPU. Better choose a GPU that is not currently used. \n",
    "\n",
    "Another disadvantage is that if all GPUs are visible, then you will use up a small portion of memory from every GPU. If all students do that, then the GPU memory of your unused GPUs are wasted without doing any work for you.\n",
    "\n",
    "If a GPU runs out of memory, then no further neural networks can be compiled and created on it."
   ]
  },
  {
   "cell_type": "markdown",
   "metadata": {
    "id": "3xaahw5pKoQz"
   },
   "source": [
    "## Loading data\n",
    "\n",
    "The Keras framework of TensorFlow has a number of functions to load popular datasets for Deep Learning. We will train the neural network on the Fashion-MNIST dataset from Zalando, which contains 60,000 training images (and 10,000 test images) of fashion and clothing items, taken from 10 classes.\n",
    "\n",
    "The dataset is loaded by calling the **load_data()** function from the Keras datasets module. Each image is 28×28 pixels in size and features (one channel of) grayscale values, so that an image contains 784 pixels in total.\n",
    "\n",
    "We convert the pixel intensities from integer to floating point values, and scale the pixel intensities to the range between 0.0 and 1.0, by dividing each value by 255.0. This is called normalization, and as you will learn in the next weeks, data normalization improves the training of neural networks."
   ]
  },
  {
   "cell_type": "code",
   "execution_count": 4,
   "metadata": {
    "id": "3xaahw5pKoQz"
   },
   "outputs": [
    {
     "name": "stdout",
     "output_type": "stream",
     "text": [
      "Loading data...\n",
      "\n",
      "Downloading data from https://storage.googleapis.com/tensorflow/tf-keras-datasets/train-labels-idx1-ubyte.gz\n",
      "32768/29515 [=================================] - 0s 0us/step\n",
      "Downloading data from https://storage.googleapis.com/tensorflow/tf-keras-datasets/train-images-idx3-ubyte.gz\n",
      "26427392/26421880 [==============================] - 1s 0us/step\n",
      "Downloading data from https://storage.googleapis.com/tensorflow/tf-keras-datasets/t10k-labels-idx1-ubyte.gz\n",
      "8192/5148 [===============================================] - 0s 0us/step\n",
      "Downloading data from https://storage.googleapis.com/tensorflow/tf-keras-datasets/t10k-images-idx3-ubyte.gz\n",
      "4423680/4422102 [==============================] - 0s 0us/step\n",
      "FASHION MNIST dataset loaded.\n",
      "\n"
     ]
    }
   ],
   "source": [
    "print('Loading data...\\n')\n",
    "fashion_mnist = tf.keras.datasets.fashion_mnist\n",
    "(X_train, y_train), (X_test, y_test) = fashion_mnist.load_data()\n",
    "print('FASHION MNIST dataset loaded.\\n')\n",
    "\n",
    "X_train = X_train / 255.0\n",
    "X_test = X_test / 255.0"
   ]
  },
  {
   "cell_type": "markdown",
   "metadata": {},
   "source": [
    "The images are stored in X_train (or X_test, more about it in the lecture) and the labels in y_train (or y_test) as tensors.\n",
    "\n",
    "Let's take a look at some images in the dataset and their labels."
   ]
  },
  {
   "cell_type": "code",
   "execution_count": 5,
   "metadata": {},
   "outputs": [
    {
     "data": {
      "image/png": "[encoded data removed]",
      "text/plain": [
       "<Figure size 864x345.6 with 40 Axes>"
      ]
     },
     "metadata": {
      "needs_background": "light"
     },
     "output_type": "display_data"
    }
   ],
   "source": [
    "%matplotlib inline  \n",
    "import matplotlib.pyplot as plt\n",
    "\n",
    "class_names = [\"T-shirt/top\", \"Trouser\", \"Pullover\", \"Dress\", \"Coat\",\n",
    "               \"Sandal\", \"Shirt\", \"Sneaker\", \"Bag\", \"Ankle boot\"]\n",
    "\n",
    "n_rows = 4\n",
    "n_cols = 10\n",
    "plt.figure(figsize=(n_cols * 1.2, n_rows * 1.2))\n",
    "for row in range(n_rows):\n",
    "    for col in range(n_cols):\n",
    "        index = n_cols * row + col\n",
    "        plt.subplot(n_rows, n_cols, index + 1)\n",
    "        plt.imshow(X_train[index], cmap=\"binary\", interpolation=\"nearest\")\n",
    "        plt.axis('off')\n",
    "        plt.title(class_names[y_train[index]], fontsize=12)\n",
    "plt.subplots_adjust(wspace=0.2, hspace=0.5)"
   ]
  },
  {
   "cell_type": "markdown",
   "metadata": {
    "id": "3xaahw5pKoQz"
   },
   "source": [
    "## Constructing a neural network\n",
    "\n",
    "We create a neural network model (with the Sequential API of TensorFlow) that consists of a number of neurons that are arranged in three layers.\n",
    "\n",
    "Do not worry about understanding the code for now, it becomes very clear within the next weeks. Just note that the last layer contains ten neurons to generate ten class scores.\n",
    "\n",
    "Before you execute this part, go into the terminal window and execute nvidia-smi once again. Check the memory of your GPU. You should not occupy any memory yet. (Although another student might use the same GPU and already started to take up memory. But that should not be a problem with this notebook as it does not take up much memory at all.)"
   ]
  },
  {
   "cell_type": "code",
   "execution_count": 6,
   "metadata": {
    "id": "3xaahw5pKoQz"
   },
   "outputs": [
    {
     "name": "stdout",
     "output_type": "stream",
     "text": [
      "Model: \"sequential\"\n",
      "_________________________________________________________________\n",
      "Layer (type)                 Output Shape              Param #   \n",
      "=================================================================\n",
      "flatten (Flatten)            (None, 784)               0         \n",
      "_________________________________________________________________\n",
      "dense (Dense)                (None, 300)               235500    \n",
      "_________________________________________________________________\n",
      "dense_1 (Dense)              (None, 100)               30100     \n",
      "_________________________________________________________________\n",
      "dense_2 (Dense)              (None, 10)                1010      \n",
      "=================================================================\n",
      "Total params: 266,610\n",
      "Trainable params: 266,610\n",
      "Non-trainable params: 0\n",
      "_________________________________________________________________\n"
     ]
    }
   ],
   "source": [
    "model = tf.keras.models.Sequential([\n",
    "  # reshaping the input so that it can be input to a fully connected layer    \n",
    "  tf.keras.layers.Flatten(input_shape=[28, 28]),\n",
    "  # first hidden layer with 300 neurons, with Rectified Linear Unit activation    \n",
    "  tf.keras.layers.Dense(300, activation='relu'),\n",
    "  # second hidden layer with 100 neurons, with Rectified Linear Unit activation\n",
    "  tf.keras.layers.Dense(100, activation='relu'), \n",
    "  # output layer, 10 classes\n",
    "  tf.keras.layers.Dense(10, activation='softmax')\n",
    "])\n",
    "\n",
    "# show a summary of the layers\n",
    "model.summary()"
   ]
  },
  {
   "cell_type": "markdown",
   "metadata": {},
   "source": [
    "When constructing the model above, the first memory of the GPU is taken. If it fails, then you might be out of GPU memory. This could be because other students have in the meantime constructed their networks. Just restart the notebook and choose another GPU. And quickly execute the cells up to this point.\n",
    "\n",
    "Check with the terminal window once again the memory usage. It should have increased by approximately 270MB."
   ]
  },
  {
   "cell_type": "markdown",
   "metadata": {},
   "source": [
    "## Training the neural network\n",
    "\n",
    "We now train the neural network with the Fashion-MNIST training data. This should take 2-3 seconds per epoch and we train for 90 epochs."
   ]
  },
  {
   "cell_type": "code",
   "execution_count": 7,
   "metadata": {
    "id": "3xaahw5pKoQz"
   },
   "outputs": [
    {
     "name": "stdout",
     "output_type": "stream",
     "text": [
      "Training model...\n",
      "\n",
      "Epoch 1/90\n",
      "1782/1782 [==============================] - 2s 1ms/step - loss: 0.7082 - accuracy: 0.7675 - val_loss: 0.5024 - val_accuracy: 0.8127\n",
      "Epoch 2/90\n",
      "1782/1782 [==============================] - 2s 1ms/step - loss: 0.4827 - accuracy: 0.8328 - val_loss: 0.4408 - val_accuracy: 0.8443\n",
      "Epoch 3/90\n",
      "1782/1782 [==============================] - 2s 1ms/step - loss: 0.4391 - accuracy: 0.8462 - val_loss: 0.4789 - val_accuracy: 0.8190\n",
      "Epoch 4/90\n",
      "1782/1782 [==============================] - 2s 1ms/step - loss: 0.4115 - accuracy: 0.8562 - val_loss: 0.3852 - val_accuracy: 0.8587\n",
      "Epoch 5/90\n",
      "1782/1782 [==============================] - 2s 1ms/step - loss: 0.3944 - accuracy: 0.8626 - val_loss: 0.3976 - val_accuracy: 0.8603\n",
      "Epoch 6/90\n",
      "1782/1782 [==============================] - 2s 1ms/step - loss: 0.3783 - accuracy: 0.8667 - val_loss: 0.3911 - val_accuracy: 0.8610\n",
      "Epoch 7/90\n",
      "1782/1782 [==============================] - 2s 1ms/step - loss: 0.3648 - accuracy: 0.8711 - val_loss: 0.3708 - val_accuracy: 0.8697\n",
      "Epoch 8/90\n",
      "1782/1782 [==============================] - 2s 1ms/step - loss: 0.3527 - accuracy: 0.8746 - val_loss: 0.3557 - val_accuracy: 0.8710\n",
      "Epoch 9/90\n",
      "1782/1782 [==============================] - 2s 1ms/step - loss: 0.3425 - accuracy: 0.8789 - val_loss: 0.3506 - val_accuracy: 0.8693\n",
      "Epoch 10/90\n",
      "1782/1782 [==============================] - 2s 1ms/step - loss: 0.3319 - accuracy: 0.8821 - val_loss: 0.3459 - val_accuracy: 0.8763\n",
      "Epoch 11/90\n",
      "1782/1782 [==============================] - 2s 1ms/step - loss: 0.3235 - accuracy: 0.8841 - val_loss: 0.3381 - val_accuracy: 0.8767\n",
      "Epoch 12/90\n",
      "1782/1782 [==============================] - 2s 1ms/step - loss: 0.3158 - accuracy: 0.8879 - val_loss: 0.3423 - val_accuracy: 0.8753\n",
      "Epoch 13/90\n",
      "1782/1782 [==============================] - 2s 1ms/step - loss: 0.3094 - accuracy: 0.8894 - val_loss: 0.4619 - val_accuracy: 0.8310\n",
      "Epoch 14/90\n",
      "1782/1782 [==============================] - 2s 1ms/step - loss: 0.3010 - accuracy: 0.8921 - val_loss: 0.3606 - val_accuracy: 0.8723\n",
      "Epoch 15/90\n",
      "1782/1782 [==============================] - 2s 1ms/step - loss: 0.2947 - accuracy: 0.8941 - val_loss: 0.3266 - val_accuracy: 0.8807\n",
      "Epoch 16/90\n",
      "1782/1782 [==============================] - 2s 1ms/step - loss: 0.2886 - accuracy: 0.8965 - val_loss: 0.3269 - val_accuracy: 0.8763\n",
      "Epoch 17/90\n",
      "1782/1782 [==============================] - 2s 1ms/step - loss: 0.2827 - accuracy: 0.8973 - val_loss: 0.3204 - val_accuracy: 0.8800\n",
      "Epoch 18/90\n",
      "1782/1782 [==============================] - 2s 1ms/step - loss: 0.2775 - accuracy: 0.9004 - val_loss: 0.3353 - val_accuracy: 0.8887\n",
      "Epoch 19/90\n",
      "1782/1782 [==============================] - 2s 1ms/step - loss: 0.2715 - accuracy: 0.9022 - val_loss: 0.3233 - val_accuracy: 0.8850\n",
      "Epoch 20/90\n",
      "1782/1782 [==============================] - 2s 1ms/step - loss: 0.2660 - accuracy: 0.9049 - val_loss: 0.3153 - val_accuracy: 0.8853\n",
      "Epoch 21/90\n",
      "1782/1782 [==============================] - 2s 1ms/step - loss: 0.2619 - accuracy: 0.9052 - val_loss: 0.3588 - val_accuracy: 0.8697\n",
      "Epoch 22/90\n",
      "1782/1782 [==============================] - 2s 1ms/step - loss: 0.2569 - accuracy: 0.9070 - val_loss: 0.3116 - val_accuracy: 0.8863\n",
      "Epoch 23/90\n",
      "1782/1782 [==============================] - 2s 1ms/step - loss: 0.2521 - accuracy: 0.9090 - val_loss: 0.3057 - val_accuracy: 0.8863\n",
      "Epoch 24/90\n",
      "1782/1782 [==============================] - 2s 1ms/step - loss: 0.2479 - accuracy: 0.9105 - val_loss: 0.3653 - val_accuracy: 0.8657\n",
      "Epoch 25/90\n",
      "1782/1782 [==============================] - 2s 1ms/step - loss: 0.2443 - accuracy: 0.9127 - val_loss: 0.4122 - val_accuracy: 0.8630\n",
      "Epoch 26/90\n",
      "1782/1782 [==============================] - 2s 1ms/step - loss: 0.2393 - accuracy: 0.9138 - val_loss: 0.3054 - val_accuracy: 0.8890\n",
      "Epoch 27/90\n",
      "1782/1782 [==============================] - 2s 1ms/step - loss: 0.2350 - accuracy: 0.9158 - val_loss: 0.3013 - val_accuracy: 0.8927\n",
      "Epoch 28/90\n",
      "1782/1782 [==============================] - 2s 1ms/step - loss: 0.2311 - accuracy: 0.9156 - val_loss: 0.3115 - val_accuracy: 0.8863\n",
      "Epoch 29/90\n",
      "1782/1782 [==============================] - 2s 1ms/step - loss: 0.2267 - accuracy: 0.9183 - val_loss: 0.2984 - val_accuracy: 0.8913\n",
      "Epoch 30/90\n",
      "1782/1782 [==============================] - 2s 1ms/step - loss: 0.2231 - accuracy: 0.9202 - val_loss: 0.3453 - val_accuracy: 0.8770\n",
      "Epoch 31/90\n",
      "1782/1782 [==============================] - 2s 1ms/step - loss: 0.2198 - accuracy: 0.9205 - val_loss: 0.3331 - val_accuracy: 0.8793\n",
      "Epoch 32/90\n",
      "1782/1782 [==============================] - 2s 1ms/step - loss: 0.2154 - accuracy: 0.9229 - val_loss: 0.2982 - val_accuracy: 0.8883\n",
      "Epoch 33/90\n",
      "1782/1782 [==============================] - 2s 1ms/step - loss: 0.2128 - accuracy: 0.9233 - val_loss: 0.3034 - val_accuracy: 0.8900\n",
      "Epoch 34/90\n",
      "1782/1782 [==============================] - 2s 1ms/step - loss: 0.2092 - accuracy: 0.9241 - val_loss: 0.3182 - val_accuracy: 0.8830\n",
      "Epoch 35/90\n",
      "1782/1782 [==============================] - 2s 1ms/step - loss: 0.2059 - accuracy: 0.9251 - val_loss: 0.3051 - val_accuracy: 0.8897\n",
      "Epoch 36/90\n",
      "1782/1782 [==============================] - 2s 1ms/step - loss: 0.2030 - accuracy: 0.9279 - val_loss: 0.3085 - val_accuracy: 0.8907\n",
      "Epoch 37/90\n",
      "1782/1782 [==============================] - 2s 1ms/step - loss: 0.2002 - accuracy: 0.9274 - val_loss: 0.3226 - val_accuracy: 0.8830\n",
      "Epoch 38/90\n",
      "1782/1782 [==============================] - 2s 1ms/step - loss: 0.1968 - accuracy: 0.9294 - val_loss: 0.3239 - val_accuracy: 0.8843\n",
      "Epoch 39/90\n",
      "1782/1782 [==============================] - 2s 1ms/step - loss: 0.1928 - accuracy: 0.9306 - val_loss: 0.3345 - val_accuracy: 0.8817\n",
      "Epoch 40/90\n",
      "1782/1782 [==============================] - 2s 1ms/step - loss: 0.1901 - accuracy: 0.9316 - val_loss: 0.2985 - val_accuracy: 0.8953\n",
      "Epoch 41/90\n",
      "1782/1782 [==============================] - 2s 1ms/step - loss: 0.1861 - accuracy: 0.9332 - val_loss: 0.2957 - val_accuracy: 0.8900\n",
      "Epoch 42/90\n",
      "1782/1782 [==============================] - 2s 1ms/step - loss: 0.1843 - accuracy: 0.9341 - val_loss: 0.3225 - val_accuracy: 0.8907\n",
      "Epoch 43/90\n",
      "1782/1782 [==============================] - 2s 1ms/step - loss: 0.1810 - accuracy: 0.9352 - val_loss: 0.3394 - val_accuracy: 0.8807\n",
      "Epoch 44/90\n",
      "1782/1782 [==============================] - 2s 1ms/step - loss: 0.1785 - accuracy: 0.9358 - val_loss: 0.3043 - val_accuracy: 0.8917\n",
      "Epoch 45/90\n",
      "1782/1782 [==============================] - 2s 1ms/step - loss: 0.1754 - accuracy: 0.9377 - val_loss: 0.3843 - val_accuracy: 0.8707\n",
      "Epoch 46/90\n",
      "1782/1782 [==============================] - 2s 1ms/step - loss: 0.1722 - accuracy: 0.9391 - val_loss: 0.3164 - val_accuracy: 0.8890\n",
      "Epoch 47/90\n",
      "1782/1782 [==============================] - 2s 1ms/step - loss: 0.1698 - accuracy: 0.9397 - val_loss: 0.3928 - val_accuracy: 0.8677\n",
      "Epoch 48/90\n",
      "1782/1782 [==============================] - 2s 1ms/step - loss: 0.1669 - accuracy: 0.9402 - val_loss: 0.3218 - val_accuracy: 0.8903\n",
      "Epoch 49/90\n",
      "1782/1782 [==============================] - 2s 1ms/step - loss: 0.1640 - accuracy: 0.9407 - val_loss: 0.3075 - val_accuracy: 0.8887\n",
      "Epoch 50/90\n",
      "1782/1782 [==============================] - 2s 1ms/step - loss: 0.1613 - accuracy: 0.9430 - val_loss: 0.4205 - val_accuracy: 0.8600\n",
      "Epoch 51/90\n",
      "1782/1782 [==============================] - 2s 1ms/step - loss: 0.1599 - accuracy: 0.9428 - val_loss: 0.3127 - val_accuracy: 0.8950\n",
      "Epoch 52/90\n",
      "1782/1782 [==============================] - 2s 1ms/step - loss: 0.1581 - accuracy: 0.9427 - val_loss: 0.3004 - val_accuracy: 0.8947\n",
      "Epoch 53/90\n",
      "1782/1782 [==============================] - 2s 1ms/step - loss: 0.1541 - accuracy: 0.9450 - val_loss: 0.3248 - val_accuracy: 0.8897\n",
      "Epoch 54/90\n",
      "1782/1782 [==============================] - 2s 1ms/step - loss: 0.1517 - accuracy: 0.9455 - val_loss: 0.3195 - val_accuracy: 0.8950\n",
      "Epoch 55/90\n",
      "1782/1782 [==============================] - 2s 1ms/step - loss: 0.1501 - accuracy: 0.9470 - val_loss: 0.3319 - val_accuracy: 0.8877\n",
      "Epoch 56/90\n",
      "1782/1782 [==============================] - 2s 1ms/step - loss: 0.1471 - accuracy: 0.9473 - val_loss: 0.3195 - val_accuracy: 0.8903\n",
      "Epoch 57/90\n",
      "1782/1782 [==============================] - 2s 1ms/step - loss: 0.1439 - accuracy: 0.9491 - val_loss: 0.3219 - val_accuracy: 0.8913\n",
      "Epoch 58/90\n",
      "1782/1782 [==============================] - 2s 1ms/step - loss: 0.1415 - accuracy: 0.9489 - val_loss: 0.3453 - val_accuracy: 0.8843\n",
      "Epoch 59/90\n",
      "1782/1782 [==============================] - 2s 1ms/step - loss: 0.1397 - accuracy: 0.9513 - val_loss: 0.4108 - val_accuracy: 0.8637\n",
      "Epoch 60/90\n",
      "1782/1782 [==============================] - 2s 1ms/step - loss: 0.1385 - accuracy: 0.9510 - val_loss: 0.3150 - val_accuracy: 0.8937\n",
      "Epoch 61/90\n",
      "1782/1782 [==============================] - 2s 1ms/step - loss: 0.1360 - accuracy: 0.9518 - val_loss: 0.3295 - val_accuracy: 0.8883\n",
      "Epoch 62/90\n",
      "1782/1782 [==============================] - 2s 1ms/step - loss: 0.1344 - accuracy: 0.9529 - val_loss: 0.4374 - val_accuracy: 0.8693\n",
      "Epoch 63/90\n",
      "1782/1782 [==============================] - 2s 1ms/step - loss: 0.1323 - accuracy: 0.9527 - val_loss: 0.3222 - val_accuracy: 0.8913\n",
      "Epoch 64/90\n",
      "1782/1782 [==============================] - 2s 1ms/step - loss: 0.1296 - accuracy: 0.9547 - val_loss: 0.3278 - val_accuracy: 0.8907\n",
      "Epoch 65/90\n",
      "1782/1782 [==============================] - 2s 1ms/step - loss: 0.1260 - accuracy: 0.9552 - val_loss: 0.4062 - val_accuracy: 0.8767\n",
      "Epoch 66/90\n",
      "1782/1782 [==============================] - 2s 1ms/step - loss: 0.1265 - accuracy: 0.9559 - val_loss: 0.3496 - val_accuracy: 0.8917\n",
      "Epoch 67/90\n",
      "1782/1782 [==============================] - 2s 1ms/step - loss: 0.1232 - accuracy: 0.9561 - val_loss: 0.3592 - val_accuracy: 0.8843\n",
      "Epoch 68/90\n",
      "1782/1782 [==============================] - 2s 1ms/step - loss: 0.1222 - accuracy: 0.9571 - val_loss: 0.3652 - val_accuracy: 0.8887\n",
      "Epoch 69/90\n",
      "1782/1782 [==============================] - 2s 1ms/step - loss: 0.1190 - accuracy: 0.9587 - val_loss: 0.3637 - val_accuracy: 0.8893\n",
      "Epoch 70/90\n",
      "1782/1782 [==============================] - 2s 1ms/step - loss: 0.1165 - accuracy: 0.9594 - val_loss: 0.4587 - val_accuracy: 0.8730\n",
      "Epoch 71/90\n",
      "1782/1782 [==============================] - 2s 1ms/step - loss: 0.1158 - accuracy: 0.9592 - val_loss: 0.3524 - val_accuracy: 0.8877\n",
      "Epoch 72/90\n",
      "1782/1782 [==============================] - 2s 1ms/step - loss: 0.1138 - accuracy: 0.9596 - val_loss: 0.3458 - val_accuracy: 0.8913\n",
      "Epoch 73/90\n",
      "1782/1782 [==============================] - 2s 1ms/step - loss: 0.1114 - accuracy: 0.9607 - val_loss: 0.3449 - val_accuracy: 0.8930\n",
      "Epoch 74/90\n",
      "1782/1782 [==============================] - 2s 1ms/step - loss: 0.1095 - accuracy: 0.9619 - val_loss: 0.3561 - val_accuracy: 0.8907\n",
      "Epoch 75/90\n",
      "1782/1782 [==============================] - 2s 1ms/step - loss: 0.1080 - accuracy: 0.9623 - val_loss: 0.3505 - val_accuracy: 0.8957\n",
      "Epoch 76/90\n",
      "1782/1782 [==============================] - 2s 1ms/step - loss: 0.1065 - accuracy: 0.9629 - val_loss: 0.3552 - val_accuracy: 0.8907\n",
      "Epoch 77/90\n",
      "1782/1782 [==============================] - 2s 1ms/step - loss: 0.1036 - accuracy: 0.9644 - val_loss: 0.4202 - val_accuracy: 0.8730\n",
      "Epoch 78/90\n",
      "1782/1782 [==============================] - 2s 1ms/step - loss: 0.1027 - accuracy: 0.9643 - val_loss: 0.3445 - val_accuracy: 0.8893\n",
      "Epoch 79/90\n",
      "1782/1782 [==============================] - 2s 1ms/step - loss: 0.1010 - accuracy: 0.9646 - val_loss: 0.3569 - val_accuracy: 0.8907\n",
      "Epoch 80/90\n",
      "1782/1782 [==============================] - 2s 1ms/step - loss: 0.1007 - accuracy: 0.9649 - val_loss: 0.3862 - val_accuracy: 0.8863\n",
      "Epoch 81/90\n",
      "1782/1782 [==============================] - 2s 1ms/step - loss: 0.0990 - accuracy: 0.9658 - val_loss: 0.3684 - val_accuracy: 0.8843\n",
      "Epoch 82/90\n",
      "1782/1782 [==============================] - 2s 1ms/step - loss: 0.0960 - accuracy: 0.9661 - val_loss: 0.3892 - val_accuracy: 0.8850\n",
      "Epoch 83/90\n",
      "1782/1782 [==============================] - 2s 1ms/step - loss: 0.0965 - accuracy: 0.9661 - val_loss: 0.4799 - val_accuracy: 0.8663\n",
      "Epoch 84/90\n",
      "1782/1782 [==============================] - 2s 1ms/step - loss: 0.0953 - accuracy: 0.9670 - val_loss: 0.3624 - val_accuracy: 0.8893\n",
      "Epoch 85/90\n",
      "1782/1782 [==============================] - 2s 1ms/step - loss: 0.0928 - accuracy: 0.9673 - val_loss: 0.3681 - val_accuracy: 0.8877\n",
      "Epoch 86/90\n",
      "1782/1782 [==============================] - 2s 1ms/step - loss: 0.0894 - accuracy: 0.9690 - val_loss: 0.3699 - val_accuracy: 0.8860\n",
      "Epoch 87/90\n",
      "1782/1782 [==============================] - 2s 1ms/step - loss: 0.0899 - accuracy: 0.9693 - val_loss: 0.3579 - val_accuracy: 0.8967\n",
      "Epoch 88/90\n",
      "1782/1782 [==============================] - 2s 1ms/step - loss: 0.0870 - accuracy: 0.9702 - val_loss: 0.4763 - val_accuracy: 0.8703\n",
      "Epoch 89/90\n",
      "1782/1782 [==============================] - 2s 1ms/step - loss: 0.0848 - accuracy: 0.9711 - val_loss: 0.6049 - val_accuracy: 0.8403\n",
      "Epoch 90/90\n",
      "1782/1782 [==============================] - 2s 1ms/step - loss: 0.0842 - accuracy: 0.9712 - val_loss: 0.3916 - val_accuracy: 0.8953\n",
      "\n",
      "Model trained successfully!\n"
     ]
    }
   ],
   "source": [
    "# compiling the model\n",
    "model.compile(optimizer='sgd',\n",
    "              loss='sparse_categorical_crossentropy',\n",
    "              metrics=['accuracy'])\n",
    "\n",
    "# fit the model to the training data\n",
    "print('Training model...\\n')\n",
    "\n",
    "# you can change the number of epochs to lower or higher numbers to train the network\n",
    "# for a longer or shorter while. An epoch is when the network has seen all the training\n",
    "# data one time.\n",
    "history = model.fit(X_train, y_train, epochs=90, batch_size=32, validation_split=0.05)\n",
    "\n",
    "print('\\nModel trained successfully!')"
   ]
  },
  {
   "cell_type": "markdown",
   "metadata": {},
   "source": [
    "**You can check memory and GPU usage in the terminal window with the 'nvidia-smi' command while the training is in progress.**\n",
    "\n",
    "Also in this step, you will occupy a little more memory from the GPU. Your personal memory usage should be approximately at 340MB."
   ]
  },
  {
   "cell_type": "markdown",
   "metadata": {},
   "source": [
    "## Evaluating the neural network\n",
    "\n",
    "We evaluate the model on the unseen test data and show the loss (1st value) and the accuracy (2nd value). The closer the loss value is to 0.0, the better, and the higher the accuracy value is to 1.0, the better. The accuracy tells you how many times the prediction is right. (Multiply the number by 100 to get a percentage value.) Depending on how many epochs you trained the model, your accuracy should be close to 90%."
   ]
  },
  {
   "cell_type": "code",
   "execution_count": 10,
   "metadata": {},
   "outputs": [
    {
     "name": "stdout",
     "output_type": "stream",
     "text": [
      "313/313 [==============================] - 0s 869us/step - loss: 0.4094 - accuracy: 0.8883\n"
     ]
    },
    {
     "data": {
      "text/plain": [
       "[0.4093968868255615, 0.8883000016212463]"
      ]
     },
     "execution_count": 10,
     "metadata": {},
     "output_type": "execute_result"
    }
   ],
   "source": [
    "model.evaluate(X_test, y_test)"
   ]
  },
  {
   "cell_type": "markdown",
   "metadata": {},
   "source": [
    "## Make predictions on test data\n",
    "\n",
    "Let's make some predictions on some images of the (unseen) test data."
   ]
  },
  {
   "cell_type": "code",
   "execution_count": 11,
   "metadata": {},
   "outputs": [],
   "source": [
    "# We need numpy for generating random values to pick random images.\n",
    "import numpy as np\n",
    "# Set a random seed in order to reproduce the results, images, etc.\n",
    "np.random.seed(42)"
   ]
  },
  {
   "cell_type": "markdown",
   "metadata": {},
   "source": [
    "First do a prediction on one random image from the test data set. You can repeat the next cell to make more predictions.\n",
    "\n",
    "Although it is a random image, the random number generator is set up above to always give the same sequence of random numbers. Just deactivate np.random.seed(42) in the cell above to get totally random numbers if you want to and execute the cell again."
   ]
  },
  {
   "cell_type": "code",
   "execution_count": 12,
   "metadata": {},
   "outputs": [
    {
     "name": "stdout",
     "output_type": "stream",
     "text": [
      "The image [7270] is predicted to show a T-shirt/top\n"
     ]
    }
   ],
   "source": [
    "# generate a random index value\n",
    "rnd = np.random.randint(0, X_test.shape[0], 1)\n",
    "\n",
    "# pick a random image and predict the class\n",
    "print(f'The image {rnd} is predicted to show a',\n",
    "        class_names[np.argmax(model.predict(X_test[rnd]), axis=-1)[0]])"
   ]
  },
  {
   "cell_type": "markdown",
   "metadata": {},
   "source": [
    "Now lets do a few more predictions and show the results as the predicted label (Pred.), the real label (Real), and the image."
   ]
  },
  {
   "cell_type": "code",
   "execution_count": 13,
   "metadata": {},
   "outputs": [
    {
     "data": {
      "image/png": "[encoded data removed]",
      "text/plain": [
       "<Figure size 864x172.8 with 5 Axes>"
      ]
     },
     "metadata": {
      "needs_background": "light"
     },
     "output_type": "display_data"
    }
   ],
   "source": [
    "ncols = 5\n",
    "fig_width = 2.4 * ncols\n",
    "\n",
    "idx = np.random.randint(0, X_test.shape[0], size=ncols)\n",
    "\n",
    "X_new = X_test[idx]\n",
    "y_new = y_test[idx]\n",
    "\n",
    "# This is where the prediction takes place.\n",
    "y_pred = np.argmax(model.predict(X_new), axis=-1) # get the index class\n",
    "\n",
    "fig, axs = plt.subplots(ncols=ncols, figsize=(fig_width, 2.4))\n",
    "ind = []\n",
    "for index, image in enumerate(X_new):\n",
    "    ind.append(index) \n",
    "    ax = plt.subplot(1, ncols, index + 1)\n",
    "    fig.add_subplot(ax)\n",
    "    plt.imshow(image, cmap=\"binary\", interpolation=\"nearest\")\n",
    "    plt.axis('off')\n",
    "    ax.set_title('Pred.: '+ class_names[y_pred[index]] + '\\nReal: '+ class_names[y_test[idx[index]]])"
   ]
  },
  {
   "cell_type": "markdown",
   "metadata": {},
   "source": [
    "# One last thing\n",
    "\n",
    "\n",
    "\n",
    "<font color='red'>**Do not forget to close all kernels and log out once you are finished.**</font>"
   ]
  }
 ],
 "metadata": {
  "colab": {
   "collapsed_sections": [],
   "name": "Coding Tutorial.ipynb",
   "provenance": [],
   "toc_visible": true
  },
  "kernelspec": {
   "display_name": "Python 3",
   "language": "python",
   "name": "python3"
  },
  "language_info": {
   "codemirror_mode": {
    "name": "ipython",
    "version": 3
   },
   "file_extension": ".py",
   "mimetype": "text/x-python",
   "name": "python",
   "nbconvert_exporter": "python",
   "pygments_lexer": "ipython3",
   "version": "3.7.8"
  }
 },
 "nbformat": 4,
 "nbformat_minor": 4
}
