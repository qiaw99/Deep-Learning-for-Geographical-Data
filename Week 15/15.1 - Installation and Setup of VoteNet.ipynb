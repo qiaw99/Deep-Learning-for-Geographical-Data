{
 "cells": [
  {
   "cell_type": "markdown",
   "metadata": {},
   "source": [
    "# 15.1 - Installation and Setup of VoteNet\n",
    "\n",
    "This exercise on the application of VoteNet for building detection in 3D airborne laser scanning (ALS) point clouds is organized in several notebooks. In this first notebook, the installation and setup of the network source code as well as the exercise files and notebooks are explained.\n",
    "\n",
    "Then, the second notebook concentrates on the ISPRS dataset with the corresponding files and classes that provides the data to the network for training and prediction.\n",
    "\n",
    "Last, the necessary modifications on the VoteNet neural network model to the specifics of the data basis of ALS data are explained. The implementation of VoteNet is based on 3D point clouds of indoor environments, so the changes for ALS data are mainly due to the larger size of the real objects and the comparably lower point density.\n",
    "\n",
    "**Disclaimer: This exercise and notebook are based on prototypically prepared data and conducted experiments. There are therefore many aspects that could be improved, and it cannot be ruled out that there are logical and programming errors.**"
   ]
  },
  {
   "cell_type": "markdown",
   "metadata": {},
   "source": [
    "## Clone the GitHub repository"
   ]
  },
  {
   "cell_type": "code",
   "execution_count": 1,
   "metadata": {},
   "outputs": [
    {
     "name": "stdout",
     "output_type": "stream",
     "text": [
      "Cloning into 'votenet'...\n",
      "remote: Enumerating objects: 134, done.\u001b[K\n",
      "remote: Total 134 (delta 0), reused 0 (delta 0), pack-reused 134\u001b[K\n",
      "Receiving objects: 100% (134/134), 845.31 KiB | 5.49 MiB/s, done.\n",
      "Resolving deltas: 100% (30/30), done.\n"
     ]
    }
   ],
   "source": [
    "!git clone https://github.com/facebookresearch/votenet"
   ]
  },
  {
   "cell_type": "markdown",
   "metadata": {},
   "source": [
    "Take a few minutes to explore the directory structure of votenet. \n",
    "\n",
    "The directory \"doc\" contains a file that explains how to train the VoteNet network with your own data and might be worth reading.\n",
    "\n",
    "The two directories \"scannet\" and \"sunrgbd\" are organizing files that deal with the datasets ScanNet and Sun RGB, respectively. These files and their contained classes and functions provide an abstraction of the specifics of these datasets and thereby a common interface to the dataset for the VoteNet network. In this exercise, another directory called \"ISPRS\" will be created that contains similar files and classes specific for the ISPRS dataset. In the second part (notebook) of this exercise, the dataset classes and the input data are explored.\n",
    "\n",
    "The directory \"model\" contains the definition of the neural network. Files in this directory are modified in the third part of the exercise to adapt the network to the ALS data.\n",
    "\n",
    "The directory \"pointnet2\" contains a PyTorch PointNet++ implementation that is used by VoteNet.\n",
    "\n",
    "The directory \"utils\" contains some utility functions."
   ]
  },
  {
   "cell_type": "markdown",
   "metadata": {},
   "source": [
    "## Install the ISPRS Dataset Files\n",
    "\n",
    "The VoteNet project is organized, so that it holds for each dataset a subdirectory with files containing corresponding classes and helper functions. See e.g. the subdirectories \"scannet\" and \"sundrgbd\" in the \"votenet\" directory. **For the provided ISPRS dataset, copy the \"ISPRS.zip\" file into the directory of this notebook and execute the following command to unzip the content of the folder into the directory called \"ISPRS\" in the subdirectory of \"votenet\".** (The -d parameter allows to unzip the content of the zip file into a user provided directory instead the current directory.)"
   ]
  },
  {
   "cell_type": "code",
   "execution_count": 1,
   "metadata": {},
   "outputs": [
    {
     "name": "stdout",
     "output_type": "stream",
     "text": [
      "Archive:  ISPRS.zip\n",
      "   creating: ./votenet/ISPRS/\n",
      "  inflating: ./votenet/ISPRS/model_util_ISPRS.py  \n",
      "  inflating: ./votenet/ISPRS/ISPRS_utils.py  \n",
      "  inflating: ./votenet/ISPRS/pc_util.py  \n",
      "  inflating: ./votenet/ISPRS/ISPRS_detection_dataset.py  \n"
     ]
    }
   ],
   "source": [
    "!unzip ISPRS.zip -d ./votenet"
   ]
  },
  {
   "cell_type": "markdown",
   "metadata": {},
   "source": [
    "You should now find a directory called \"ISPRS\" in the directory of \"votenet\". **Copy the notebook 15.2 into this folder (\"ISPRS\"), which explores the dataset classes and the input data.**"
   ]
  },
  {
   "cell_type": "markdown",
   "metadata": {},
   "source": [
    "## Install Needed Packages\n",
    "\n",
    "The dataset classes and functions output and write data in PLY format. (PLY is a common file format in the computer graphics field to output 3D models.) Therefore, the *plyfile* Python module and the *trimesh* Python module need to be installed. This is accomplished in the following with the pip package installer. The \"--user\" parameter installs these packages into your home directory instead of the system directory, so that no special privileges are required on your part."
   ]
  },
  {
   "cell_type": "code",
   "execution_count": 3,
   "metadata": {},
   "outputs": [
    {
     "name": "stdout",
     "output_type": "stream",
     "text": [
      "Requirement already satisfied: plyfile in /home/jovyan/.local/lib/python3.7/site-packages (0.7.4)\n",
      "Requirement already satisfied: numpy>=1.8 in /opt/conda/lib/python3.7/site-packages (from plyfile) (1.18.5)\n",
      "\u001b[33mWARNING: You are using pip version 21.1.2; however, version 21.3.1 is available.\n",
      "You should consider upgrading via the '/opt/conda/bin/python -m pip install --upgrade pip' command.\u001b[0m\n",
      "Note: you may need to restart the kernel to use updated packages.\n"
     ]
    }
   ],
   "source": [
    "pip install plyfile --user"
   ]
  },
  {
   "cell_type": "code",
   "execution_count": 4,
   "metadata": {},
   "outputs": [
    {
     "name": "stdout",
     "output_type": "stream",
     "text": [
      "Requirement already satisfied: trimesh in /home/jovyan/.local/lib/python3.7/site-packages (3.9.42)\n",
      "Requirement already satisfied: numpy in /opt/conda/lib/python3.7/site-packages (from trimesh) (1.18.5)\n",
      "Requirement already satisfied: setuptools in /opt/conda/lib/python3.7/site-packages (from trimesh) (52.0.0.post20210125)\n",
      "\u001b[33mWARNING: You are using pip version 21.1.2; however, version 21.3.1 is available.\n",
      "You should consider upgrading via the '/opt/conda/bin/python -m pip install --upgrade pip' command.\u001b[0m\n",
      "Note: you may need to restart the kernel to use updated packages.\n"
     ]
    }
   ],
   "source": [
    "pip install trimesh --user"
   ]
  },
  {
   "cell_type": "markdown",
   "metadata": {},
   "source": [
    "Although it is written in the output to restart the kernel to use the updated packages, you can continue on as these packages are not yet used in this notebook. Just make sure you start the other notebooks of this exercise after installing the packages (or restart the kernel in the Kernel menu if necessary)."
   ]
  },
  {
   "cell_type": "markdown",
   "metadata": {},
   "source": [
    "## Backup the Neural Network Module Files\n",
    "\n",
    "During the exercise, some files in the models directory are modified to adapt the neural network architecture. In the following, backups of these are generated with the copy (cp) command. \n",
    "\n",
    "The \"-n\" parameter makes sure that the files are not overwritten if they already exist. This prevents that if the original files are changed later and you run these commands again, the original backups are not simply overwritten and lost. Remove this parameter if you want to make new backups."
   ]
  },
  {
   "cell_type": "code",
   "execution_count": 9,
   "metadata": {},
   "outputs": [],
   "source": [
    "!cp -n ./votenet/models/backbone_module.py \"./votenet/models/backbone_module BUP.py\"\n",
    "!cp -n ./votenet/models/loss_helper.py \"./votenet/models/loss_helper BUP.py\"\n",
    "!cp -n ./votenet/models/proposal_module.py \"./votenet/models/proposal_module BUP.py\""
   ]
  },
  {
   "cell_type": "markdown",
   "metadata": {},
   "source": [
    "## Backup Training and Evaluation Files\n",
    "\n",
    "Also, a backup of the relevant files for training and evaluation are made."
   ]
  },
  {
   "cell_type": "code",
   "execution_count": 10,
   "metadata": {},
   "outputs": [],
   "source": [
    "!cp -n ./votenet/train.py \"./votenet/train BUP.py\"\n",
    "!cp -n ./votenet/eval.py \"./votenet/eval BUP.py\""
   ]
  },
  {
   "cell_type": "markdown",
   "metadata": {},
   "source": [
    "# Point Cloud Utility Model\n",
    "\n",
    "Since the structure of the trimesh library has changed since VoteNet was implemented, a few adjustments to the Point Cloud utility module (file 'pc_util.py') are necessary. The 'io' module was renamed to 'exchange'. \n",
    "\n",
    "First, backup the 'pc_util.py' file."
   ]
  },
  {
   "cell_type": "code",
   "execution_count": 1,
   "metadata": {},
   "outputs": [],
   "source": [
    "!cp -n ./votenet/utils/pc_util.py \"./votenet/utils/pc_util BUP.py\""
   ]
  },
  {
   "cell_type": "markdown",
   "metadata": {},
   "source": [
    "Open the 'pc_util.py' file for editing, find all occurrences of 'trimesh.io.export.export_mesh(...)' and replace them by 'trimesh.exchange.export.export_mesh(...)'. There should be 3 occurrences that need to be changed in that way. "
   ]
  },
  {
   "cell_type": "markdown",
   "metadata": {},
   "source": [
    "## Setup PointNet++\n",
    "\n",
    "The backbone module PointNet++ uses C++ and CUDA code for performance reasons. Unfortunately, the code in GitHub is not compiling anymore in its original form and some modifications are necessary. These changes are more of a technical than of a functional (programming related) nature and they will not be discussed in detail here. We have prepared the modified files and provide them in the zip file \"pointnet2 fix.zip\". \n",
    "\n",
    "First, we rename the old \"pointnet2\" folder."
   ]
  },
  {
   "cell_type": "code",
   "execution_count": 1,
   "metadata": {},
   "outputs": [],
   "source": [
    "!mv votenet/pointnet2 \"votenet/pointnet2 BUP\""
   ]
  },
  {
   "cell_type": "markdown",
   "metadata": {},
   "source": [
    "Upload the zip file (\"pointnet2 fix.zip\") into the folder of this notebook and unzip it into the \"votenet\" folder. Now you should have both a subfolder \"pointnet2\" and \"pointnet2 BUP\"."
   ]
  },
  {
   "cell_type": "code",
   "execution_count": 2,
   "metadata": {},
   "outputs": [
    {
     "name": "stdout",
     "output_type": "stream",
     "text": [
      "Archive:  pointnet2 fix.zip\n",
      "   creating: ./votenet/pointnet2/\n",
      "  inflating: ./votenet/pointnet2/pointnet2_modules.py  \n",
      "  inflating: ./votenet/pointnet2/pointnet2_test.py  \n",
      "  inflating: ./votenet/pointnet2/pointnet2_utils.py  \n",
      "  inflating: ./votenet/pointnet2/pytorch_utils.py  \n",
      "  inflating: ./votenet/pointnet2/setup.py  \n",
      "   creating: ./votenet/pointnet2/_ext_src/\n",
      "   creating: ./votenet/pointnet2/_ext_src/include/\n",
      "  inflating: ./votenet/pointnet2/_ext_src/include/ball_query.h  \n",
      "  inflating: ./votenet/pointnet2/_ext_src/include/cuda_utils.h  \n",
      "  inflating: ./votenet/pointnet2/_ext_src/include/group_points.h  \n",
      "  inflating: ./votenet/pointnet2/_ext_src/include/interpolate.h  \n",
      "  inflating: ./votenet/pointnet2/_ext_src/include/sampling.h  \n",
      "  inflating: ./votenet/pointnet2/_ext_src/include/utils.h  \n",
      "   creating: ./votenet/pointnet2/_ext_src/src/\n",
      "  inflating: ./votenet/pointnet2/_ext_src/src/ball_query.cpp  \n",
      "  inflating: ./votenet/pointnet2/_ext_src/src/ball_query_gpu.cu  \n",
      "  inflating: ./votenet/pointnet2/_ext_src/src/bindings.cpp  \n",
      "  inflating: ./votenet/pointnet2/_ext_src/src/group_points.cpp  \n",
      "  inflating: ./votenet/pointnet2/_ext_src/src/group_points_gpu.cu  \n",
      "  inflating: ./votenet/pointnet2/_ext_src/src/interpolate.cpp  \n",
      "  inflating: ./votenet/pointnet2/_ext_src/src/interpolate_gpu.cu  \n",
      "  inflating: ./votenet/pointnet2/_ext_src/src/sampling.cpp  \n",
      "  inflating: ./votenet/pointnet2/_ext_src/src/sampling_gpu.cu  \n"
     ]
    }
   ],
   "source": [
    "!unzip \"pointnet2 fix.zip\" -d ./votenet"
   ]
  },
  {
   "cell_type": "markdown",
   "metadata": {},
   "source": [
    "The libraries provided by PointNet++ must be compiled before they can be used. The compilations cannot be done from the Jupyter notebook, because the setup script must be called from the current directory and we cannot change the current directory within a Jupyter notebook.\n",
    "\n",
    "Therefore, open a terminal window (in the same way as if you would create a new Jupyter notebook with the + symbol below the menu bar and choosing the Terminal option at the bottom). Within the terminal window, change to the pointnet2 folder with the cd command. (Make sure to first change the current directory to the directory this notebook is contained.)"
   ]
  },
  {
   "cell_type": "code",
   "execution_count": null,
   "metadata": {},
   "outputs": [],
   "source": [
    "# This is not executable within this notebook\n",
    "cd votenet/pointnet2"
   ]
  },
  {
   "cell_type": "markdown",
   "metadata": {},
   "source": [
    "Once you changed the current directory to the one of PointNet++, call the Python script \"setup.py\" to install the PointNet++ package. You should see some output that also contains a number of warnings that you can ignore. \n",
    "\n",
    "(The --user arguments tell Python to install it in your user environment rather than in the global environment. Because the global environment is cleaned every time you log out and the instance is restarted, you would otherwise need to run the setup script every time you log into JupyterHub.)"
   ]
  },
  {
   "cell_type": "code",
   "execution_count": null,
   "metadata": {},
   "outputs": [],
   "source": [
    "# This is not executable within this notebook\n",
    "python setup.py install --user"
   ]
  },
  {
   "cell_type": "markdown",
   "metadata": {},
   "source": [
    "To check if the network is now ready to run, first change the current directory to the votenet folder and execute the *main()* function of VoteNet within \"votenet.py\". If no data source is provided, it will run the network with random values just to check that a forward pass is possible. "
   ]
  },
  {
   "cell_type": "code",
   "execution_count": null,
   "metadata": {},
   "outputs": [],
   "source": [
    "# This is not executable within this notebook\n",
    "cd ..\n",
    "python models/votenet.py"
   ]
  },
  {
   "cell_type": "markdown",
   "metadata": {},
   "source": [
    "You should see a long list of (random) tensor outputs. (The critical error/warning of GDK can be ignored as the server does not provide GDK support and also no graphical user outputs.)\n",
    "\n",
    "If no errors occurred, the network should be generally ready to run."
   ]
  },
  {
   "cell_type": "markdown",
   "metadata": {},
   "source": [
    "**Copy notebook 15.2 into the votenet/ISPRS folder and continue now with this notebook.**\n",
    "\n",
    "**Copy the notebooks 15.3 and 15.4 into the current folder together with notebook 15.1 for later use.**\n",
    "\n"
   ]
  }
 ],
 "metadata": {
  "kernelspec": {
   "display_name": "Python 3",
   "language": "python",
   "name": "python3"
  },
  "language_info": {
   "codemirror_mode": {
    "name": "ipython",
    "version": 3
   },
   "file_extension": ".py",
   "mimetype": "text/x-python",
   "name": "python",
   "nbconvert_exporter": "python",
   "pygments_lexer": "ipython3",
   "version": "3.7.8"
  }
 },
 "nbformat": 4,
 "nbformat_minor": 4
}