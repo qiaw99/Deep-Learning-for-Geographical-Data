{
 "cells": [
  {
   "cell_type": "markdown",
   "metadata": {},
   "source": [
    "# Exercise 07.1 - Roof Classification in Aerial Images using Transfer Learning"
   ]
  },
  {
   "cell_type": "markdown",
   "metadata": {},
   "source": [
    "## Setup DevCube GPU"
   ]
  },
  {
   "cell_type": "markdown",
   "metadata": {},
   "source": [
    "Before you can start, you have to find a GPU on the system that is not heavily used by other users. Otherwise you cannot initialize your neural network.\n",
    "\n",
    "\n",
    "**Hint:** the command is **nvidia-smi**, just in case it is displayed above in two lines because of a line break.\n",
    "\n",
    "As a result you get a summary of the GPUs available in the system, their current memory usage (in MiB for megabytes), and their current utilization (in %). There should be six or eight GPUs listed and these are numbered 0 to n-1 (n being the number of GPUs). The GPU numbers (ids) are quite at the beginning of each GPU section and their numbers increase from top to bottom by 1.\n",
    "\n",
    "Find a GPU where the memory usage is low. For this purpose look at the memory usage, which looks something like '365MiB / 16125MiB'. The first value is the already used up memory and the second value is the total memory of the GPU. Look for a GPU where there is a large difference between the first and the second value.\n",
    "\n",
    "**Remember the GPU id and write it in the next line instead of the character X.**"
   ]
  },
  {
   "cell_type": "code",
   "execution_count": 1,
   "metadata": {},
   "outputs": [],
   "source": [
    "# Change X to the GPU number you want to use,\n",
    "# otherwise you will get a Python error\n",
    "# e.g. USE_GPU = 4\n",
    "USE_GPU = 4"
   ]
  },
  {
   "cell_type": "code",
   "execution_count": 2,
   "metadata": {},
   "outputs": [
    {
     "name": "stdout",
     "output_type": "stream",
     "text": [
      "Sun Nov 28 11:33:29 2021       \n",
      "+-----------------------------------------------------------------------------+\n",
      "| NVIDIA-SMI 450.80.02    Driver Version: 450.80.02    CUDA Version: 11.0     |\n",
      "|-------------------------------+----------------------+----------------------+\n",
      "| GPU  Name        Persistence-M| Bus-Id        Disp.A | Volatile Uncorr. ECC |\n",
      "| Fan  Temp  Perf  Pwr:Usage/Cap|         Memory-Usage | GPU-Util  Compute M. |\n",
      "|                               |                      |               MIG M. |\n",
      "|===============================+======================+======================|\n",
      "|   0  Quadro RTX 5000     On   | 00000000:01:00.0 Off |                  Off |\n",
      "| 33%   30C    P8    17W / 230W |      1MiB / 16125MiB |      0%      Default |\n",
      "|                               |                      |                  N/A |\n",
      "+-------------------------------+----------------------+----------------------+\n",
      "|   1  Quadro RTX 5000     On   | 00000000:24:00.0 Off |                  Off |\n",
      "| 33%   28C    P8     7W / 230W |      1MiB / 16125MiB |      0%      Default |\n",
      "|                               |                      |                  N/A |\n",
      "+-------------------------------+----------------------+----------------------+\n",
      "|   2  Quadro RTX 5000     On   | 00000000:41:00.0 Off |                  Off |\n",
      "| 33%   28C    P8     6W / 230W |      1MiB / 16125MiB |      0%      Default |\n",
      "|                               |                      |                  N/A |\n",
      "+-------------------------------+----------------------+----------------------+\n",
      "|   3  Quadro RTX 5000     On   | 00000000:61:00.0 Off |                  Off |\n",
      "| 33%   25C    P8     7W / 230W |      1MiB / 16125MiB |      0%      Default |\n",
      "|                               |                      |                  N/A |\n",
      "+-------------------------------+----------------------+----------------------+\n",
      "|   4  Quadro RTX 5000     On   | 00000000:81:00.0 Off |                  Off |\n",
      "| 33%   27C    P8    11W / 230W |      1MiB / 16125MiB |      0%      Default |\n",
      "|                               |                      |                  N/A |\n",
      "+-------------------------------+----------------------+----------------------+\n",
      "|   5  Quadro RTX 5000     On   | 00000000:A1:00.0 Off |                  Off |\n",
      "| 33%   23C    P8    13W / 230W |      1MiB / 16125MiB |      0%      Default |\n",
      "|                               |                      |                  N/A |\n",
      "+-------------------------------+----------------------+----------------------+\n",
      "|   6  Quadro RTX 5000     On   | 00000000:C1:00.0 Off |                  Off |\n",
      "| 33%   25C    P8     9W / 230W |      1MiB / 16125MiB |      0%      Default |\n",
      "|                               |                      |                  N/A |\n",
      "+-------------------------------+----------------------+----------------------+\n",
      "|   7  Quadro RTX 5000     On   | 00000000:E1:00.0 Off |                  Off |\n",
      "| 33%   25C    P8     7W / 230W |      1MiB / 16125MiB |      0%      Default |\n",
      "|                               |                      |                  N/A |\n",
      "+-------------------------------+----------------------+----------------------+\n",
      "                                                                               \n",
      "+-----------------------------------------------------------------------------+\n",
      "| Processes:                                                                  |\n",
      "|  GPU   GI   CI        PID   Type   Process name                  GPU Memory |\n",
      "|        ID   ID                                                   Usage      |\n",
      "|=============================================================================|\n",
      "|  No running processes found                                                 |\n",
      "+-----------------------------------------------------------------------------+\n"
     ]
    }
   ],
   "source": [
    "!nvidia-smi"
   ]
  },
  {
   "cell_type": "markdown",
   "metadata": {},
   "source": [
    "### Choose one GPU\n",
    "\n",
    "**The following code is very important and must always be executed before using TensorFlow in the exercises, so that only one GPU is used and that it is set in a way that not all its memory is used at once. Otherwise, the other students will not be able to work with this GPU.**\n",
    "\n",
    "The following program code imports the TensorFlow library for Deep Learning and outputs the version of the library.\n",
    "\n",
    "Then, TensorFlow is configured to only see the one GPU whose number you wrote in the above cell (USE_GPU = X) instead of the X.\n",
    "\n",
    "Finally, the GPU is set so that it does not immediately reserve all memory, but only uses more memory when needed. \n",
    "\n",
    "(The comments within the code cell explains a bit of what is happening if you are interested to better understand it. See also the documentation of TensorFlow for an explanation of the used methods.)"
   ]
  },
  {
   "cell_type": "code",
   "execution_count": 3,
   "metadata": {},
   "outputs": [
    {
     "name": "stdout",
     "output_type": "stream",
     "text": [
      "TensorFlow version: 2.3.0\n",
      "\n",
      "Available GPU Devices:\n",
      "  /physical_device:GPU:0 GPU\n",
      "  /physical_device:GPU:1 GPU\n",
      "  /physical_device:GPU:2 GPU\n",
      "  /physical_device:GPU:3 GPU\n",
      "  /physical_device:GPU:4 GPU\n",
      "  /physical_device:GPU:5 GPU\n",
      "  /physical_device:GPU:6 GPU\n",
      "  /physical_device:GPU:7 GPU\n",
      "\n",
      "Visible GPU Devices:\n",
      "  /physical_device:GPU:4 GPU\n"
     ]
    }
   ],
   "source": [
    "# Import TensorFlow \n",
    "import tensorflow as tf\n",
    "\n",
    "# Print the installed TensorFlow version\n",
    "print(f'TensorFlow version: {tf.__version__}\\n')\n",
    "\n",
    "# Get all GPU devices on this server\n",
    "gpu_devices = tf.config.list_physical_devices('GPU')\n",
    "\n",
    "# Print the name and the type of all GPU devices\n",
    "print('Available GPU Devices:')\n",
    "for gpu in gpu_devices:\n",
    "    print(' ', gpu.name, gpu.device_type)\n",
    "    \n",
    "# Set only the GPU specified as USE_GPU to be visible\n",
    "tf.config.set_visible_devices(gpu_devices[USE_GPU], 'GPU')\n",
    "\n",
    "# Get all visible GPU  devices on this server\n",
    "visible_devices = tf.config.get_visible_devices('GPU')\n",
    "\n",
    "# Print the name and the type of all visible GPU devices\n",
    "print('\\nVisible GPU Devices:')\n",
    "for gpu in visible_devices:\n",
    "    print(' ', gpu.name, gpu.device_type)\n",
    "    \n",
    "# Set the visible device(s) to not allocate all available memory at once,\n",
    "# but rather let the memory grow whenever needed\n",
    "for gpu in visible_devices:\n",
    "    tf.config.experimental.set_memory_growth(gpu, True)"
   ]
  },
  {
   "cell_type": "code",
   "execution_count": 4,
   "metadata": {},
   "outputs": [],
   "source": [
    "# please run this cell in order to have the plots displayed in the notebook\n",
    "%matplotlib inline"
   ]
  },
  {
   "cell_type": "code",
   "execution_count": 5,
   "metadata": {},
   "outputs": [],
   "source": [
    "import os\n",
    "from pathlib import Path\n",
    "import numpy as np\n",
    "import matplotlib.pyplot as plt\n",
    "import matplotlib.image as mpimg"
   ]
  },
  {
   "cell_type": "markdown",
   "metadata": {},
   "source": [
    "### Image classification with transfer learning\n",
    "\n",
    "A common and highly effective approach to deep learning on small image datasets is to leverage a `pre-trained network`. A pre-trained network is simply a saved network\n",
    "previously _trained on a large dataset_, typically on a **large-scale image classification task**. \n",
    "If this original dataset is large enough and general enough, then the spatial feature hierarchy learned by the pre-trained network can effectively act as a generic model of our\n",
    "visual world, and hence its features can prove useful for many different computer vision problems, even though these new problems might involve completely different classes\n",
    "from those of the original task. For instance, one might train a network on ImageNet (where classes are mostly animals and everyday objects) and then re-purpose this trained\n",
    "network for something as remote as identifying furniture items in images. Such portability of learned features across different problems is a key advantage of deep\n",
    "learning compared to many older shallow learning approaches, and it makes deep learning very effective for small-data problems.\n",
    "\n",
    "\n",
    "### Learning Objectives:\n",
    "\n",
    "+ understand transfer learning, opportunities, requirements\n",
    "+ learn to use  a pre-trained model for classification of a reduced size dataset\n",
    "+ lean how to extract specific layers from a pre-trained model\n",
    "+ use the Functional API to build new models that includes parts of a pre-trained model\n",
    "\n",
    "\n"
   ]
  },
  {
   "cell_type": "markdown",
   "metadata": {},
   "source": [
    "####  Dataset\n",
    "\n",
    "The Buildings dataset was generated at out chair for teaching purposes. It comprises a reduced number of aerial images, each featuring a building roof belonging to one of the three categories: flat roof, hip roof and other roof type. \n",
    "After unzipping the available zip file, please observe the directory structure. You will learn abut this data organization in this notebook.\n",
    "You will learn further details about the dataset while exploring the data.\n",
    "\n",
    "You can find the path to the zipped dataset in the cell below. By running the following two cells you will unzip the data in you home folder. Please make sure that this notebook is saved in your home directory too.\n",
    "\n",
    "Please run the following two cells only if you have not uncompressed the data for the last week lab."
   ]
  },
  {
   "cell_type": "code",
   "execution_count": 7,
   "metadata": {},
   "outputs": [],
   "source": [
    "data_zip_path=r'coursematerial/GIS/dataset_img_building_roofs.zip'"
   ]
  },
  {
   "cell_type": "markdown",
   "metadata": {},
   "source": [
    "### Data organization"
   ]
  },
  {
   "cell_type": "code",
   "execution_count": 8,
   "metadata": {},
   "outputs": [],
   "source": [
    "# use this function to unzip the zipped dataset file\n",
    "\n",
    "from zipfile import ZipFile\n",
    "import sys\n",
    "\n",
    "def unzip(file_path, dest_path):\n",
    "    '''  unzips a zip compressed file\n",
    "    arg: file_path: the path to the zip file\n",
    "         dest_path: path to the destination directory\n",
    "    '''\n",
    "    with ZipFile(file_path, 'r') as zip_ref:\n",
    "        zip_ref.extractall(dest_path)"
   ]
  },
  {
   "cell_type": "code",
   "execution_count": 9,
   "metadata": {},
   "outputs": [],
   "source": [
    "data_zip_dir = 'dataset_img_building_roofs.zip'\n",
    "data_dir = './'\n",
    "unzip(data_zip_path, data_dir )"
   ]
  },
  {
   "cell_type": "code",
   "execution_count": 10,
   "metadata": {},
   "outputs": [],
   "source": [
    "data_dir = str(Path.home()) + r'/coursematerial/GIS/dataset_img_building_roofs/'\n",
    "\n",
    "train_dir = os.path.join(data_dir, 'train')\n",
    "validation_dir = os.path.join(data_dir, 'validation')\n",
    "test_dir = os.path.join(data_dir, 'test')"
   ]
  },
  {
   "cell_type": "markdown",
   "metadata": {},
   "source": [
    "### Preprocess Dataset\n",
    "Here, we'll perform normalization on images in training and validation set. \n",
    "- You'll use the function [preprocess_input](https://github.com/keras-team/keras-applications/blob/master/keras_applications/resnet50.py) from the ResNet50 model in Keras."
   ]
  },
  {
   "cell_type": "code",
   "execution_count": 11,
   "metadata": {},
   "outputs": [],
   "source": [
    "def preprocess_image_input(input_images):\n",
    "    input_images = input_images.astype('float32')\n",
    "    output_ims = tf.keras.applications.resnet50.preprocess_input(input_images)\n",
    "    return output_ims"
   ]
  },
  {
   "cell_type": "markdown",
   "metadata": {},
   "source": [
    "To train the neural network we need the known directory structure to hold the images. The Keras command flow_from_directory performs this for us. It requires that a folder be laid out as follows:\n",
    "\n",
    "image\n",
    "\n",
    "Each class is a folder that contains images of that class. We can also specify a target size, in this case the original ResNet size of 224x224 is desired."
   ]
  },
  {
   "cell_type": "code",
   "execution_count": 12,
   "metadata": {},
   "outputs": [],
   "source": [
    "# setting some hyperparameters\n",
    "NR_OF_IMAGES = 294\n",
    "BATCH_SIZE = 32\n",
    "STEPS_PER_EPOCH = int(NR_OF_IMAGES/BATCH_SIZE)\n",
    "IMAGE_WIDTH = 224 # the size we choose for all images; the generator will reduce or expand the original dimenssions\n",
    "IMAGE_HEIGHT = 224"
   ]
  },
  {
   "cell_type": "markdown",
   "metadata": {},
   "source": [
    "Instantiate a _ImageDataGenerator_ object for your training images that:\n",
    "\n",
    " * **pre-processes the input in order to be compatible with ResNet50**. For this we will pass `preprocess_image_input`as  to the `processing_function`argument when instantiating the image generator objects.\n",
    "\n",
    " * specify several transformations to be applied on the original images in order to augment the dataset\n",
    " \n",
    " \n",
    " Call _flow_from_directory_ on this object and save the function in a variable _train_generator_.\n",
    " * specify the target directory\n",
    " * pass in the size of the images \n",
    " * specify the batch size \n",
    " * specify the class_mode "
   ]
  },
  {
   "cell_type": "code",
   "execution_count": 13,
   "metadata": {},
   "outputs": [],
   "source": [
    "from tensorflow.keras.preprocessing.image import ImageDataGenerator"
   ]
  },
  {
   "cell_type": "code",
   "execution_count": 14,
   "metadata": {},
   "outputs": [
    {
     "name": "stdout",
     "output_type": "stream",
     "text": [
      "\n",
      "Data generator for training data:\n",
      "Found 294 images belonging to 3 classes.\n"
     ]
    }
   ],
   "source": [
    "train_datagen = ImageDataGenerator(preprocessing_function=preprocess_image_input,\n",
    "                                rotation_range = 30,\n",
    "                                width_shift_range = 0.2, \n",
    "                                height_shift_range=0.2,\n",
    "                                shear_range=0.2,\n",
    "                                  zoom_range=0.2,\n",
    "                                  horizontal_flip=True,\n",
    "                                  fill_mode='nearest') # create an image generator instance\n",
    "\n",
    "print(\"\\nData generator for training data:\")\n",
    "train_generator =  train_datagen.flow_from_directory(\n",
    "        # This is the target directory\n",
    "        train_dir,\n",
    "        # All images will be resized to 64x64\n",
    "        target_size=(IMAGE_WIDTH, IMAGE_HEIGHT),\n",
    "        batch_size = BATCH_SIZE,\n",
    "        # Since we use categorical_crossentropy loss, we need categorical labels \n",
    "        class_mode='categorical') # we would pass in 'binary' for binary classfication (2 classes)"
   ]
  },
  {
   "cell_type": "markdown",
   "metadata": {},
   "source": [
    "Instantiate a _ImageDataGenerator_ object for your validation images that:\n",
    "\n",
    " * **pre-processes the input in order to be compatible with ResNet50**. For this we will pass `preprocess_image_input`as  to the `processing_function`argument when instantiating the image generator objects.\n",
    " \n",
    "Call _flow_from_directory_ on this object and save the function in a variable _validation_generator_.\n",
    " * specify the target directory\n",
    " * pass in the size of the images \n",
    " * specify the batch size \n",
    " * specify the class_mode "
   ]
  },
  {
   "cell_type": "code",
   "execution_count": 15,
   "metadata": {},
   "outputs": [
    {
     "name": "stdout",
     "output_type": "stream",
     "text": [
      "\n",
      "Data generator for validation data:\n",
      "Found 72 images belonging to 3 classes.\n"
     ]
    }
   ],
   "source": [
    "validation_datagen = ImageDataGenerator(preprocessing_function=preprocess_image_input)        \n",
    "print(\"\\nData generator for validation data:\")\n",
    "validation_generator = validation_datagen.flow_from_directory(\n",
    "        validation_dir,\n",
    "        target_size=(IMAGE_WIDTH, IMAGE_HEIGHT),\n",
    "        batch_size= BATCH_SIZE,\n",
    "        class_mode='categorical')"
   ]
  },
  {
   "cell_type": "markdown",
   "metadata": {},
   "source": [
    "Instantiate a _ImageDataGenerator_ object for your test images that:\n",
    "\n",
    " * **pre-processes the input in order to be compatible with ResNet50**. For this we will pass `preprocess_image_input`as  to the `processing_function`argument when instantiating the image generator objects. </br>\n",
    " \n",
    "Call _flow_from_directory_ on this object and save the function in a variable _test_generator_.\n",
    " * specify the target directory\n",
    " * pass in the size of the images \n",
    " * specify the batch size \n",
    " * specify the class_mode "
   ]
  },
  {
   "cell_type": "code",
   "execution_count": 16,
   "metadata": {},
   "outputs": [
    {
     "name": "stdout",
     "output_type": "stream",
     "text": [
      "\n",
      "Data generator for test data:\n",
      "\n",
      "Data generator for test data:\n",
      "Found 123 images belonging to 3 classes.\n"
     ]
    }
   ],
   "source": [
    "test_datagen = ImageDataGenerator(preprocessing_function=preprocess_image_input)\n",
    "print(\"\\nData generator for test data:\")\n",
    "print(\"\\nData generator for test data:\")\n",
    "test_generator = test_datagen.flow_from_directory(\n",
    "        test_dir,\n",
    "        target_size=(IMAGE_WIDTH, IMAGE_HEIGHT),\n",
    "        batch_size=BATCH_SIZE,\n",
    "        class_mode='categorical')"
   ]
  },
  {
   "cell_type": "markdown",
   "metadata": {},
   "source": [
    "### Classifying roofs in aerial images with ResNet50\n",
    "\n",
    "In this tutorial we will be using the `ResNEt50` model. There are two ways to leverage a pre-trained network:\n",
    "1. feature extraction - the method  will be introduced in **this tutorial**\n",
    "2. fine-tuning.\n",
    "."
   ]
  },
  {
   "cell_type": "markdown",
   "metadata": {},
   "source": [
    "#### Define the Network\n",
    "We will be performing transfer learning on **ResNet50** available in Keras.\n",
    "- We'll load pre-trained **imagenet weights** to the model.\n",
    "- We'll choose to retrain only the final classification layers, while keeping  all layers of **ResNet50** frozen.\n",
    "\n",
    "\n",
    "We will pass three arguments to the constructor: </br>\n",
    "`weights`, to specify which weight checkpoint to initialize the model from </br>\n",
    "`include_top`, which refers to including or not the densely-connected classifier on top of the network. By default, this densely-connected classifier would correspond to the 1000 classes from ImageNet. Since we intend to use our own densely-connected classifier, we don’t need to include it.</br>\n",
    "`input_shape`, the shape of the image tensors that we will feed to the network. This argument is purely optional: if we don’t pass it, then the network will be able to process inputs of any size.\n",
    "\n",
    "Input size is 224 x 224."
   ]
  },
  {
   "cell_type": "code",
   "execution_count": 17,
   "metadata": {},
   "outputs": [
    {
     "name": "stdout",
     "output_type": "stream",
     "text": [
      "Downloading data from https://storage.googleapis.com/tensorflow/keras-applications/resnet/resnet50_weights_tf_dim_ordering_tf_kernels_notop.h5\n",
      "94773248/94765736 [==============================] - 1s 0us/step\n"
     ]
    }
   ],
   "source": [
    "# Instantiate the ResNet50 model\n",
    "\n",
    "conv_base =tf.keras.applications.resnet.ResNet50(input_shape=(224, 224, 3),\n",
    "                                               include_top=False,\n",
    "                                               weights='imagenet')"
   ]
  },
  {
   "cell_type": "code",
   "execution_count": 18,
   "metadata": {},
   "outputs": [],
   "source": [
    "# freeze the layers\n",
    "for layer in conv_base.layers:\n",
    "    layer.trainable = False"
   ]
  },
  {
   "cell_type": "code",
   "execution_count": 19,
   "metadata": {},
   "outputs": [],
   "source": [
    "names = []\n",
    "for layer in conv_base.layers:\n",
    "    names.append(layer.name)"
   ]
  },
  {
   "cell_type": "code",
   "execution_count": 20,
   "metadata": {},
   "outputs": [
    {
     "data": {
      "text/plain": [
       "'conv5_block3_out'"
      ]
     },
     "execution_count": 20,
     "metadata": {},
     "output_type": "execute_result"
    }
   ],
   "source": [
    "names[-1] # getting the name of the last conv layer"
   ]
  },
  {
   "cell_type": "code",
   "execution_count": 21,
   "metadata": {},
   "outputs": [
    {
     "name": "stdout",
     "output_type": "stream",
     "text": [
      "last layer output shape:  (None, 7, 7, 2048)\n"
     ]
    }
   ],
   "source": [
    "last_layer = conv_base.get_layer('conv5_block3_out')\n",
    "print('last layer output shape: ', last_layer.output_shape)\n",
    "last_output = last_layer.output"
   ]
  },
  {
   "cell_type": "markdown",
   "metadata": {},
   "source": [
    "At this point, there are two ways we could proceed:\n",
    "\n",
    "1) Running the convolutional base over our dataset, recording its output to a Numpy array on disk, then using this data as input to a standalone densely-connected classifier. This solution is very fast and cheap to run, because it only requires running the convolutional base once for every input image, and the convolutional base is by far the most expensive part of the pipeline. However, for the exact same reason, this technique does not allow   us to leverage data augmentation at all.\n",
    "\n",
    "2) Extending the model we have (conv_base) by adding Dense layers on top, and running the whole thing end-to-end on the input data. This allows us to use data augmentation, because every input image is going through the convolutional base every time it is seen by the model. However, for this same reason, this technique is far more expensive than the first one."
   ]
  },
  {
   "cell_type": "markdown",
   "metadata": {},
   "source": [
    "### Add layers\n",
    "Add some layers that you will train on our tiny roof aerial images dataset.\n",
    "- `Input`: This will take the input data and transform it in a tf tensor. (required when using functional API)\n",
    "-  `GlobalAveragePooling2D`: this will apply [global average pooling](https://www.tensorflow.org/api_docs/python/tf/keras/layers/GlobalAveragePooling2D) on the output of the last conv layer in conv_base\n",
    "- `Flatten`: This will take the output of the `GlobalAveragePooling2D` and flatten it to a vector.\n",
    "- `Dense`: You'll add a dense layer with a relu activation (512 units - feel free to experiment with other values).\n",
    "- `Dense`: After that, add a dense layer (units = nr. of output classes) with a softmax activation.  \n",
    "Then create the model object."
   ]
  },
  {
   "cell_type": "code",
   "execution_count": 22,
   "metadata": {
    "slideshow": {
     "slide_type": "slide"
    }
   },
   "outputs": [],
   "source": [
    "from tensorflow.keras.models import Model\n",
    "from tensorflow.keras.layers import Dense, Flatten, ReLU, GlobalAveragePooling2D, Input"
   ]
  },
  {
   "cell_type": "code",
   "execution_count": 23,
   "metadata": {
    "slideshow": {
     "slide_type": "slide"
    }
   },
   "outputs": [],
   "source": [
    "inputs = Input(shape = (224,224,3))\n",
    "x = conv_base(inputs)\n",
    "x = GlobalAveragePooling2D()(x)\n",
    "x = Flatten()(x)\n",
    "# Add a fully connected layer with 512 hidden units and ReLU activation\n",
    "x = Dense(512, activation='relu')(x)\n",
    "# Add a final sigmoid layer for classification\n",
    "output = Dense(3, activation='softmax')(x)\n",
    "\n",
    "model = Model(inputs, output)"
   ]
  },
  {
   "cell_type": "code",
   "execution_count": 24,
   "metadata": {
    "slideshow": {
     "slide_type": "-"
    }
   },
   "outputs": [
    {
     "name": "stdout",
     "output_type": "stream",
     "text": [
      "Model: \"functional_1\"\n",
      "_________________________________________________________________\n",
      "Layer (type)                 Output Shape              Param #   \n",
      "=================================================================\n",
      "input_2 (InputLayer)         [(None, 224, 224, 3)]     0         \n",
      "_________________________________________________________________\n",
      "resnet50 (Functional)        (None, 7, 7, 2048)        23587712  \n",
      "_________________________________________________________________\n",
      "global_average_pooling2d (Gl (None, 2048)              0         \n",
      "_________________________________________________________________\n",
      "flatten (Flatten)            (None, 2048)              0         \n",
      "_________________________________________________________________\n",
      "dense (Dense)                (None, 512)               1049088   \n",
      "_________________________________________________________________\n",
      "dense_1 (Dense)              (None, 3)                 1539      \n",
      "=================================================================\n",
      "Total params: 24,638,339\n",
      "Trainable params: 1,050,627\n",
      "Non-trainable params: 23,587,712\n",
      "_________________________________________________________________\n"
     ]
    }
   ],
   "source": [
    "model.summary()"
   ]
  },
  {
   "cell_type": "markdown",
   "metadata": {},
   "source": [
    "### Compile and train the model\n",
    "Compile the model, and then train it on the train generator data using `model.fit`\n",
    "- Feel free to adjust the number of epochs.  \n"
   ]
  },
  {
   "cell_type": "code",
   "execution_count": 25,
   "metadata": {},
   "outputs": [],
   "source": [
    "from tensorflow.keras.optimizers import RMSprop"
   ]
  },
  {
   "cell_type": "code",
   "execution_count": 26,
   "metadata": {},
   "outputs": [
    {
     "name": "stdout",
     "output_type": "stream",
     "text": [
      "Epoch 1/12\n",
      "10/10 [==============================] - 4s 378ms/step - loss: 7.7838 - accuracy: 0.4252 - val_loss: 2.1988 - val_accuracy: 0.5417\n",
      "Epoch 2/12\n",
      "10/10 [==============================] - 3s 315ms/step - loss: 1.1639 - accuracy: 0.6224 - val_loss: 1.2556 - val_accuracy: 0.5000\n",
      "Epoch 3/12\n",
      "10/10 [==============================] - 3s 274ms/step - loss: 1.2163 - accuracy: 0.5884 - val_loss: 0.3883 - val_accuracy: 0.9167\n",
      "Epoch 4/12\n",
      "10/10 [==============================] - 3s 278ms/step - loss: 0.6980 - accuracy: 0.7687 - val_loss: 0.6781 - val_accuracy: 0.6667\n",
      "Epoch 5/12\n",
      "10/10 [==============================] - 3s 275ms/step - loss: 0.7372 - accuracy: 0.7347 - val_loss: 0.6459 - val_accuracy: 0.7639\n",
      "Epoch 6/12\n",
      "10/10 [==============================] - 3s 272ms/step - loss: 0.9415 - accuracy: 0.7007 - val_loss: 0.2439 - val_accuracy: 0.9583\n",
      "Epoch 7/12\n",
      "10/10 [==============================] - 3s 300ms/step - loss: 0.6369 - accuracy: 0.7415 - val_loss: 0.2434 - val_accuracy: 0.8889\n",
      "Epoch 8/12\n",
      "10/10 [==============================] - 3s 274ms/step - loss: 0.4844 - accuracy: 0.8231 - val_loss: 0.4820 - val_accuracy: 0.7778\n",
      "Epoch 9/12\n",
      "10/10 [==============================] - 3s 272ms/step - loss: 0.6022 - accuracy: 0.7517 - val_loss: 0.3377 - val_accuracy: 0.8194\n",
      "Epoch 10/12\n",
      "10/10 [==============================] - 3s 276ms/step - loss: 0.5383 - accuracy: 0.8095 - val_loss: 0.5861 - val_accuracy: 0.6944\n",
      "Epoch 11/12\n",
      "10/10 [==============================] - 3s 304ms/step - loss: 0.4155 - accuracy: 0.8401 - val_loss: 0.1100 - val_accuracy: 0.9722\n",
      "Epoch 12/12\n",
      "10/10 [==============================] - 3s 304ms/step - loss: 0.4625 - accuracy: 0.8163 - val_loss: 0.2572 - val_accuracy: 0.8889\n"
     ]
    }
   ],
   "source": [
    "# compile the model\n",
    "model.compile(optimizer=RMSprop(lr=0.001),\n",
    "              loss='categorical_crossentropy',\n",
    "              metrics=['accuracy'])\n",
    "\n",
    "# train the model (adjust the number of epochs from 1 to improve performance)\n",
    "history = model.fit(\n",
    "            train_generator,\n",
    "            validation_data=validation_generator,\n",
    "            epochs=12,\n",
    "            verbose=1)"
   ]
  },
  {
   "cell_type": "markdown",
   "metadata": {},
   "source": [
    "#### Plot the learning curves\n",
    "\n",
    "We will now plot two graphs:\n",
    "* Epoch vs accuracy\n",
    "* Epoch vs loss"
   ]
  },
  {
   "cell_type": "code",
   "execution_count": 27,
   "metadata": {},
   "outputs": [
    {
     "data": {
      "image/png": "[encoded data removed]",
      "text/plain": [
       "<Figure size 432x288 with 1 Axes>"
      ]
     },
     "metadata": {
      "needs_background": "light"
     },
     "output_type": "display_data"
    }
   ],
   "source": [
    "# Run this cell to plot the epoch vs accuracy graph\n",
    "\n",
    "try:\n",
    "    plt.plot(history.history['accuracy'])\n",
    "    plt.plot(history.history['val_accuracy'])\n",
    "except KeyError:\n",
    "    plt.plot(history.history['acc'])\n",
    "    plt.plot(history.history['val_acc'])\n",
    "plt.title('Accuracy vs. epochs')\n",
    "plt.ylabel('Loss')\n",
    "plt.xlabel('Epoch')\n",
    "plt.legend(['Training', 'Validation'], loc='lower right')\n",
    "plt.show() "
   ]
  },
  {
   "cell_type": "code",
   "execution_count": 28,
   "metadata": {},
   "outputs": [
    {
     "data": {
      "image/png": "[encoded data removed]",
      "text/plain": [
       "<Figure size 432x288 with 1 Axes>"
      ]
     },
     "metadata": {
      "needs_background": "light"
     },
     "output_type": "display_data"
    }
   ],
   "source": [
    "#Run this cell to plot the epoch vs loss graph\n",
    "plt.plot(history.history['loss'])\n",
    "plt.plot(history.history['val_loss'])\n",
    "plt.title('Loss vs. epochs')\n",
    "plt.ylabel('Loss')\n",
    "plt.xlabel('Epoch')\n",
    "plt.legend(['Training', 'Validation'], loc='upper right')\n",
    "plt.show() "
   ]
  },
  {
   "cell_type": "markdown",
   "metadata": {},
   "source": [
    "## Predict the class for a single image"
   ]
  },
  {
   "cell_type": "code",
   "execution_count": 29,
   "metadata": {},
   "outputs": [
    {
     "name": "stderr",
     "output_type": "stream",
     "text": [
      "Clipping input data to the valid range for imshow with RGB data ([0..1] for floats or [0..255] for integers).\n"
     ]
    },
    {
     "data": {
      "image/png": "[encoded data removed]",
      "text/plain": [
       "<Figure size 432x288 with 1 Axes>"
      ]
     },
     "metadata": {
      "needs_background": "light"
     },
     "output_type": "display_data"
    }
   ],
   "source": [
    "from keras.preprocessing import image\n",
    "first_batch_of_test_set = test_generator[0]\n",
    "images, labels = first_batch_of_test_set\n",
    "img = images[0] #first_image_in_batch\n",
    "\n",
    "_ = plt.imshow(img)"
   ]
  },
  {
   "cell_type": "code",
   "execution_count": 30,
   "metadata": {},
   "outputs": [],
   "source": [
    "img = np.expand_dims(img,axis=0)"
   ]
  },
  {
   "cell_type": "code",
   "execution_count": 31,
   "metadata": {},
   "outputs": [
    {
     "name": "stdout",
     "output_type": "stream",
     "text": [
      "[[0.18251172 0.31653756 0.50095075]]\n"
     ]
    }
   ],
   "source": [
    "# Make a prediction on one image\n",
    "classif_prob = model.predict(img)\n",
    "print(classif_prob)"
   ]
  },
  {
   "cell_type": "code",
   "execution_count": 32,
   "metadata": {},
   "outputs": [],
   "source": [
    "# Get the indices of the element of the highest probability\n",
    "pred_classes_argmax = np.argmax(classif_prob,axis=-1)"
   ]
  },
  {
   "cell_type": "code",
   "execution_count": 33,
   "metadata": {},
   "outputs": [
    {
     "name": "stdout",
     "output_type": "stream",
     "text": [
      "Predicted class: 2\n"
     ]
    }
   ],
   "source": [
    "# We have one image, get the index of the predicted class.\n",
    "predicted_cls = pred_classes_argmax[0]\n",
    "print(\"Predicted class:\", predicted_cls)"
   ]
  },
  {
   "cell_type": "code",
   "execution_count": 34,
   "metadata": {},
   "outputs": [
    {
     "name": "stdout",
     "output_type": "stream",
     "text": [
      "other_roof\n"
     ]
    }
   ],
   "source": [
    "# Get the class label using the Keras data generator\n",
    "for index,cls in train_generator.class_indices.items():\n",
    "    if cls == predicted_cls:\n",
    "        class_label = index\n",
    "class_label\n",
    "print(class_label)"
   ]
  },
  {
   "cell_type": "code",
   "execution_count": 35,
   "metadata": {},
   "outputs": [
    {
     "data": {
      "text/plain": [
       "'1235.png'"
      ]
     },
     "execution_count": 35,
     "metadata": {},
     "output_type": "execute_result"
    }
   ],
   "source": [
    "# Get example image. The first image of the predicted class folder\n",
    "example_img_path = os.listdir(os.path.join(train_dir,class_label))[0]\n",
    "example_img_path"
   ]
  },
  {
   "cell_type": "code",
   "execution_count": 36,
   "metadata": {},
   "outputs": [
    {
     "data": {
      "text/plain": [
       "'/home/jovyan/coursematerial/GIS/dataset_img_building_roofs/train/other_roof/1235.png'"
      ]
     },
     "execution_count": 36,
     "metadata": {},
     "output_type": "execute_result"
    }
   ],
   "source": [
    "# Get example image full path\n",
    "example_img_full_path = os.path.join(train_dir,class_label,example_img_path)\n",
    "example_img_full_path"
   ]
  },
  {
   "cell_type": "code",
   "execution_count": 37,
   "metadata": {},
   "outputs": [
    {
     "data": {
      "image/png": "[encoded data removed]",
      "text/plain": [
       "<Figure size 432x288 with 1 Axes>"
      ]
     },
     "metadata": {
      "needs_background": "light"
     },
     "output_type": "display_data"
    }
   ],
   "source": [
    "# Show predicted class example\n",
    "img = image.load_img(example_img_full_path, target_size=(64, 64))\n",
    "_= plt.imshow(img)"
   ]
  },
  {
   "cell_type": "markdown",
   "metadata": {},
   "source": [
    "## A closer look at classification scores"
   ]
  },
  {
   "cell_type": "code",
   "execution_count": 38,
   "metadata": {},
   "outputs": [
    {
     "name": "stdout",
     "output_type": "stream",
     "text": [
      "[0.18251237 0.31654012 0.50094754]\n"
     ]
    }
   ],
   "source": [
    "classifications = model.predict(test_generator,2)\n",
    "\n",
    "print(classifications[0])"
   ]
  },
  {
   "cell_type": "code",
   "execution_count": 39,
   "metadata": {},
   "outputs": [
    {
     "name": "stdout",
     "output_type": "stream",
     "text": [
      "Predicted class:2\n"
     ]
    }
   ],
   "source": [
    "predicted_class = np.argmax(classifications[0])\n",
    "print('Predicted class:{}'.format(predicted_class))"
   ]
  },
  {
   "cell_type": "markdown",
   "metadata": {},
   "source": [
    "## Testing Accuracy"
   ]
  },
  {
   "cell_type": "code",
   "execution_count": 40,
   "metadata": {},
   "outputs": [
    {
     "name": "stdout",
     "output_type": "stream",
     "text": [
      "4/4 [==============================] - 0s 123ms/step - loss: 0.8805 - accuracy: 0.7154\n",
      "loss:0.8805084228515625,accuracy:0.7154471278190613.\n"
     ]
    }
   ],
   "source": [
    "values = model.evaluate(test_generator, steps=len(test_generator))\n",
    "print(\"{}:{},{}:{}.\".format(model.metrics_names[0],values[0],model.metrics_names[1],values[1]))"
   ]
  }
 ],
 "metadata": {
  "kernelspec": {
   "display_name": "Python 3 (ipykernel)",
   "language": "python",
   "name": "python3"
  },
  "language_info": {
   "codemirror_mode": {
    "name": "ipython",
    "version": 3
   },
   "file_extension": ".py",
   "mimetype": "text/x-python",
   "name": "python",
   "nbconvert_exporter": "python",
   "pygments_lexer": "ipython3",
   "version": "3.10.2"
  },
  "latex_envs": {
   "LaTeX_envs_menu_present": true,
   "autoclose": false,
   "autocomplete": true,
   "bibliofile": "biblio.bib",
   "cite_by": "apalike",
   "current_citInitial": 1,
   "eqLabelWithNumbers": true,
   "eqNumInitial": 1,
   "hotkeys": {
    "equation": "Ctrl-E",
    "itemize": "Ctrl-I"
   },
   "labels_anchors": false,
   "latex_user_defs": false,
   "report_style_numbering": false,
   "user_envs_cfg": false
  }
 },
 "nbformat": 4,
 "nbformat_minor": 4
}
